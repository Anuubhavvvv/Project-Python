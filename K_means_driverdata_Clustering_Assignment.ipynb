{
  "nbformat": 4,
  "nbformat_minor": 0,
  "metadata": {
    "kernelspec": {
      "display_name": "Python 3",
      "language": "python",
      "name": "python3"
    },
    "language_info": {
      "codemirror_mode": {
        "name": "ipython",
        "version": 3
      },
      "file_extension": ".py",
      "mimetype": "text/x-python",
      "name": "python",
      "nbconvert_exporter": "python",
      "pygments_lexer": "ipython3",
      "version": "3.7.3"
    },
    "colab": {
      "name": "K-means_driverdata_Clustering Assignment.ipynb",
      "provenance": [],
      "include_colab_link": true
    }
  },
  "cells": [
    {
      "cell_type": "markdown",
      "metadata": {
        "id": "view-in-github",
        "colab_type": "text"
      },
      "source": [
        "<a href=\"https://colab.research.google.com/github/Anuubhavvvv/Project-Python/blob/main/K_means_driverdata_Clustering_Assignment.ipynb\" target=\"_parent\"><img src=\"https://colab.research.google.com/assets/colab-badge.svg\" alt=\"Open In Colab\"/></a>"
      ]
    },
    {
      "cell_type": "markdown",
      "metadata": {
        "id": "VM6qBpPHUM76"
      },
      "source": [
        "### Driver data clustering\n",
        "1) Read the dataset<br>\n",
        "2) Remove handle null values if any<br>\n",
        "3) Depict 'Distance_Feature' and 'Speeding_Feature' on a scatter chart.<br> \n",
        "4) Based on 'Distance_Feature' and 'Speeding_Feature' cluster the dataset using KMeans<br>\n",
        "5) Apply K_Means separately with 2,3,4 and 5 clusters. Depict different clusters on a scatter chart with their respective cluster centriods marked.<br>\n",
        "6) Scale the data using Standard Scaler<br>\n",
        "7) Determine appropriate number of cluster using Elbow method after data has been scaled<br>\n",
        "8) Repeat Q5 with appropriate number of cluster obtained from Elbow method after scaling<br>\n"
      ]
    },
    {
      "cell_type": "code",
      "metadata": {
        "id": "jAv-WEf-UM8G"
      },
      "source": [
        "import numpy  as np \n",
        "import pandas as pd\n",
        "import matplotlib.pyplot as plt\n",
        "import seaborn as sns"
      ],
      "execution_count": null,
      "outputs": []
    },
    {
      "cell_type": "code",
      "metadata": {
        "id": "p1Kj5TOcUSTC"
      },
      "source": [
        "df=pd.read_csv('/content/driverdata.csv')"
      ],
      "execution_count": null,
      "outputs": []
    },
    {
      "cell_type": "code",
      "metadata": {
        "colab": {
          "base_uri": "https://localhost:8080/",
          "height": 203
        },
        "id": "ESYR5WKaUiyg",
        "outputId": "06f99bd1-4c19-495c-bc42-5929eafeafee"
      },
      "source": [
        "df.head()"
      ],
      "execution_count": null,
      "outputs": [
        {
          "output_type": "execute_result",
          "data": {
            "text/html": [
              "<div>\n",
              "<style scoped>\n",
              "    .dataframe tbody tr th:only-of-type {\n",
              "        vertical-align: middle;\n",
              "    }\n",
              "\n",
              "    .dataframe tbody tr th {\n",
              "        vertical-align: top;\n",
              "    }\n",
              "\n",
              "    .dataframe thead th {\n",
              "        text-align: right;\n",
              "    }\n",
              "</style>\n",
              "<table border=\"1\" class=\"dataframe\">\n",
              "  <thead>\n",
              "    <tr style=\"text-align: right;\">\n",
              "      <th></th>\n",
              "      <th>Driver_ID</th>\n",
              "      <th>Distance_Feature</th>\n",
              "      <th>Speeding_Feature</th>\n",
              "    </tr>\n",
              "  </thead>\n",
              "  <tbody>\n",
              "    <tr>\n",
              "      <th>0</th>\n",
              "      <td>3423311935</td>\n",
              "      <td>71.24</td>\n",
              "      <td>28</td>\n",
              "    </tr>\n",
              "    <tr>\n",
              "      <th>1</th>\n",
              "      <td>3423313212</td>\n",
              "      <td>52.53</td>\n",
              "      <td>25</td>\n",
              "    </tr>\n",
              "    <tr>\n",
              "      <th>2</th>\n",
              "      <td>3423313724</td>\n",
              "      <td>64.54</td>\n",
              "      <td>27</td>\n",
              "    </tr>\n",
              "    <tr>\n",
              "      <th>3</th>\n",
              "      <td>3423311373</td>\n",
              "      <td>55.69</td>\n",
              "      <td>22</td>\n",
              "    </tr>\n",
              "    <tr>\n",
              "      <th>4</th>\n",
              "      <td>3423310999</td>\n",
              "      <td>54.58</td>\n",
              "      <td>25</td>\n",
              "    </tr>\n",
              "  </tbody>\n",
              "</table>\n",
              "</div>"
            ],
            "text/plain": [
              "    Driver_ID  Distance_Feature  Speeding_Feature\n",
              "0  3423311935             71.24                28\n",
              "1  3423313212             52.53                25\n",
              "2  3423313724             64.54                27\n",
              "3  3423311373             55.69                22\n",
              "4  3423310999             54.58                25"
            ]
          },
          "metadata": {},
          "execution_count": 3
        }
      ]
    },
    {
      "cell_type": "code",
      "metadata": {
        "colab": {
          "base_uri": "https://localhost:8080/"
        },
        "id": "wOVldL5gUkmY",
        "outputId": "bc2b6c93-afa2-4b4f-e5e5-0f5d222c9208"
      },
      "source": [
        "df.shape\n"
      ],
      "execution_count": null,
      "outputs": [
        {
          "output_type": "execute_result",
          "data": {
            "text/plain": [
              "(4000, 3)"
            ]
          },
          "metadata": {},
          "execution_count": 4
        }
      ]
    },
    {
      "cell_type": "code",
      "metadata": {
        "colab": {
          "base_uri": "https://localhost:8080/"
        },
        "id": "iCch5xsU-JHw",
        "outputId": "571c4067-86ff-4a5f-c25d-44535c27c5a3"
      },
      "source": [
        "df.isnull().sum()"
      ],
      "execution_count": 8,
      "outputs": [
        {
          "output_type": "execute_result",
          "data": {
            "text/plain": [
              "Driver_ID           0\n",
              "Distance_Feature    0\n",
              "Speeding_Feature    0\n",
              "dtype: int64"
            ]
          },
          "metadata": {},
          "execution_count": 8
        }
      ]
    },
    {
      "cell_type": "code",
      "metadata": {
        "colab": {
          "base_uri": "https://localhost:8080/",
          "height": 280
        },
        "id": "_XXN0UZQ-TMg",
        "outputId": "4f972404-ed30-4458-9b9f-5fd8de25ee84"
      },
      "source": [
        "plt.scatter(df['Distance_Feature'],df['Speeding_Feature'])\n",
        "plt.xlabel('Distance_Feature')\n",
        "plt.ylabel('Speeding_Feature')\n",
        "plt.show()"
      ],
      "execution_count": 10,
      "outputs": [
        {
          "output_type": "display_data",
          "data": {
            "image/png": "[encoded data removed]",
            "text/plain": [
              "<Figure size 432x288 with 1 Axes>"
            ]
          },
          "metadata": {
            "needs_background": "light"
          }
        }
      ]
    },
    {
      "cell_type": "code",
      "metadata": {
        "id": "nXXuiPN3R7fO"
      },
      "source": [
        "x=df.iloc[:,1:]"
      ],
      "execution_count": 25,
      "outputs": []
    },
    {
      "cell_type": "code",
      "metadata": {
        "id": "Zur_oZDQTIKL"
      },
      "source": [
        "from sklearn.cluster import KMeans"
      ],
      "execution_count": 13,
      "outputs": []
    },
    {
      "cell_type": "code",
      "metadata": {
        "colab": {
          "base_uri": "https://localhost:8080/"
        },
        "id": "_e23oDV-TTVG",
        "outputId": "c02a04c1-4d5d-4c6f-a58b-519b12296fdf"
      },
      "source": [
        "wc=[]\n",
        "for i in range(1,20):\n",
        "  cluster=KMeans(n_clusters=i)\n",
        "  cluster.fit(x)\n",
        "  wc.append(cluster.inertia_)\n",
        "print(wc)"
      ],
      "execution_count": 18,
      "outputs": [
        {
          "output_type": "stream",
          "name": "stdout",
          "text": [
            "[12184626.129627975, 1316420.8509477186, 992634.060670247, 719601.1096991899, 534637.7967931301, 372837.10752638336, 319824.1635640675, 276883.8948169812, 253093.02935866071, 230772.20896939439, 208977.7818573231, 193318.63236928874, 173408.21887367012, 159223.97408906714, 149263.2051099065, 139930.8826876157, 132347.91268341363, 125299.58051161317, 120077.8901571778]\n"
          ]
        }
      ]
    },
    {
      "cell_type": "code",
      "metadata": {
        "colab": {
          "base_uri": "https://localhost:8080/",
          "height": 293
        },
        "id": "gIFPUpElTfsG",
        "outputId": "7aa166a3-a5f8-49fd-e4ff-3f4de5a9caee"
      },
      "source": [
        "plt.plot(range(1,20),wc,marker='*')"
      ],
      "execution_count": 20,
      "outputs": [
        {
          "output_type": "execute_result",
          "data": {
            "text/plain": [
              "[<matplotlib.lines.Line2D at 0x7f6ffeb5a2d0>]"
            ]
          },
          "metadata": {},
          "execution_count": 20
        },
        {
          "output_type": "display_data",
          "data": {
            "image/png": "[encoded data removed]",
            "text/plain": [
              "<Figure size 432x288 with 1 Axes>"
            ]
          },
          "metadata": {
            "needs_background": "light"
          }
        }
      ]
    },
    {
      "cell_type": "code",
      "metadata": {
        "colab": {
          "base_uri": "https://localhost:8080/"
        },
        "id": "XEiCPS-JVUHg",
        "outputId": "c3b0ee2e-7f99-4f03-b614-aadd36131dba"
      },
      "source": [
        "cluster2= KMeans(n_clusters=2)\n",
        "cluster2.fit(x)\n",
        "cluster2_pred=cluster2.predict(x)\n",
        "len(cluster2_pred)\n"
      ],
      "execution_count": 28,
      "outputs": [
        {
          "output_type": "execute_result",
          "data": {
            "text/plain": [
              "4000"
            ]
          },
          "metadata": {},
          "execution_count": 28
        }
      ]
    },
    {
      "cell_type": "code",
      "metadata": {
        "colab": {
          "base_uri": "https://localhost:8080/"
        },
        "id": "yJH3FmU0WJw2",
        "outputId": "0e4b0ce0-e796-4f8a-c682-ee8b7f1ac66a"
      },
      "source": [
        "cluster2_pred[:5]"
      ],
      "execution_count": 30,
      "outputs": [
        {
          "output_type": "execute_result",
          "data": {
            "text/plain": [
              "array([0, 0, 0, 0, 0], dtype=int32)"
            ]
          },
          "metadata": {},
          "execution_count": 30
        }
      ]
    },
    {
      "cell_type": "code",
      "metadata": {
        "id": "1iJ-KYIYWNay"
      },
      "source": [
        "from sklearn.preprocessing import StandardScaler"
      ],
      "execution_count": 31,
      "outputs": []
    },
    {
      "cell_type": "code",
      "metadata": {
        "colab": {
          "base_uri": "https://localhost:8080/"
        },
        "id": "ttHDI2wdWz1r",
        "outputId": "b5378aa4-2a25-4f39-efb0-0fdeee086755"
      },
      "source": [
        "sc= StandardScaler()\n",
        "x_sc=sc.fit_transform(x)\n",
        "x_sc\n"
      ],
      "execution_count": 32,
      "outputs": [
        {
          "output_type": "execute_result",
          "data": {
            "text/plain": [
              "array([[-0.0898104 ,  1.26061251],\n",
              "       [-0.43977285,  1.04174351],\n",
              "       [-0.215131  ,  1.18765617],\n",
              "       ...,\n",
              "       [ 1.77447381,  0.09331115],\n",
              "       [ 1.87229869, -0.41738319],\n",
              "       [ 1.72060465, -0.12555785]])"
            ]
          },
          "metadata": {},
          "execution_count": 32
        }
      ]
    },
    {
      "cell_type": "code",
      "metadata": {
        "colab": {
          "base_uri": "https://localhost:8080/",
          "height": 417
        },
        "id": "GtkRYVPtXEA6",
        "outputId": "4cb7e1cb-f278-4d57-876e-91081c1a9227"
      },
      "source": [
        "x_sc=pd.DataFrame(x_sc,columns=['Distance_Feature_sc','Speed_Feature_sc'])\n",
        "x_sc"
      ],
      "execution_count": 33,
      "outputs": [
        {
          "output_type": "execute_result",
          "data": {
            "text/html": [
              "<div>\n",
              "<style scoped>\n",
              "    .dataframe tbody tr th:only-of-type {\n",
              "        vertical-align: middle;\n",
              "    }\n",
              "\n",
              "    .dataframe tbody tr th {\n",
              "        vertical-align: top;\n",
              "    }\n",
              "\n",
              "    .dataframe thead th {\n",
              "        text-align: right;\n",
              "    }\n",
              "</style>\n",
              "<table border=\"1\" class=\"dataframe\">\n",
              "  <thead>\n",
              "    <tr style=\"text-align: right;\">\n",
              "      <th></th>\n",
              "      <th>Distance_Feature_sc</th>\n",
              "      <th>Speed_Feature_sc</th>\n",
              "    </tr>\n",
              "  </thead>\n",
              "  <tbody>\n",
              "    <tr>\n",
              "      <th>0</th>\n",
              "      <td>-0.089810</td>\n",
              "      <td>1.260613</td>\n",
              "    </tr>\n",
              "    <tr>\n",
              "      <th>1</th>\n",
              "      <td>-0.439773</td>\n",
              "      <td>1.041744</td>\n",
              "    </tr>\n",
              "    <tr>\n",
              "      <th>2</th>\n",
              "      <td>-0.215131</td>\n",
              "      <td>1.187656</td>\n",
              "    </tr>\n",
              "    <tr>\n",
              "      <th>3</th>\n",
              "      <td>-0.380666</td>\n",
              "      <td>0.822875</td>\n",
              "    </tr>\n",
              "    <tr>\n",
              "      <th>4</th>\n",
              "      <td>-0.401428</td>\n",
              "      <td>1.041744</td>\n",
              "    </tr>\n",
              "    <tr>\n",
              "      <th>...</th>\n",
              "      <td>...</td>\n",
              "      <td>...</td>\n",
              "    </tr>\n",
              "    <tr>\n",
              "      <th>3995</th>\n",
              "      <td>1.571155</td>\n",
              "      <td>-0.052602</td>\n",
              "    </tr>\n",
              "    <tr>\n",
              "      <th>3996</th>\n",
              "      <td>1.872860</td>\n",
              "      <td>-0.417383</td>\n",
              "    </tr>\n",
              "    <tr>\n",
              "      <th>3997</th>\n",
              "      <td>1.774474</td>\n",
              "      <td>0.093311</td>\n",
              "    </tr>\n",
              "    <tr>\n",
              "      <th>3998</th>\n",
              "      <td>1.872299</td>\n",
              "      <td>-0.417383</td>\n",
              "    </tr>\n",
              "    <tr>\n",
              "      <th>3999</th>\n",
              "      <td>1.720605</td>\n",
              "      <td>-0.125558</td>\n",
              "    </tr>\n",
              "  </tbody>\n",
              "</table>\n",
              "<p>4000 rows × 2 columns</p>\n",
              "</div>"
            ],
            "text/plain": [
              "      Distance_Feature_sc  Speed_Feature_sc\n",
              "0               -0.089810          1.260613\n",
              "1               -0.439773          1.041744\n",
              "2               -0.215131          1.187656\n",
              "3               -0.380666          0.822875\n",
              "4               -0.401428          1.041744\n",
              "...                   ...               ...\n",
              "3995             1.571155         -0.052602\n",
              "3996             1.872860         -0.417383\n",
              "3997             1.774474          0.093311\n",
              "3998             1.872299         -0.417383\n",
              "3999             1.720605         -0.125558\n",
              "\n",
              "[4000 rows x 2 columns]"
            ]
          },
          "metadata": {},
          "execution_count": 33
        }
      ]
    }
  ]
}