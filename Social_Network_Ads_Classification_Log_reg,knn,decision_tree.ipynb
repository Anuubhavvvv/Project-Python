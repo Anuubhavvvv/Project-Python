{
  "nbformat": 4,
  "nbformat_minor": 0,
  "metadata": {
    "kernelspec": {
      "display_name": "Python 3",
      "language": "python",
      "name": "python3"
    },
    "language_info": {
      "codemirror_mode": {
        "name": "ipython",
        "version": 3
      },
      "file_extension": ".py",
      "mimetype": "text/x-python",
      "name": "python",
      "nbconvert_exporter": "python",
      "pygments_lexer": "ipython3",
      "version": "3.7.3"
    },
    "colab": {
      "name": "Social_Network_Ads_Classification_Log_reg,knn,decision_tree.ipynb",
      "provenance": [],
      "include_colab_link": true
    }
  },
  "cells": [
    {
      "cell_type": "markdown",
      "metadata": {
        "id": "view-in-github",
        "colab_type": "text"
      },
      "source": [
        "<a href=\"https://colab.research.google.com/github/Anuubhavvvv/Project-Python/blob/main/Social_Network_Ads_Classification_Log_reg%2Cknn%2Cdecision_tree.ipynb\" target=\"_parent\"><img src=\"https://colab.research.google.com/assets/colab-badge.svg\" alt=\"Open In Colab\"/></a>"
      ]
    },
    {
      "cell_type": "markdown",
      "metadata": {
        "id": "iNi63HxqiC7Z"
      },
      "source": [
        "#### Social_Network_Ads ML Exercise\n",
        "\n",
        "1) Read the dataset 'Social_Network_Ads.csv'<br>\n",
        "2) Remove/handle null values<br>\n",
        "3) Considering 'Age' and 'Estimated Salary' as input features and 'Purchased' as output feature, generate the following models after splitting the dataset into training and test dataset with test_size as 25%.<br>\n",
        "a) Logistic Regression <br>\n",
        "b) Decision Tree <br>\n",
        "c) RandomForest <br>\n",
        "d) KNN<br>\n",
        "and predict the Purchased class label.<br>\n",
        "4) Generate confusion matrix and classification report for each of these models.<br> \n",
        "5) Compute Accuracy score for each of these models.<br>\n",
        "6) Scale the input features using feature Scaling and then repeat question 3, 4 and 5<br>"
      ]
    },
    {
      "cell_type": "code",
      "metadata": {
        "id": "qkZ9p1h4iC7a"
      },
      "source": [
        "import pandas as pd\n",
        "import numpy as np\n",
        "import matplotlib.pyplot as plt\n",
        "import seaborn as sns"
      ],
      "execution_count": 4,
      "outputs": []
    },
    {
      "cell_type": "code",
      "metadata": {
        "id": "UIz8vOxKidhW"
      },
      "source": [
        "df= pd.read_csv('/content/Social_Network_Ads.csv')"
      ],
      "execution_count": 5,
      "outputs": []
    },
    {
      "cell_type": "code",
      "metadata": {
        "id": "QD5BSfZTioCU",
        "colab": {
          "base_uri": "https://localhost:8080/",
          "height": 203
        },
        "outputId": "ad540649-db6a-4bb4-c846-43291be9c129"
      },
      "source": [
        "df.head()"
      ],
      "execution_count": 6,
      "outputs": [
        {
          "output_type": "execute_result",
          "data": {
            "text/html": [
              "<div>\n",
              "<style scoped>\n",
              "    .dataframe tbody tr th:only-of-type {\n",
              "        vertical-align: middle;\n",
              "    }\n",
              "\n",
              "    .dataframe tbody tr th {\n",
              "        vertical-align: top;\n",
              "    }\n",
              "\n",
              "    .dataframe thead th {\n",
              "        text-align: right;\n",
              "    }\n",
              "</style>\n",
              "<table border=\"1\" class=\"dataframe\">\n",
              "  <thead>\n",
              "    <tr style=\"text-align: right;\">\n",
              "      <th></th>\n",
              "      <th>User ID</th>\n",
              "      <th>Gender</th>\n",
              "      <th>Age</th>\n",
              "      <th>EstimatedSalary</th>\n",
              "      <th>Purchased</th>\n",
              "    </tr>\n",
              "  </thead>\n",
              "  <tbody>\n",
              "    <tr>\n",
              "      <th>0</th>\n",
              "      <td>15624510</td>\n",
              "      <td>Male</td>\n",
              "      <td>19</td>\n",
              "      <td>19000</td>\n",
              "      <td>0</td>\n",
              "    </tr>\n",
              "    <tr>\n",
              "      <th>1</th>\n",
              "      <td>15810944</td>\n",
              "      <td>Male</td>\n",
              "      <td>35</td>\n",
              "      <td>20000</td>\n",
              "      <td>0</td>\n",
              "    </tr>\n",
              "    <tr>\n",
              "      <th>2</th>\n",
              "      <td>15668575</td>\n",
              "      <td>Female</td>\n",
              "      <td>26</td>\n",
              "      <td>43000</td>\n",
              "      <td>0</td>\n",
              "    </tr>\n",
              "    <tr>\n",
              "      <th>3</th>\n",
              "      <td>15603246</td>\n",
              "      <td>Female</td>\n",
              "      <td>27</td>\n",
              "      <td>57000</td>\n",
              "      <td>0</td>\n",
              "    </tr>\n",
              "    <tr>\n",
              "      <th>4</th>\n",
              "      <td>15804002</td>\n",
              "      <td>Male</td>\n",
              "      <td>19</td>\n",
              "      <td>76000</td>\n",
              "      <td>0</td>\n",
              "    </tr>\n",
              "  </tbody>\n",
              "</table>\n",
              "</div>"
            ],
            "text/plain": [
              "    User ID  Gender  Age  EstimatedSalary  Purchased\n",
              "0  15624510    Male   19            19000          0\n",
              "1  15810944    Male   35            20000          0\n",
              "2  15668575  Female   26            43000          0\n",
              "3  15603246  Female   27            57000          0\n",
              "4  15804002    Male   19            76000          0"
            ]
          },
          "metadata": {},
          "execution_count": 6
        }
      ]
    },
    {
      "cell_type": "code",
      "metadata": {
        "id": "cbKLjGTUjpye"
      },
      "source": [
        "df ['Gender']=df['Gender'].apply({'Male':0 ,'Female':1}.get)"
      ],
      "execution_count": 7,
      "outputs": []
    },
    {
      "cell_type": "code",
      "metadata": {
        "colab": {
          "base_uri": "https://localhost:8080/",
          "height": 203
        },
        "id": "94ZdGPB0nsD5",
        "outputId": "44236365-a2f4-484a-aaea-7863e9a5fab9"
      },
      "source": [
        "df.head()"
      ],
      "execution_count": 8,
      "outputs": [
        {
          "output_type": "execute_result",
          "data": {
            "text/html": [
              "<div>\n",
              "<style scoped>\n",
              "    .dataframe tbody tr th:only-of-type {\n",
              "        vertical-align: middle;\n",
              "    }\n",
              "\n",
              "    .dataframe tbody tr th {\n",
              "        vertical-align: top;\n",
              "    }\n",
              "\n",
              "    .dataframe thead th {\n",
              "        text-align: right;\n",
              "    }\n",
              "</style>\n",
              "<table border=\"1\" class=\"dataframe\">\n",
              "  <thead>\n",
              "    <tr style=\"text-align: right;\">\n",
              "      <th></th>\n",
              "      <th>User ID</th>\n",
              "      <th>Gender</th>\n",
              "      <th>Age</th>\n",
              "      <th>EstimatedSalary</th>\n",
              "      <th>Purchased</th>\n",
              "    </tr>\n",
              "  </thead>\n",
              "  <tbody>\n",
              "    <tr>\n",
              "      <th>0</th>\n",
              "      <td>15624510</td>\n",
              "      <td>0</td>\n",
              "      <td>19</td>\n",
              "      <td>19000</td>\n",
              "      <td>0</td>\n",
              "    </tr>\n",
              "    <tr>\n",
              "      <th>1</th>\n",
              "      <td>15810944</td>\n",
              "      <td>0</td>\n",
              "      <td>35</td>\n",
              "      <td>20000</td>\n",
              "      <td>0</td>\n",
              "    </tr>\n",
              "    <tr>\n",
              "      <th>2</th>\n",
              "      <td>15668575</td>\n",
              "      <td>1</td>\n",
              "      <td>26</td>\n",
              "      <td>43000</td>\n",
              "      <td>0</td>\n",
              "    </tr>\n",
              "    <tr>\n",
              "      <th>3</th>\n",
              "      <td>15603246</td>\n",
              "      <td>1</td>\n",
              "      <td>27</td>\n",
              "      <td>57000</td>\n",
              "      <td>0</td>\n",
              "    </tr>\n",
              "    <tr>\n",
              "      <th>4</th>\n",
              "      <td>15804002</td>\n",
              "      <td>0</td>\n",
              "      <td>19</td>\n",
              "      <td>76000</td>\n",
              "      <td>0</td>\n",
              "    </tr>\n",
              "  </tbody>\n",
              "</table>\n",
              "</div>"
            ],
            "text/plain": [
              "    User ID  Gender  Age  EstimatedSalary  Purchased\n",
              "0  15624510       0   19            19000          0\n",
              "1  15810944       0   35            20000          0\n",
              "2  15668575       1   26            43000          0\n",
              "3  15603246       1   27            57000          0\n",
              "4  15804002       0   19            76000          0"
            ]
          },
          "metadata": {},
          "execution_count": 8
        }
      ]
    },
    {
      "cell_type": "code",
      "metadata": {
        "id": "W6qzZk9WoH61"
      },
      "source": [
        "x=['Gender',\t'Age',\t'EstimatedSalary']\n",
        "\n",
        "y=['Purchased']"
      ],
      "execution_count": 9,
      "outputs": []
    },
    {
      "cell_type": "code",
      "metadata": {
        "id": "GXNpjK_Ciqig",
        "colab": {
          "base_uri": "https://localhost:8080/"
        },
        "outputId": "14cf27e6-0a3d-45aa-cfd4-ebcf898407d0"
      },
      "source": [
        "df.isnull().sum()"
      ],
      "execution_count": 10,
      "outputs": [
        {
          "output_type": "execute_result",
          "data": {
            "text/plain": [
              "User ID            0\n",
              "Gender             0\n",
              "Age                0\n",
              "EstimatedSalary    0\n",
              "Purchased          0\n",
              "dtype: int64"
            ]
          },
          "metadata": {},
          "execution_count": 10
        }
      ]
    },
    {
      "cell_type": "code",
      "metadata": {
        "id": "OAKkHlKOisFP",
        "colab": {
          "base_uri": "https://localhost:8080/"
        },
        "outputId": "27b76e2f-881a-4850-84f1-6a083322ed74"
      },
      "source": [
        "x = df.iloc[:,:-1]\n",
        "y = df.iloc[:,-1]\n",
        "print(x.shape)\n",
        "print(y.shape)"
      ],
      "execution_count": 11,
      "outputs": [
        {
          "output_type": "stream",
          "text": [
            "(400, 4)\n",
            "(400,)\n"
          ],
          "name": "stdout"
        }
      ]
    },
    {
      "cell_type": "code",
      "metadata": {
        "colab": {
          "base_uri": "https://localhost:8080/"
        },
        "id": "dxg4oFlxjGCO",
        "outputId": "203f101c-30c3-4eda-e269-4e9adaf327e4"
      },
      "source": [
        "from sklearn.model_selection import train_test_split\n",
        "x_train,x_test,y_train,y_test = train_test_split(x,y,test_size=0.25)\n",
        "print(x_train.shape)\n",
        "print(x_test.shape)\n",
        "print(y_train.shape)\n",
        "print(y_test.shape)"
      ],
      "execution_count": 12,
      "outputs": [
        {
          "output_type": "stream",
          "text": [
            "(300, 4)\n",
            "(100, 4)\n",
            "(300,)\n",
            "(100,)\n"
          ],
          "name": "stdout"
        }
      ]
    },
    {
      "cell_type": "code",
      "metadata": {
        "id": "WL0dQfLrn8YF"
      },
      "source": [
        ""
      ],
      "execution_count": 12,
      "outputs": []
    },
    {
      "cell_type": "code",
      "metadata": {
        "id": "DifvJR7cjKiw"
      },
      "source": [
        "from sklearn.neighbors import  KNeighborsRegressor\n",
        "from sklearn.neighbors import KNeighborsClassifier"
      ],
      "execution_count": 13,
      "outputs": []
    },
    {
      "cell_type": "code",
      "metadata": {
        "id": "kt0UTP27jakg"
      },
      "source": [
        "k1=KNeighborsClassifier(n_neighbors=10)"
      ],
      "execution_count": 14,
      "outputs": []
    },
    {
      "cell_type": "code",
      "metadata": {
        "colab": {
          "base_uri": "https://localhost:8080/"
        },
        "id": "GMVmGHR_j8FA",
        "outputId": "e438d122-e0d7-4670-b64b-5ec6593daefd"
      },
      "source": [
        "k1.fit(x_train,y_train)\n"
      ],
      "execution_count": 15,
      "outputs": [
        {
          "output_type": "execute_result",
          "data": {
            "text/plain": [
              "KNeighborsClassifier(algorithm='auto', leaf_size=30, metric='minkowski',\n",
              "                     metric_params=None, n_jobs=None, n_neighbors=10, p=2,\n",
              "                     weights='uniform')"
            ]
          },
          "metadata": {},
          "execution_count": 15
        }
      ]
    },
    {
      "cell_type": "code",
      "metadata": {
        "colab": {
          "base_uri": "https://localhost:8080/"
        },
        "id": "cZ4qTXgJn_oR",
        "outputId": "1e28f225-4c06-40c3-e524-765f896eb79a"
      },
      "source": [
        "print('Training Accuracy',k1.score(x_train,y_train))\n",
        "print('Testing Accuracy',k1.score(x_test,y_test))"
      ],
      "execution_count": 16,
      "outputs": [
        {
          "output_type": "stream",
          "text": [
            "Training Accuracy 0.7733333333333333\n",
            "Testing Accuracy 0.8\n"
          ],
          "name": "stdout"
        }
      ]
    },
    {
      "cell_type": "code",
      "metadata": {
        "colab": {
          "base_uri": "https://localhost:8080/"
        },
        "id": "svAom0PBpupg",
        "outputId": "0589c43b-9d68-47d5-d58d-9575c31d3c5c"
      },
      "source": [
        "ypre =k1.predict(x_test)\n",
        "print(ypre)"
      ],
      "execution_count": 17,
      "outputs": [
        {
          "output_type": "stream",
          "text": [
            "[0 1 0 1 0 1 0 0 0 1 0 0 0 0 1 1 0 1 0 0 0 0 0 1 0 0 0 0 0 0 0 0 0 0 0 0 0\n",
            " 0 1 0 0 0 0 0 0 0 0 0 1 0 0 0 0 0 0 0 1 0 1 0 0 1 0 1 1 0 1 0 0 0 1 0 0 0\n",
            " 1 1 0 0 0 0 0 0 0 0 0 0 0 0 0 0 0 0 0 1 0 0 0 0 1 0]\n"
          ],
          "name": "stdout"
        }
      ]
    },
    {
      "cell_type": "code",
      "metadata": {
        "id": "FcraRsgzpWAr"
      },
      "source": [
        "from sklearn.metrics import confusion_matrix , classification_report"
      ],
      "execution_count": 18,
      "outputs": []
    },
    {
      "cell_type": "code",
      "metadata": {
        "colab": {
          "base_uri": "https://localhost:8080/"
        },
        "id": "k8Mmib46stxS",
        "outputId": "33a13ec1-848e-403d-ffb1-4aa4a072b532"
      },
      "source": [
        "cr= classification_report(y_test,ypre)\n",
        "print(cr)"
      ],
      "execution_count": 19,
      "outputs": [
        {
          "output_type": "stream",
          "text": [
            "              precision    recall  f1-score   support\n",
            "\n",
            "           0       0.81      0.93      0.86        69\n",
            "           1       0.76      0.52      0.62        31\n",
            "\n",
            "    accuracy                           0.80       100\n",
            "   macro avg       0.79      0.72      0.74       100\n",
            "weighted avg       0.80      0.80      0.79       100\n",
            "\n"
          ],
          "name": "stdout"
        }
      ]
    },
    {
      "cell_type": "code",
      "metadata": {
        "id": "I3Md8D3gqzD_"
      },
      "source": [
        "c= confusion_matrix(ypre,y_test)"
      ],
      "execution_count": 20,
      "outputs": []
    },
    {
      "cell_type": "code",
      "metadata": {
        "colab": {
          "base_uri": "https://localhost:8080/"
        },
        "id": "v6wdQMG-q94I",
        "outputId": "d708013e-8b9d-400d-e66d-7cb8a63145a2"
      },
      "source": [
        "print(c)"
      ],
      "execution_count": 21,
      "outputs": [
        {
          "output_type": "stream",
          "text": [
            "[[64 15]\n",
            " [ 5 16]]\n"
          ],
          "name": "stdout"
        }
      ]
    },
    {
      "cell_type": "code",
      "metadata": {
        "id": "UGsR1F9mrQos"
      },
      "source": [
        "from sklearn.preprocessing import StandardScaler"
      ],
      "execution_count": 22,
      "outputs": []
    },
    {
      "cell_type": "code",
      "metadata": {
        "id": "ReGi6Z_ssSiX"
      },
      "source": [
        "sc= StandardScaler()"
      ],
      "execution_count": 24,
      "outputs": []
    },
    {
      "cell_type": "markdown",
      "metadata": {
        "id": "DBxdcoCxWJ5W"
      },
      "source": [
        "**logistic regression**\n"
      ]
    },
    {
      "cell_type": "code",
      "metadata": {
        "id": "sKdkBpEJWP_d"
      },
      "source": [
        "from sklearn.linear_model import LogisticRegression"
      ],
      "execution_count": 25,
      "outputs": []
    },
    {
      "cell_type": "code",
      "metadata": {
        "colab": {
          "base_uri": "https://localhost:8080/"
        },
        "id": "8be-No0xWhim",
        "outputId": "ec601d2c-9776-4d98-c376-10cf9fcbdc3e"
      },
      "source": [
        "model=LogisticRegression()\n",
        "model.fit(x_train,y_train)"
      ],
      "execution_count": 27,
      "outputs": [
        {
          "output_type": "execute_result",
          "data": {
            "text/plain": [
              "LogisticRegression(C=1.0, class_weight=None, dual=False, fit_intercept=True,\n",
              "                   intercept_scaling=1, l1_ratio=None, max_iter=100,\n",
              "                   multi_class='auto', n_jobs=None, penalty='l2',\n",
              "                   random_state=None, solver='lbfgs', tol=0.0001, verbose=0,\n",
              "                   warm_start=False)"
            ]
          },
          "metadata": {},
          "execution_count": 27
        }
      ]
    },
    {
      "cell_type": "code",
      "metadata": {
        "id": "PlUfqCTeW1xK"
      },
      "source": [
        ""
      ],
      "execution_count": null,
      "outputs": []
    },
    {
      "cell_type": "code",
      "metadata": {
        "colab": {
          "base_uri": "https://localhost:8080/"
        },
        "id": "qLFQxXzQW2GZ",
        "outputId": "6180f6df-244c-43de-e859-d7e590408b21"
      },
      "source": [
        "print(model.score(x_test,y_test))\n",
        "pred=model.predict(x_test)"
      ],
      "execution_count": 33,
      "outputs": [
        {
          "output_type": "stream",
          "text": [
            "0.84\n"
          ],
          "name": "stdout"
        }
      ]
    },
    {
      "cell_type": "code",
      "metadata": {
        "colab": {
          "base_uri": "https://localhost:8080/"
        },
        "id": "nHBD8y65XVEn",
        "outputId": "31ca6b99-a41c-4ec5-d513-e1ee4e4bc8a2"
      },
      "source": [
        "print(confusion_matrix(y_test,pred))"
      ],
      "execution_count": 34,
      "outputs": [
        {
          "output_type": "stream",
          "text": [
            "[[65  4]\n",
            " [12 19]]\n"
          ],
          "name": "stdout"
        }
      ]
    },
    {
      "cell_type": "code",
      "metadata": {
        "colab": {
          "base_uri": "https://localhost:8080/"
        },
        "id": "dvMVy8xDXvoC",
        "outputId": "584eb444-bace-4478-e313-f5e05d1fe319"
      },
      "source": [
        "print(classification_report(y_test,pred))"
      ],
      "execution_count": 35,
      "outputs": [
        {
          "output_type": "stream",
          "text": [
            "              precision    recall  f1-score   support\n",
            "\n",
            "           0       0.84      0.94      0.89        69\n",
            "           1       0.83      0.61      0.70        31\n",
            "\n",
            "    accuracy                           0.84       100\n",
            "   macro avg       0.84      0.78      0.80       100\n",
            "weighted avg       0.84      0.84      0.83       100\n",
            "\n"
          ],
          "name": "stdout"
        }
      ]
    },
    {
      "cell_type": "markdown",
      "metadata": {
        "id": "Agvyuh9jX6EN"
      },
      "source": [
        "**Decision tree**"
      ]
    },
    {
      "cell_type": "code",
      "metadata": {
        "id": "Z88y0HnQXvvq"
      },
      "source": [
        "from sklearn.tree import DecisionTreeClassifier"
      ],
      "execution_count": 37,
      "outputs": []
    },
    {
      "cell_type": "code",
      "metadata": {
        "colab": {
          "base_uri": "https://localhost:8080/"
        },
        "id": "LrY71DowYPXk",
        "outputId": "788a87e1-86f3-468f-85f4-02d1a078d399"
      },
      "source": [
        "dt=DecisionTreeClassifier()\n",
        "dt.fit(x_train,y_train)"
      ],
      "execution_count": 40,
      "outputs": [
        {
          "output_type": "execute_result",
          "data": {
            "text/plain": [
              "DecisionTreeClassifier(ccp_alpha=0.0, class_weight=None, criterion='gini',\n",
              "                       max_depth=None, max_features=None, max_leaf_nodes=None,\n",
              "                       min_impurity_decrease=0.0, min_impurity_split=None,\n",
              "                       min_samples_leaf=1, min_samples_split=2,\n",
              "                       min_weight_fraction_leaf=0.0, presort='deprecated',\n",
              "                       random_state=None, splitter='best')"
            ]
          },
          "metadata": {},
          "execution_count": 40
        }
      ]
    },
    {
      "cell_type": "code",
      "metadata": {
        "colab": {
          "base_uri": "https://localhost:8080/"
        },
        "id": "kBJqFS98YPnt",
        "outputId": "841fbead-7caf-4f20-8cfd-44aa21b2357e"
      },
      "source": [
        "print(dt.score(x_test,y_test))"
      ],
      "execution_count": 43,
      "outputs": [
        {
          "output_type": "stream",
          "text": [
            "0.86\n"
          ],
          "name": "stdout"
        }
      ]
    },
    {
      "cell_type": "code",
      "metadata": {
        "colab": {
          "base_uri": "https://localhost:8080/"
        },
        "id": "bJhKDqfVY2xj",
        "outputId": "248a849d-f6f9-4838-8ee8-1ca2d14a903e"
      },
      "source": [
        "dt_pred=dt.predict(x_test)\n",
        "dt_pred\n"
      ],
      "execution_count": 46,
      "outputs": [
        {
          "output_type": "execute_result",
          "data": {
            "text/plain": [
              "array([0, 0, 0, 0, 0, 1, 0, 0, 0, 1, 0, 0, 0, 0, 1, 0, 1, 1, 0, 0, 0, 1,\n",
              "       1, 1, 1, 0, 0, 0, 1, 0, 0, 0, 0, 0, 0, 0, 0, 1, 1, 0, 0, 0, 1, 0,\n",
              "       0, 0, 0, 1, 1, 0, 1, 0, 0, 1, 0, 0, 1, 0, 1, 0, 0, 1, 0, 1, 0, 1,\n",
              "       1, 0, 0, 0, 1, 0, 0, 0, 1, 1, 0, 0, 1, 0, 0, 0, 1, 1, 1, 0, 0, 1,\n",
              "       0, 1, 0, 0, 1, 1, 0, 1, 0, 0, 0, 0])"
            ]
          },
          "metadata": {},
          "execution_count": 46
        }
      ]
    },
    {
      "cell_type": "code",
      "metadata": {
        "colab": {
          "base_uri": "https://localhost:8080/"
        },
        "id": "D4kLT5hMZOIK",
        "outputId": "63126312-f3e9-4d07-e324-825ded7aefb0"
      },
      "source": [
        "print(confusion_matrix(y_test,dt_pred))\n"
      ],
      "execution_count": 49,
      "outputs": [
        {
          "output_type": "stream",
          "text": [
            "[[60  9]\n",
            " [ 5 26]]\n"
          ],
          "name": "stdout"
        }
      ]
    },
    {
      "cell_type": "code",
      "metadata": {
        "colab": {
          "base_uri": "https://localhost:8080/"
        },
        "id": "vcXXJQ72ZXK7",
        "outputId": "be391a8a-9376-46ca-ed26-d46f4db8d506"
      },
      "source": [
        "print(classification_report(y_test,pred))"
      ],
      "execution_count": 50,
      "outputs": [
        {
          "output_type": "stream",
          "text": [
            "              precision    recall  f1-score   support\n",
            "\n",
            "           0       0.84      0.94      0.89        69\n",
            "           1       0.83      0.61      0.70        31\n",
            "\n",
            "    accuracy                           0.84       100\n",
            "   macro avg       0.84      0.78      0.80       100\n",
            "weighted avg       0.84      0.84      0.83       100\n",
            "\n"
          ],
          "name": "stdout"
        }
      ]
    },
    {
      "cell_type": "markdown",
      "metadata": {
        "id": "5kHFkIS9ZgfM"
      },
      "source": [
        "**RANDOM FOREST**"
      ]
    },
    {
      "cell_type": "code",
      "metadata": {
        "colab": {
          "base_uri": "https://localhost:8080/"
        },
        "id": "yUGWaYHtZfL0",
        "outputId": "85e4f0db-6742-4a6a-bafb-32b0b76c67f7"
      },
      "source": [
        "from sklearn.ensemble import RandomForestClassifier\n",
        "rf= RandomForestClassifier()\n",
        "rf.fit(x_train,y_train)"
      ],
      "execution_count": 51,
      "outputs": [
        {
          "output_type": "execute_result",
          "data": {
            "text/plain": [
              "RandomForestClassifier(bootstrap=True, ccp_alpha=0.0, class_weight=None,\n",
              "                       criterion='gini', max_depth=None, max_features='auto',\n",
              "                       max_leaf_nodes=None, max_samples=None,\n",
              "                       min_impurity_decrease=0.0, min_impurity_split=None,\n",
              "                       min_samples_leaf=1, min_samples_split=2,\n",
              "                       min_weight_fraction_leaf=0.0, n_estimators=100,\n",
              "                       n_jobs=None, oob_score=False, random_state=None,\n",
              "                       verbose=0, warm_start=False)"
            ]
          },
          "metadata": {},
          "execution_count": 51
        }
      ]
    },
    {
      "cell_type": "code",
      "metadata": {
        "colab": {
          "base_uri": "https://localhost:8080/"
        },
        "id": "rxIOhl1FZ50u",
        "outputId": "43fe3665-67c3-408f-8b32-c75fb0327ecb"
      },
      "source": [
        "print(rf.score(x_test,y_test))"
      ],
      "execution_count": 57,
      "outputs": [
        {
          "output_type": "stream",
          "text": [
            "0.95\n"
          ],
          "name": "stdout"
        }
      ]
    },
    {
      "cell_type": "code",
      "metadata": {
        "colab": {
          "base_uri": "https://localhost:8080/"
        },
        "id": "y15M5o2iaVEA",
        "outputId": "46837e3c-681c-4ac8-cbb8-8acdd2efc142"
      },
      "source": [
        "rf.pred=rf.predict(x_test)\n",
        "rf.pred"
      ],
      "execution_count": 59,
      "outputs": [
        {
          "output_type": "execute_result",
          "data": {
            "text/plain": [
              "array([0, 1, 0, 1, 1, 1, 0, 0, 1, 1, 0, 0, 0, 0, 1, 1, 1, 1, 0, 0, 0, 1,\n",
              "       1, 1, 1, 0, 0, 0, 1, 0, 0, 0, 0, 0, 0, 0, 0, 0, 1, 0, 0, 0, 0, 0,\n",
              "       0, 0, 0, 1, 1, 0, 1, 0, 0, 1, 0, 0, 1, 0, 1, 0, 0, 1, 0, 1, 0, 1,\n",
              "       1, 0, 0, 0, 1, 0, 0, 0, 1, 1, 0, 0, 1, 0, 0, 0, 1, 0, 1, 0, 0, 1,\n",
              "       0, 0, 0, 0, 1, 1, 0, 1, 0, 0, 0, 0])"
            ]
          },
          "metadata": {},
          "execution_count": 59
        }
      ]
    },
    {
      "cell_type": "code",
      "metadata": {
        "colab": {
          "base_uri": "https://localhost:8080/"
        },
        "id": "0IvyfR7Yagtz",
        "outputId": "5ad1ec00-4bd9-4c7f-90e5-40764ebeebb1"
      },
      "source": [
        "print(confusion_matrix(y_test,rf.pred))"
      ],
      "execution_count": 61,
      "outputs": [
        {
          "output_type": "stream",
          "text": [
            "[[64  5]\n",
            " [ 0 31]]\n"
          ],
          "name": "stdout"
        }
      ]
    },
    {
      "cell_type": "code",
      "metadata": {
        "colab": {
          "base_uri": "https://localhost:8080/"
        },
        "id": "YEf-vKk1axRu",
        "outputId": "1b11805a-b969-4d26-a474-2b936e2c7029"
      },
      "source": [
        "print(classification_report(y_test,rf.pred))"
      ],
      "execution_count": 62,
      "outputs": [
        {
          "output_type": "stream",
          "text": [
            "              precision    recall  f1-score   support\n",
            "\n",
            "           0       1.00      0.93      0.96        69\n",
            "           1       0.86      1.00      0.93        31\n",
            "\n",
            "    accuracy                           0.95       100\n",
            "   macro avg       0.93      0.96      0.94       100\n",
            "weighted avg       0.96      0.95      0.95       100\n",
            "\n"
          ],
          "name": "stdout"
        }
      ]
    },
    {
      "cell_type": "markdown",
      "metadata": {
        "id": "CL-1-qrgbhnh"
      },
      "source": [
        "**Scaling**"
      ]
    },
    {
      "cell_type": "code",
      "metadata": {
        "id": "iK9cUUmkbnWf"
      },
      "source": [
        "from sklearn.model_selection import cross_val_score\n"
      ],
      "execution_count": 64,
      "outputs": []
    },
    {
      "cell_type": "markdown",
      "metadata": {
        "id": "26q4fSD4b7LV"
      },
      "source": [
        "**KNN**"
      ]
    },
    {
      "cell_type": "code",
      "metadata": {
        "colab": {
          "base_uri": "https://localhost:8080/"
        },
        "id": "hrfi9LTQcDcz",
        "outputId": "849ffaa3-e43a-4390-af7c-b4b64393062e"
      },
      "source": [
        "for i  in range(1,15):\n",
        "  score=cross_val_score(KNeighborsClassifier(n_neighbors=i),x,y)\n",
        "  print(f'At n {i},accuracy score is {score.mean()}')\n"
      ],
      "execution_count": 74,
      "outputs": [
        {
          "output_type": "stream",
          "text": [
            "At n 1,accuracy score is 0.665\n",
            "At n 2,accuracy score is 0.73\n",
            "At n 3,accuracy score is 0.7074999999999999\n",
            "At n 4,accuracy score is 0.7275\n",
            "At n 5,accuracy score is 0.7275\n",
            "At n 6,accuracy score is 0.7475\n",
            "At n 7,accuracy score is 0.74\n",
            "At n 8,accuracy score is 0.755\n",
            "At n 9,accuracy score is 0.755\n",
            "At n 10,accuracy score is 0.755\n",
            "At n 11,accuracy score is 0.75\n",
            "At n 12,accuracy score is 0.7525\n",
            "At n 13,accuracy score is 0.7525000000000001\n",
            "At n 14,accuracy score is 0.7424999999999999\n"
          ],
          "name": "stdout"
        }
      ]
    },
    {
      "cell_type": "code",
      "metadata": {
        "id": "6HPWNYnQc0MK"
      },
      "source": [
        "cv_knn=KNeighborsClassifier(n_neighbors=10)"
      ],
      "execution_count": 75,
      "outputs": []
    },
    {
      "cell_type": "code",
      "metadata": {
        "colab": {
          "base_uri": "https://localhost:8080/"
        },
        "id": "h3NHkhcYc-i7",
        "outputId": "fd97f4b8-05e8-4167-e1cf-9b7e509e8811"
      },
      "source": [
        "cv_knn.fit(x_train,y_train)"
      ],
      "execution_count": 76,
      "outputs": [
        {
          "output_type": "execute_result",
          "data": {
            "text/plain": [
              "KNeighborsClassifier(algorithm='auto', leaf_size=30, metric='minkowski',\n",
              "                     metric_params=None, n_jobs=None, n_neighbors=10, p=2,\n",
              "                     weights='uniform')"
            ]
          },
          "metadata": {},
          "execution_count": 76
        }
      ]
    },
    {
      "cell_type": "code",
      "metadata": {
        "colab": {
          "base_uri": "https://localhost:8080/"
        },
        "id": "If3-MPT8dGjG",
        "outputId": "28782ad2-8724-4056-d926-65672945e70c"
      },
      "source": [
        "print(cv_knn.score(x_test,y_test))\n",
        "cv_knn_pred=cv_knn.predict(x_test)\n",
        "print(cv_knn_pred)"
      ],
      "execution_count": 83,
      "outputs": [
        {
          "output_type": "stream",
          "text": [
            "0.8\n",
            "[0 1 0 1 0 1 0 0 0 1 0 0 0 0 1 1 0 1 0 0 0 0 0 1 0 0 0 0 0 0 0 0 0 0 0 0 0\n",
            " 0 1 0 0 0 0 0 0 0 0 0 1 0 0 0 0 0 0 0 1 0 1 0 0 1 0 1 1 0 1 0 0 0 1 0 0 0\n",
            " 1 1 0 0 0 0 0 0 0 0 0 0 0 0 0 0 0 0 0 1 0 0 0 0 1 0]\n"
          ],
          "name": "stdout"
        }
      ]
    },
    {
      "cell_type": "code",
      "metadata": {
        "colab": {
          "base_uri": "https://localhost:8080/"
        },
        "id": "leRAoM8xdprI",
        "outputId": "cb161520-14c5-4171-b1d3-7d2ba2caed37"
      },
      "source": [
        "print(confusion_matrix(y_test,cv_knn_pred))"
      ],
      "execution_count": 84,
      "outputs": [
        {
          "output_type": "stream",
          "text": [
            "[[64  5]\n",
            " [15 16]]\n"
          ],
          "name": "stdout"
        }
      ]
    },
    {
      "cell_type": "code",
      "metadata": {
        "colab": {
          "base_uri": "https://localhost:8080/"
        },
        "id": "bzbESIESd3Fi",
        "outputId": "0e500837-dba5-446d-c6e8-a02e941529ed"
      },
      "source": [
        "print(classification_report(y_test,cv_knn_pred))"
      ],
      "execution_count": 85,
      "outputs": [
        {
          "output_type": "stream",
          "text": [
            "              precision    recall  f1-score   support\n",
            "\n",
            "           0       0.81      0.93      0.86        69\n",
            "           1       0.76      0.52      0.62        31\n",
            "\n",
            "    accuracy                           0.80       100\n",
            "   macro avg       0.79      0.72      0.74       100\n",
            "weighted avg       0.80      0.80      0.79       100\n",
            "\n"
          ],
          "name": "stdout"
        }
      ]
    },
    {
      "cell_type": "markdown",
      "metadata": {
        "id": "oHXlajf8eDPH"
      },
      "source": [
        "**Log** **reg**"
      ]
    },
    {
      "cell_type": "code",
      "metadata": {
        "colab": {
          "base_uri": "https://localhost:8080/"
        },
        "id": "d94sz3wTeCyY",
        "outputId": "27fc0b46-885d-47b9-aad4-dc0cf66dadea"
      },
      "source": [
        "for i  in range(1,15):\n",
        "  score=cross_val_score(DecisionTreeClassifier(max_depth=i),x,y)\n",
        "  print(f'At n {i},accuracy score is {score.mean()}')"
      ],
      "execution_count": 88,
      "outputs": [
        {
          "output_type": "stream",
          "text": [
            "At n 1,accuracy score is 0.7825000000000001\n",
            "At n 2,accuracy score is 0.8875\n",
            "At n 3,accuracy score is 0.8425\n",
            "At n 4,accuracy score is 0.805\n",
            "At n 5,accuracy score is 0.8099999999999999\n",
            "At n 6,accuracy score is 0.8\n",
            "At n 7,accuracy score is 0.805\n",
            "At n 8,accuracy score is 0.8175000000000001\n",
            "At n 9,accuracy score is 0.8125\n",
            "At n 10,accuracy score is 0.8074999999999999\n",
            "At n 11,accuracy score is 0.8074999999999999\n",
            "At n 12,accuracy score is 0.8099999999999999\n",
            "At n 13,accuracy score is 0.8125\n",
            "At n 14,accuracy score is 0.8099999999999999\n"
          ],
          "name": "stdout"
        }
      ]
    },
    {
      "cell_type": "code",
      "metadata": {
        "colab": {
          "base_uri": "https://localhost:8080/"
        },
        "id": "zlt5euxnfQPs",
        "outputId": "221a74c3-3488-4eaf-fb69-20f7ffd41094"
      },
      "source": [
        "criterion=['gini','entropy']\n",
        "\n",
        "for i in criterion:\n",
        "  score=cross_val_score(DecisionTreeClassifier(criterion=i),x,y)\n",
        "  print(f'At {i},accuracy is {score.mean()}')\n",
        "  print('At',i,\",accuracy score is\",score.mean())"
      ],
      "execution_count": 93,
      "outputs": [
        {
          "output_type": "stream",
          "text": [
            "At gini,accuracy is 0.7975\n",
            "At gini ,accuracy score is 0.7975\n",
            "At entropy,accuracy is 0.8099999999999999\n",
            "At entropy ,accuracy score is 0.8099999999999999\n"
          ],
          "name": "stdout"
        }
      ]
    },
    {
      "cell_type": "code",
      "metadata": {
        "colab": {
          "base_uri": "https://localhost:8080/"
        },
        "id": "7mkfWa-UfxMD",
        "outputId": "221ea8d1-f721-4368-bbea-4ff7bdafab83"
      },
      "source": [
        "\n",
        "for i in range(3,15):\n",
        "  score=cross_val_score(DecisionTreeClassifier(min_samples_split=i),x,y)\n",
        "  print(f'At min_samples_split {i},accuracy score is {score.mean()}')"
      ],
      "execution_count": 95,
      "outputs": [
        {
          "output_type": "stream",
          "text": [
            "At min_samples_split 3,accuracy score is 0.7975\n",
            "At min_samples_split 4,accuracy score is 0.8\n",
            "At min_samples_split 5,accuracy score is 0.805\n",
            "At min_samples_split 6,accuracy score is 0.7849999999999999\n",
            "At min_samples_split 7,accuracy score is 0.7925000000000001\n",
            "At min_samples_split 8,accuracy score is 0.7875\n",
            "At min_samples_split 9,accuracy score is 0.7849999999999999\n",
            "At min_samples_split 10,accuracy score is 0.7925\n",
            "At min_samples_split 11,accuracy score is 0.8\n",
            "At min_samples_split 12,accuracy score is 0.8025\n",
            "At min_samples_split 13,accuracy score is 0.8025\n",
            "At min_samples_split 14,accuracy score is 0.79\n"
          ],
          "name": "stdout"
        }
      ]
    },
    {
      "cell_type": "code",
      "metadata": {
        "colab": {
          "base_uri": "https://localhost:8080/"
        },
        "id": "-K6ZXj0Cf8O2",
        "outputId": "11d8ece7-3774-4bec-b90b-907af9c27152"
      },
      "source": [
        "cv_dt=DecisionTreeClassifier(criterion='gini',max_depth=2,min_samples_split=5)\n",
        "cv_dt.fit(x_train,y_train)"
      ],
      "execution_count": 97,
      "outputs": [
        {
          "output_type": "execute_result",
          "data": {
            "text/plain": [
              "DecisionTreeClassifier(ccp_alpha=0.0, class_weight=None, criterion='gini',\n",
              "                       max_depth=2, max_features=None, max_leaf_nodes=None,\n",
              "                       min_impurity_decrease=0.0, min_impurity_split=None,\n",
              "                       min_samples_leaf=1, min_samples_split=5,\n",
              "                       min_weight_fraction_leaf=0.0, presort='deprecated',\n",
              "                       random_state=None, splitter='best')"
            ]
          },
          "metadata": {},
          "execution_count": 97
        }
      ]
    },
    {
      "cell_type": "code",
      "metadata": {
        "colab": {
          "base_uri": "https://localhost:8080/"
        },
        "id": "waPfsmIDgz1d",
        "outputId": "a58bb517-bd21-4c46-e688-0aead662060f"
      },
      "source": [
        "cv_dt.score(x_test,y_test)"
      ],
      "execution_count": 99,
      "outputs": [
        {
          "output_type": "execute_result",
          "data": {
            "text/plain": [
              "0.94"
            ]
          },
          "metadata": {},
          "execution_count": 99
        }
      ]
    },
    {
      "cell_type": "code",
      "metadata": {
        "id": "0_F3afjEhBlC"
      },
      "source": [
        "cv_dt_pred=cv_dt.predict(x_test)"
      ],
      "execution_count": 101,
      "outputs": []
    },
    {
      "cell_type": "code",
      "metadata": {
        "colab": {
          "base_uri": "https://localhost:8080/"
        },
        "id": "yW_qTiPNhN_X",
        "outputId": "c2bf5a3e-3c4f-4980-8971-6fa5f23ce4cd"
      },
      "source": [
        "print(cv_dt_pred)"
      ],
      "execution_count": 102,
      "outputs": [
        {
          "output_type": "stream",
          "text": [
            "[0 1 0 1 0 1 0 0 1 1 0 0 0 0 1 1 1 1 0 0 0 1 1 1 1 0 0 0 1 0 0 0 0 0 0 0 0\n",
            " 0 1 0 0 0 0 0 0 0 0 1 1 0 1 0 0 1 0 0 1 0 1 0 0 1 0 1 0 1 1 0 0 0 1 0 0 0\n",
            " 1 1 0 0 1 0 0 0 1 0 1 0 0 1 0 0 0 0 1 1 0 1 0 0 0 0]\n"
          ],
          "name": "stdout"
        }
      ]
    },
    {
      "cell_type": "code",
      "metadata": {
        "colab": {
          "base_uri": "https://localhost:8080/"
        },
        "id": "BJqH5VrZhYQk",
        "outputId": "f88074f7-1d76-46fd-ae39-77885ecd3ad5"
      },
      "source": [
        "confusion_matrix(y_test,cv_dt_pred)"
      ],
      "execution_count": 103,
      "outputs": [
        {
          "output_type": "execute_result",
          "data": {
            "text/plain": [
              "array([[64,  5],\n",
              "       [ 1, 30]])"
            ]
          },
          "metadata": {},
          "execution_count": 103
        }
      ]
    },
    {
      "cell_type": "code",
      "metadata": {
        "colab": {
          "base_uri": "https://localhost:8080/",
          "height": 69
        },
        "id": "UEIyxQ1JhdUU",
        "outputId": "ada39ae9-d2a1-407a-9a4d-ad023993f6a7"
      },
      "source": [
        "classification_report(y_test,cv_dt_pred)"
      ],
      "execution_count": 104,
      "outputs": [
        {
          "output_type": "execute_result",
          "data": {
            "application/vnd.google.colaboratory.intrinsic+json": {
              "type": "string"
            },
            "text/plain": [
              "'              precision    recall  f1-score   support\\n\\n           0       0.98      0.93      0.96        69\\n           1       0.86      0.97      0.91        31\\n\\n    accuracy                           0.94       100\\n   macro avg       0.92      0.95      0.93       100\\nweighted avg       0.95      0.94      0.94       100\\n'"
            ]
          },
          "metadata": {},
          "execution_count": 104
        }
      ]
    }
  ]
}