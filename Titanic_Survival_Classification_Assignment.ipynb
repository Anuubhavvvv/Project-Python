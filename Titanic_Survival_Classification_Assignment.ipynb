{
 "cells": [
  {
   "cell_type": "markdown",
   "metadata": {},
   "source": [
    "### Feature Description\n",
    "<table>\n",
    "<tr><th>Feature Name</th><th>Definition</th><th>Key</th></tr>\n",
    "<tr><td>survival</td><td> Survival </td><td>0 = No, 1 = Yes</td></tr>\n",
    "<tr><td>pclass</td> <td>Ticket class</td><td>1 = 1st, 2 = 2nd, 3 = 3rd</td></tr>\n",
    "<tr><td>name </td><td>Passenger Name\t</td></tr>\n",
    "<tr><td>sex </td><td>Sex \t</td></tr>\n",
    "<tr><td>Age </td><td>Age in years \t</td></tr>\n",
    "<tr><td>sibsp </td><td>Number of siblings / spouses aboard the Titanic</td></tr>\n",
    "<tr><td>parch </td><td>Number of parents / children aboard the Titanic</td></tr>\n",
    "<tr><td>ticket </td><td>Ticket number</td></tr>\n",
    "<tr><td>fare </td><td>Passenger fare </td></tr>\n",
    "<tr><td>cabin </td><td>Cabin number </td></tr>\n",
    "<tr><td>embarked </td><td>Port of Embarkation</td><td> C = Cherbourg, Q = Queenstown, S = Southampton</td></tr>"
   ]
  },
  {
   "cell_type": "markdown",
   "metadata": {},
   "source": [
    "#### Titanic dataset Survival Classification\n",
    "\n",
    "1) Read the dataset<br>\n",
    "2) Remove/handle null values<br>\n",
    "3) Depict Survived column count on a countplot<br>\n",
    "4) Depict Survived column count based on Sex on a countplot<br>\n",
    "5) Depict Survived column count based on Pclass on a countplot<br>\n",
    "6) Depict quartile distribution of Age column for each of Pclass categories<br>\n",
    "7) Encode categorical varibles if any<br>\n",
    "8) Select appropriate features and generate independent variables keeping 'Survived' column as dependent variable<br>\n",
    "9) Split the dataset into training and testing data with test_size=25%<br>\n",
    "10) Apply Logistic Regression and generate the predicted values for the test data<br>\n",
    "11) Compute training and testing accuracy<br>\n",
    "12) Generate confusion matrix. Also represnet it on heatmap<br>\n",
    "13) Generate classifictaion_report<br>"
   ]
  },
  {
   "cell_type": "code",
   "execution_count": null,
   "metadata": {},
   "outputs": [],
   "source": []
  }
 ],
 "metadata": {
  "kernelspec": {
   "display_name": "Python 3",
   "language": "python",
   "name": "python3"
  },
  "language_info": {
   "codemirror_mode": {
    "name": "ipython",
    "version": 3
   },
   "file_extension": ".py",
   "mimetype": "text/x-python",
   "name": "python",
   "nbconvert_exporter": "python",
   "pygments_lexer": "ipython3",
   "version": "3.7.3"
  }
 },
 "nbformat": 4,
 "nbformat_minor": 2
}
