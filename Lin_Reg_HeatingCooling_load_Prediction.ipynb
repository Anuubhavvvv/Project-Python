{
  "cells": [
    {
      "cell_type": "markdown",
      "metadata": {
        "id": "view-in-github",
        "colab_type": "text"
      },
      "source": [
        "<a href=\"https://colab.research.google.com/github/Anuubhavvvv/Project-Python/blob/main/Lin_Reg_HeatingCooling_load_Prediction.ipynb\" target=\"_parent\"><img src=\"https://colab.research.google.com/assets/colab-badge.svg\" alt=\"Open In Colab\"/></a>"
      ]
    },
    {
      "cell_type": "code",
      "execution_count": null,
      "metadata": {
        "id": "IbDd_CZipu0-"
      },
      "outputs": [],
      "source": [
        "import pandas as pd\n",
        "import numpy as np\n",
        "import matplotlib.pyplot as plt\n",
        "import seaborn as sns"
      ]
    },
    {
      "cell_type": "code",
      "execution_count": null,
      "metadata": {
        "id": "umS0NOwmpu0-",
        "outputId": "4f5ac82d-2e82-426d-fd1e-156115a2d96d"
      },
      "outputs": [
        {
          "data": {
            "text/html": [
              "<div>\n",
              "<style scoped>\n",
              "    .dataframe tbody tr th:only-of-type {\n",
              "        vertical-align: middle;\n",
              "    }\n",
              "\n",
              "    .dataframe tbody tr th {\n",
              "        vertical-align: top;\n",
              "    }\n",
              "\n",
              "    .dataframe thead th {\n",
              "        text-align: right;\n",
              "    }\n",
              "</style>\n",
              "<table border=\"1\" class=\"dataframe\">\n",
              "  <thead>\n",
              "    <tr style=\"text-align: right;\">\n",
              "      <th></th>\n",
              "      <th>X1</th>\n",
              "      <th>X2</th>\n",
              "      <th>X3</th>\n",
              "      <th>X4</th>\n",
              "      <th>X5</th>\n",
              "      <th>X6</th>\n",
              "      <th>X7</th>\n",
              "      <th>X8</th>\n",
              "      <th>Y1</th>\n",
              "      <th>Y2</th>\n",
              "    </tr>\n",
              "  </thead>\n",
              "  <tbody>\n",
              "    <tr>\n",
              "      <th>0</th>\n",
              "      <td>0.98</td>\n",
              "      <td>514.5</td>\n",
              "      <td>294.0</td>\n",
              "      <td>110.25</td>\n",
              "      <td>7.0</td>\n",
              "      <td>2</td>\n",
              "      <td>0.0</td>\n",
              "      <td>0</td>\n",
              "      <td>15.55</td>\n",
              "      <td>21.33</td>\n",
              "    </tr>\n",
              "    <tr>\n",
              "      <th>1</th>\n",
              "      <td>0.98</td>\n",
              "      <td>514.5</td>\n",
              "      <td>294.0</td>\n",
              "      <td>110.25</td>\n",
              "      <td>7.0</td>\n",
              "      <td>3</td>\n",
              "      <td>0.0</td>\n",
              "      <td>0</td>\n",
              "      <td>15.55</td>\n",
              "      <td>21.33</td>\n",
              "    </tr>\n",
              "    <tr>\n",
              "      <th>2</th>\n",
              "      <td>0.98</td>\n",
              "      <td>514.5</td>\n",
              "      <td>294.0</td>\n",
              "      <td>110.25</td>\n",
              "      <td>7.0</td>\n",
              "      <td>4</td>\n",
              "      <td>0.0</td>\n",
              "      <td>0</td>\n",
              "      <td>15.55</td>\n",
              "      <td>21.33</td>\n",
              "    </tr>\n",
              "    <tr>\n",
              "      <th>3</th>\n",
              "      <td>0.98</td>\n",
              "      <td>514.5</td>\n",
              "      <td>294.0</td>\n",
              "      <td>110.25</td>\n",
              "      <td>7.0</td>\n",
              "      <td>5</td>\n",
              "      <td>0.0</td>\n",
              "      <td>0</td>\n",
              "      <td>15.55</td>\n",
              "      <td>21.33</td>\n",
              "    </tr>\n",
              "    <tr>\n",
              "      <th>4</th>\n",
              "      <td>0.90</td>\n",
              "      <td>563.5</td>\n",
              "      <td>318.5</td>\n",
              "      <td>122.50</td>\n",
              "      <td>7.0</td>\n",
              "      <td>2</td>\n",
              "      <td>0.0</td>\n",
              "      <td>0</td>\n",
              "      <td>20.84</td>\n",
              "      <td>28.28</td>\n",
              "    </tr>\n",
              "  </tbody>\n",
              "</table>\n",
              "</div>"
            ],
            "text/plain": [
              "     X1     X2     X3      X4   X5  X6   X7  X8     Y1     Y2\n",
              "0  0.98  514.5  294.0  110.25  7.0   2  0.0   0  15.55  21.33\n",
              "1  0.98  514.5  294.0  110.25  7.0   3  0.0   0  15.55  21.33\n",
              "2  0.98  514.5  294.0  110.25  7.0   4  0.0   0  15.55  21.33\n",
              "3  0.98  514.5  294.0  110.25  7.0   5  0.0   0  15.55  21.33\n",
              "4  0.90  563.5  318.5  122.50  7.0   2  0.0   0  20.84  28.28"
            ]
          },
          "execution_count": 2,
          "metadata": {},
          "output_type": "execute_result"
        }
      ],
      "source": [
        "df = pd.read_excel('heat_load.xlsx')\n",
        "df.head()"
      ]
    },
    {
      "cell_type": "code",
      "execution_count": null,
      "metadata": {
        "id": "L-xhhFWepu0-",
        "outputId": "d006a4a2-362d-4b53-e40f-0ec38f4f96df"
      },
      "outputs": [
        {
          "data": {
            "text/plain": [
              "'\\nX1 - Relative Compactness\\nX2 - Surface Area\\nX3 - Wall Area\\nX4 - Roof Area\\nX5 - Overall Height\\nX6 - Orientation\\nX7 - Glazing Area\\nX8 - Glazing Area Distrbution\\nY1 - Heating Load\\nY2 - Cooling Load\\n\\n\\n'"
            ]
          },
          "execution_count": 3,
          "metadata": {},
          "output_type": "execute_result"
        }
      ],
      "source": [
        "\"\"\"\n",
        "X1 - Relative Compactness\n",
        "X2 - Surface Area\n",
        "X3 - Wall Area\n",
        "X4 - Roof Area\n",
        "X5 - Overall Height\n",
        "X6 - Orientation\n",
        "X7 - Glazing Area\n",
        "X8 - Glazing Area Distrbution\n",
        "Y1 - Heating Load\n",
        "Y2 - Cooling Load\n",
        "\n",
        "\n",
        "\"\"\""
      ]
    },
    {
      "cell_type": "code",
      "execution_count": null,
      "metadata": {
        "id": "ncCwH4Qhpu0_",
        "outputId": "390e395d-3977-443f-98c9-59b8ba91094a"
      },
      "outputs": [
        {
          "data": {
            "text/html": [
              "<div>\n",
              "<style scoped>\n",
              "    .dataframe tbody tr th:only-of-type {\n",
              "        vertical-align: middle;\n",
              "    }\n",
              "\n",
              "    .dataframe tbody tr th {\n",
              "        vertical-align: top;\n",
              "    }\n",
              "\n",
              "    .dataframe thead th {\n",
              "        text-align: right;\n",
              "    }\n",
              "</style>\n",
              "<table border=\"1\" class=\"dataframe\">\n",
              "  <thead>\n",
              "    <tr style=\"text-align: right;\">\n",
              "      <th></th>\n",
              "      <th>compact</th>\n",
              "      <th>s_area</th>\n",
              "      <th>w_area</th>\n",
              "      <th>r_area</th>\n",
              "      <th>height</th>\n",
              "      <th>orient</th>\n",
              "      <th>g_area</th>\n",
              "      <th>g_area_dist</th>\n",
              "      <th>heat_load</th>\n",
              "      <th>cool_load</th>\n",
              "    </tr>\n",
              "  </thead>\n",
              "  <tbody>\n",
              "    <tr>\n",
              "      <th>0</th>\n",
              "      <td>0.98</td>\n",
              "      <td>514.5</td>\n",
              "      <td>294.0</td>\n",
              "      <td>110.25</td>\n",
              "      <td>7.0</td>\n",
              "      <td>2</td>\n",
              "      <td>0.0</td>\n",
              "      <td>0</td>\n",
              "      <td>15.55</td>\n",
              "      <td>21.33</td>\n",
              "    </tr>\n",
              "    <tr>\n",
              "      <th>1</th>\n",
              "      <td>0.98</td>\n",
              "      <td>514.5</td>\n",
              "      <td>294.0</td>\n",
              "      <td>110.25</td>\n",
              "      <td>7.0</td>\n",
              "      <td>3</td>\n",
              "      <td>0.0</td>\n",
              "      <td>0</td>\n",
              "      <td>15.55</td>\n",
              "      <td>21.33</td>\n",
              "    </tr>\n",
              "    <tr>\n",
              "      <th>2</th>\n",
              "      <td>0.98</td>\n",
              "      <td>514.5</td>\n",
              "      <td>294.0</td>\n",
              "      <td>110.25</td>\n",
              "      <td>7.0</td>\n",
              "      <td>4</td>\n",
              "      <td>0.0</td>\n",
              "      <td>0</td>\n",
              "      <td>15.55</td>\n",
              "      <td>21.33</td>\n",
              "    </tr>\n",
              "    <tr>\n",
              "      <th>3</th>\n",
              "      <td>0.98</td>\n",
              "      <td>514.5</td>\n",
              "      <td>294.0</td>\n",
              "      <td>110.25</td>\n",
              "      <td>7.0</td>\n",
              "      <td>5</td>\n",
              "      <td>0.0</td>\n",
              "      <td>0</td>\n",
              "      <td>15.55</td>\n",
              "      <td>21.33</td>\n",
              "    </tr>\n",
              "    <tr>\n",
              "      <th>4</th>\n",
              "      <td>0.90</td>\n",
              "      <td>563.5</td>\n",
              "      <td>318.5</td>\n",
              "      <td>122.50</td>\n",
              "      <td>7.0</td>\n",
              "      <td>2</td>\n",
              "      <td>0.0</td>\n",
              "      <td>0</td>\n",
              "      <td>20.84</td>\n",
              "      <td>28.28</td>\n",
              "    </tr>\n",
              "  </tbody>\n",
              "</table>\n",
              "</div>"
            ],
            "text/plain": [
              "   compact  s_area  w_area  r_area  height  orient  g_area  g_area_dist  \\\n",
              "0     0.98   514.5   294.0  110.25     7.0       2     0.0            0   \n",
              "1     0.98   514.5   294.0  110.25     7.0       3     0.0            0   \n",
              "2     0.98   514.5   294.0  110.25     7.0       4     0.0            0   \n",
              "3     0.98   514.5   294.0  110.25     7.0       5     0.0            0   \n",
              "4     0.90   563.5   318.5  122.50     7.0       2     0.0            0   \n",
              "\n",
              "   heat_load  cool_load  \n",
              "0      15.55      21.33  \n",
              "1      15.55      21.33  \n",
              "2      15.55      21.33  \n",
              "3      15.55      21.33  \n",
              "4      20.84      28.28  "
            ]
          },
          "execution_count": 4,
          "metadata": {},
          "output_type": "execute_result"
        }
      ],
      "source": [
        "df.columns= ['compact','s_area','w_area','r_area','height','orient',\n",
        "             'g_area','g_area_dist','heat_load','cool_load']\n",
        "df.head()"
      ]
    },
    {
      "cell_type": "code",
      "execution_count": null,
      "metadata": {
        "id": "WIETgX2Ipu0_",
        "outputId": "9299b854-d1f1-4d3f-9feb-22200387e7cf"
      },
      "outputs": [
        {
          "data": {
            "text/plain": [
              "(768, 10)"
            ]
          },
          "execution_count": 5,
          "metadata": {},
          "output_type": "execute_result"
        }
      ],
      "source": [
        "df.shape"
      ]
    },
    {
      "cell_type": "code",
      "execution_count": null,
      "metadata": {
        "id": "Cqg4cKUkpu0_",
        "outputId": "7f8b0469-ff26-4dee-e255-efc4c3106b69"
      },
      "outputs": [
        {
          "data": {
            "text/plain": [
              "compact        0\n",
              "s_area         0\n",
              "w_area         0\n",
              "r_area         0\n",
              "height         0\n",
              "orient         0\n",
              "g_area         0\n",
              "g_area_dist    0\n",
              "heat_load      0\n",
              "cool_load      0\n",
              "dtype: int64"
            ]
          },
          "execution_count": 6,
          "metadata": {},
          "output_type": "execute_result"
        }
      ],
      "source": [
        "df.isnull().sum()"
      ]
    },
    {
      "cell_type": "code",
      "execution_count": null,
      "metadata": {
        "id": "QqjRALuRpu0_",
        "outputId": "0bee3f51-5fde-4b91-a384-b2a7159d38c4"
      },
      "outputs": [
        {
          "data": {
            "text/html": [
              "<div>\n",
              "<style scoped>\n",
              "    .dataframe tbody tr th:only-of-type {\n",
              "        vertical-align: middle;\n",
              "    }\n",
              "\n",
              "    .dataframe tbody tr th {\n",
              "        vertical-align: top;\n",
              "    }\n",
              "\n",
              "    .dataframe thead th {\n",
              "        text-align: right;\n",
              "    }\n",
              "</style>\n",
              "<table border=\"1\" class=\"dataframe\">\n",
              "  <thead>\n",
              "    <tr style=\"text-align: right;\">\n",
              "      <th></th>\n",
              "      <th>compact</th>\n",
              "      <th>s_area</th>\n",
              "      <th>w_area</th>\n",
              "      <th>r_area</th>\n",
              "      <th>height</th>\n",
              "      <th>orient</th>\n",
              "      <th>g_area</th>\n",
              "      <th>g_area_dist</th>\n",
              "      <th>heat_load</th>\n",
              "      <th>cool_load</th>\n",
              "    </tr>\n",
              "  </thead>\n",
              "  <tbody>\n",
              "    <tr>\n",
              "      <th>0</th>\n",
              "      <td>0.98</td>\n",
              "      <td>514.5</td>\n",
              "      <td>294.0</td>\n",
              "      <td>110.25</td>\n",
              "      <td>7.0</td>\n",
              "      <td>2</td>\n",
              "      <td>0.0</td>\n",
              "      <td>0</td>\n",
              "      <td>15.55</td>\n",
              "      <td>21.33</td>\n",
              "    </tr>\n",
              "    <tr>\n",
              "      <th>1</th>\n",
              "      <td>0.98</td>\n",
              "      <td>514.5</td>\n",
              "      <td>294.0</td>\n",
              "      <td>110.25</td>\n",
              "      <td>7.0</td>\n",
              "      <td>3</td>\n",
              "      <td>0.0</td>\n",
              "      <td>0</td>\n",
              "      <td>15.55</td>\n",
              "      <td>21.33</td>\n",
              "    </tr>\n",
              "  </tbody>\n",
              "</table>\n",
              "</div>"
            ],
            "text/plain": [
              "   compact  s_area  w_area  r_area  height  orient  g_area  g_area_dist  \\\n",
              "0     0.98   514.5   294.0  110.25     7.0       2     0.0            0   \n",
              "1     0.98   514.5   294.0  110.25     7.0       3     0.0            0   \n",
              "\n",
              "   heat_load  cool_load  \n",
              "0      15.55      21.33  \n",
              "1      15.55      21.33  "
            ]
          },
          "execution_count": 7,
          "metadata": {},
          "output_type": "execute_result"
        }
      ],
      "source": [
        "df.head(2)"
      ]
    },
    {
      "cell_type": "markdown",
      "metadata": {
        "id": "PjT-Adftpu0_"
      },
      "source": [
        "### Prediction of Heating Load"
      ]
    },
    {
      "cell_type": "code",
      "execution_count": null,
      "metadata": {
        "id": "k9PwyqBEpu0_",
        "outputId": "7a22ea25-cca2-4708-837b-a90fa2889d0b"
      },
      "outputs": [
        {
          "name": "stdout",
          "output_type": "stream",
          "text": [
            "(768, 8)\n",
            "(768,)\n"
          ]
        }
      ],
      "source": [
        "x = df.iloc[:,:-2] # X1-X8\n",
        "y = df.iloc[:,-2]  # heating load\n",
        "print(x.shape)\n",
        "print(y.shape)"
      ]
    },
    {
      "cell_type": "code",
      "execution_count": null,
      "metadata": {
        "id": "-zAlIyUEpu0_"
      },
      "outputs": [],
      "source": [
        "from sklearn.model_selection import train_test_split\n",
        "x_train,x_test,y_train,y_test = train_test_split(x,y,test_size=0.25)"
      ]
    },
    {
      "cell_type": "code",
      "execution_count": null,
      "metadata": {
        "id": "YFmC8vQzpu0_",
        "outputId": "3a4f4ac6-199f-4704-f773-463c09a9a3e4"
      },
      "outputs": [
        {
          "name": "stdout",
          "output_type": "stream",
          "text": [
            "(576, 8)\n",
            "(192, 8)\n",
            "(576,)\n",
            "(192,)\n"
          ]
        }
      ],
      "source": [
        "print(x_train.shape)\n",
        "print(x_test.shape)\n",
        "print(y_train.shape)\n",
        "print(y_test.shape)"
      ]
    },
    {
      "cell_type": "code",
      "execution_count": null,
      "metadata": {
        "id": "WJKh7bt5pu0_"
      },
      "outputs": [],
      "source": [
        "from sklearn.linear_model import LinearRegression"
      ]
    },
    {
      "cell_type": "code",
      "execution_count": null,
      "metadata": {
        "id": "yK_Hjd5apu0_",
        "outputId": "39ead0d6-d5d6-4fa6-d937-02857e66d7ca"
      },
      "outputs": [
        {
          "data": {
            "text/plain": [
              "LinearRegression()"
            ]
          },
          "execution_count": 12,
          "metadata": {},
          "output_type": "execute_result"
        }
      ],
      "source": [
        "reg = LinearRegression()\n",
        "reg.fit(x_train,y_train)"
      ]
    },
    {
      "cell_type": "code",
      "execution_count": null,
      "metadata": {
        "id": "6dp-Its1pu1A",
        "outputId": "7ead11c6-2d10-4747-ccd4-5c2187354df5"
      },
      "outputs": [
        {
          "data": {
            "text/plain": [
              "0.9179948432596498"
            ]
          },
          "execution_count": 13,
          "metadata": {},
          "output_type": "execute_result"
        }
      ],
      "source": [
        "reg.score(x_train,y_train)"
      ]
    },
    {
      "cell_type": "code",
      "execution_count": null,
      "metadata": {
        "id": "QspotGXJpu1A",
        "outputId": "8c606e75-2fa1-426f-d999-96510fb7e5e7"
      },
      "outputs": [
        {
          "data": {
            "text/plain": [
              "0.90955065084125"
            ]
          },
          "execution_count": 14,
          "metadata": {},
          "output_type": "execute_result"
        }
      ],
      "source": [
        "reg.score(x_test,y_test)"
      ]
    },
    {
      "cell_type": "code",
      "execution_count": null,
      "metadata": {
        "id": "UtX3W4rrpu1A",
        "outputId": "2c54f113-58e3-4a1e-a173-70100c45d536"
      },
      "outputs": [
        {
          "data": {
            "text/plain": [
              "192"
            ]
          },
          "execution_count": 15,
          "metadata": {},
          "output_type": "execute_result"
        }
      ],
      "source": [
        "y_pred = reg.predict(x_test)\n",
        "len(y_test)"
      ]
    },
    {
      "cell_type": "code",
      "execution_count": null,
      "metadata": {
        "id": "6mRV4Bgppu1B",
        "outputId": "39fe1a71-5d6b-44df-d540-72e3617eff5e"
      },
      "outputs": [
        {
          "data": {
            "text/plain": [
              "array([-6.39361840e+01,  5.78749541e+10, -5.78749541e+10, -1.15749908e+11,\n",
              "        4.19577563e+00, -5.93708083e-03,  1.91078568e+01,  2.06867015e-01])"
            ]
          },
          "execution_count": 16,
          "metadata": {},
          "output_type": "execute_result"
        }
      ],
      "source": [
        "reg.coef_"
      ]
    },
    {
      "cell_type": "code",
      "execution_count": null,
      "metadata": {
        "id": "OKzkCujBpu1B",
        "outputId": "4b154f48-cbdc-47ce-f10a-45894be7b034"
      },
      "outputs": [
        {
          "data": {
            "text/plain": [
              "83.04353310243103"
            ]
          },
          "execution_count": 17,
          "metadata": {},
          "output_type": "execute_result"
        }
      ],
      "source": [
        "reg.intercept_"
      ]
    },
    {
      "cell_type": "code",
      "execution_count": null,
      "metadata": {
        "id": "bHc-7DyTpu1B"
      },
      "outputs": [],
      "source": [
        "# df2 = pd.DataFrame({'y_orig':y_test,'y_pred':y_pred})\n",
        "# df2.head(10)"
      ]
    },
    {
      "cell_type": "code",
      "execution_count": null,
      "metadata": {
        "id": "a8lp9DSPpu1B",
        "outputId": "02b15ccf-24c3-466a-9d37-9284aa8d45c6"
      },
      "outputs": [
        {
          "data": {
            "text/plain": [
              "Index(['compact', 's_area', 'w_area', 'r_area', 'height', 'orient', 'g_area',\n",
              "       'g_area_dist', 'heat_load', 'cool_load'],\n",
              "      dtype='object')"
            ]
          },
          "execution_count": 19,
          "metadata": {},
          "output_type": "execute_result"
        }
      ],
      "source": [
        "df.columns"
      ]
    },
    {
      "cell_type": "code",
      "execution_count": null,
      "metadata": {
        "id": "tucuh1Zopu1B",
        "outputId": "0672ae17-81db-45b3-af96-7dbf26b66fe0"
      },
      "outputs": [
        {
          "name": "stderr",
          "output_type": "stream",
          "text": [
            "E:\\Users\\lenovo\\Anaconda3\\lib\\site-packages\\ipykernel_launcher.py:1: SettingWithCopyWarning: \n",
            "A value is trying to be set on a copy of a slice from a DataFrame.\n",
            "Try using .loc[row_indexer,col_indexer] = value instead\n",
            "\n",
            "See the caveats in the documentation: https://pandas.pydata.org/pandas-docs/stable/user_guide/indexing.html#returning-a-view-versus-a-copy\n",
            "  \"\"\"Entry point for launching an IPython kernel.\n",
            "E:\\Users\\lenovo\\Anaconda3\\lib\\site-packages\\ipykernel_launcher.py:2: SettingWithCopyWarning: \n",
            "A value is trying to be set on a copy of a slice from a DataFrame.\n",
            "Try using .loc[row_indexer,col_indexer] = value instead\n",
            "\n",
            "See the caveats in the documentation: https://pandas.pydata.org/pandas-docs/stable/user_guide/indexing.html#returning-a-view-versus-a-copy\n",
            "  \n"
          ]
        },
        {
          "data": {
            "text/html": [
              "<div>\n",
              "<style scoped>\n",
              "    .dataframe tbody tr th:only-of-type {\n",
              "        vertical-align: middle;\n",
              "    }\n",
              "\n",
              "    .dataframe tbody tr th {\n",
              "        vertical-align: top;\n",
              "    }\n",
              "\n",
              "    .dataframe thead th {\n",
              "        text-align: right;\n",
              "    }\n",
              "</style>\n",
              "<table border=\"1\" class=\"dataframe\">\n",
              "  <thead>\n",
              "    <tr style=\"text-align: right;\">\n",
              "      <th></th>\n",
              "      <th>compact</th>\n",
              "      <th>s_area</th>\n",
              "      <th>w_area</th>\n",
              "      <th>r_area</th>\n",
              "      <th>height</th>\n",
              "      <th>orient</th>\n",
              "      <th>g_area</th>\n",
              "      <th>g_area_dist</th>\n",
              "      <th>y_true</th>\n",
              "      <th>y_pred</th>\n",
              "    </tr>\n",
              "  </thead>\n",
              "  <tbody>\n",
              "    <tr>\n",
              "      <th>539</th>\n",
              "      <td>0.86</td>\n",
              "      <td>588.0</td>\n",
              "      <td>294.0</td>\n",
              "      <td>147.00</td>\n",
              "      <td>7.0</td>\n",
              "      <td>5</td>\n",
              "      <td>0.40</td>\n",
              "      <td>1</td>\n",
              "      <td>31.29</td>\n",
              "      <td>32.089756</td>\n",
              "    </tr>\n",
              "    <tr>\n",
              "      <th>416</th>\n",
              "      <td>0.69</td>\n",
              "      <td>735.0</td>\n",
              "      <td>294.0</td>\n",
              "      <td>220.50</td>\n",
              "      <td>3.5</td>\n",
              "      <td>2</td>\n",
              "      <td>0.25</td>\n",
              "      <td>3</td>\n",
              "      <td>12.34</td>\n",
              "      <td>13.188658</td>\n",
              "    </tr>\n",
              "    <tr>\n",
              "      <th>116</th>\n",
              "      <td>0.76</td>\n",
              "      <td>661.5</td>\n",
              "      <td>416.5</td>\n",
              "      <td>122.50</td>\n",
              "      <td>7.0</td>\n",
              "      <td>2</td>\n",
              "      <td>0.10</td>\n",
              "      <td>2</td>\n",
              "      <td>33.16</td>\n",
              "      <td>33.914108</td>\n",
              "    </tr>\n",
              "    <tr>\n",
              "      <th>242</th>\n",
              "      <td>0.98</td>\n",
              "      <td>514.5</td>\n",
              "      <td>294.0</td>\n",
              "      <td>110.25</td>\n",
              "      <td>7.0</td>\n",
              "      <td>4</td>\n",
              "      <td>0.10</td>\n",
              "      <td>5</td>\n",
              "      <td>24.03</td>\n",
              "      <td>25.843147</td>\n",
              "    </tr>\n",
              "    <tr>\n",
              "      <th>226</th>\n",
              "      <td>0.69</td>\n",
              "      <td>735.0</td>\n",
              "      <td>294.0</td>\n",
              "      <td>220.50</td>\n",
              "      <td>3.5</td>\n",
              "      <td>4</td>\n",
              "      <td>0.10</td>\n",
              "      <td>4</td>\n",
              "      <td>11.07</td>\n",
              "      <td>10.517472</td>\n",
              "    </tr>\n",
              "  </tbody>\n",
              "</table>\n",
              "</div>"
            ],
            "text/plain": [
              "     compact  s_area  w_area  r_area  height  orient  g_area  g_area_dist  \\\n",
              "539     0.86   588.0   294.0  147.00     7.0       5    0.40            1   \n",
              "416     0.69   735.0   294.0  220.50     3.5       2    0.25            3   \n",
              "116     0.76   661.5   416.5  122.50     7.0       2    0.10            2   \n",
              "242     0.98   514.5   294.0  110.25     7.0       4    0.10            5   \n",
              "226     0.69   735.0   294.0  220.50     3.5       4    0.10            4   \n",
              "\n",
              "     y_true     y_pred  \n",
              "539   31.29  32.089756  \n",
              "416   12.34  13.188658  \n",
              "116   33.16  33.914108  \n",
              "242   24.03  25.843147  \n",
              "226   11.07  10.517472  "
            ]
          },
          "execution_count": 20,
          "metadata": {},
          "output_type": "execute_result"
        }
      ],
      "source": [
        "x_test['y_true'] = y_test\n",
        "x_test['y_pred'] = y_pred\n",
        "x_test.head()"
      ]
    },
    {
      "cell_type": "code",
      "execution_count": null,
      "metadata": {
        "id": "vNpf5yJtpu1B",
        "outputId": "acbf0ab6-5813-4841-cb9b-7664ff74a965"
      },
      "outputs": [
        {
          "name": "stderr",
          "output_type": "stream",
          "text": [
            "E:\\Users\\lenovo\\Anaconda3\\lib\\site-packages\\ipykernel_launcher.py:7: SettingWithCopyWarning: \n",
            "A value is trying to be set on a copy of a slice from a DataFrame.\n",
            "Try using .loc[row_indexer,col_indexer] = value instead\n",
            "\n",
            "See the caveats in the documentation: https://pandas.pydata.org/pandas-docs/stable/user_guide/indexing.html#returning-a-view-versus-a-copy\n",
            "  import sys\n"
          ]
        },
        {
          "data": {
            "text/html": [
              "<div>\n",
              "<style scoped>\n",
              "    .dataframe tbody tr th:only-of-type {\n",
              "        vertical-align: middle;\n",
              "    }\n",
              "\n",
              "    .dataframe tbody tr th {\n",
              "        vertical-align: top;\n",
              "    }\n",
              "\n",
              "    .dataframe thead th {\n",
              "        text-align: right;\n",
              "    }\n",
              "</style>\n",
              "<table border=\"1\" class=\"dataframe\">\n",
              "  <thead>\n",
              "    <tr style=\"text-align: right;\">\n",
              "      <th></th>\n",
              "      <th>compact</th>\n",
              "      <th>s_area</th>\n",
              "      <th>w_area</th>\n",
              "      <th>r_area</th>\n",
              "      <th>height</th>\n",
              "      <th>orient</th>\n",
              "      <th>g_area</th>\n",
              "      <th>g_area_dist</th>\n",
              "      <th>y_true</th>\n",
              "      <th>y_pred</th>\n",
              "      <th>HeatLoad_pred_eqn</th>\n",
              "    </tr>\n",
              "  </thead>\n",
              "  <tbody>\n",
              "    <tr>\n",
              "      <th>539</th>\n",
              "      <td>0.86</td>\n",
              "      <td>588.0</td>\n",
              "      <td>294.0</td>\n",
              "      <td>147.00</td>\n",
              "      <td>7.0</td>\n",
              "      <td>5</td>\n",
              "      <td>0.40</td>\n",
              "      <td>1</td>\n",
              "      <td>31.29</td>\n",
              "      <td>32.089756</td>\n",
              "      <td>32.089756</td>\n",
              "    </tr>\n",
              "    <tr>\n",
              "      <th>416</th>\n",
              "      <td>0.69</td>\n",
              "      <td>735.0</td>\n",
              "      <td>294.0</td>\n",
              "      <td>220.50</td>\n",
              "      <td>3.5</td>\n",
              "      <td>2</td>\n",
              "      <td>0.25</td>\n",
              "      <td>3</td>\n",
              "      <td>12.34</td>\n",
              "      <td>13.188658</td>\n",
              "      <td>13.188658</td>\n",
              "    </tr>\n",
              "    <tr>\n",
              "      <th>116</th>\n",
              "      <td>0.76</td>\n",
              "      <td>661.5</td>\n",
              "      <td>416.5</td>\n",
              "      <td>122.50</td>\n",
              "      <td>7.0</td>\n",
              "      <td>2</td>\n",
              "      <td>0.10</td>\n",
              "      <td>2</td>\n",
              "      <td>33.16</td>\n",
              "      <td>33.914108</td>\n",
              "      <td>33.912155</td>\n",
              "    </tr>\n",
              "    <tr>\n",
              "      <th>242</th>\n",
              "      <td>0.98</td>\n",
              "      <td>514.5</td>\n",
              "      <td>294.0</td>\n",
              "      <td>110.25</td>\n",
              "      <td>7.0</td>\n",
              "      <td>4</td>\n",
              "      <td>0.10</td>\n",
              "      <td>5</td>\n",
              "      <td>24.03</td>\n",
              "      <td>25.843147</td>\n",
              "      <td>25.843147</td>\n",
              "    </tr>\n",
              "    <tr>\n",
              "      <th>226</th>\n",
              "      <td>0.69</td>\n",
              "      <td>735.0</td>\n",
              "      <td>294.0</td>\n",
              "      <td>220.50</td>\n",
              "      <td>3.5</td>\n",
              "      <td>4</td>\n",
              "      <td>0.10</td>\n",
              "      <td>4</td>\n",
              "      <td>11.07</td>\n",
              "      <td>10.517472</td>\n",
              "      <td>10.517472</td>\n",
              "    </tr>\n",
              "  </tbody>\n",
              "</table>\n",
              "</div>"
            ],
            "text/plain": [
              "     compact  s_area  w_area  r_area  height  orient  g_area  g_area_dist  \\\n",
              "539     0.86   588.0   294.0  147.00     7.0       5    0.40            1   \n",
              "416     0.69   735.0   294.0  220.50     3.5       2    0.25            3   \n",
              "116     0.76   661.5   416.5  122.50     7.0       2    0.10            2   \n",
              "242     0.98   514.5   294.0  110.25     7.0       4    0.10            5   \n",
              "226     0.69   735.0   294.0  220.50     3.5       4    0.10            4   \n",
              "\n",
              "     y_true     y_pred  HeatLoad_pred_eqn  \n",
              "539   31.29  32.089756          32.089756  \n",
              "416   12.34  13.188658          13.188658  \n",
              "116   33.16  33.914108          33.912155  \n",
              "242   24.03  25.843147          25.843147  \n",
              "226   11.07  10.517472          10.517472  "
            ]
          },
          "execution_count": 22,
          "metadata": {},
          "output_type": "execute_result"
        }
      ],
      "source": [
        "### Eqn\n",
        "x_test['HeatLoad_pred_eqn'] = x_test['compact']*reg.coef_[0] + \\\n",
        "                x_test['s_area']*reg.coef_[1] + \\\n",
        "                x_test['w_area']*reg.coef_[2] + x_test['r_area']*reg.coef_[3] + \\\n",
        "                x_test['height']*reg.coef_[4] + x_test['orient']*reg.coef_[5] + \\\n",
        "                x_test['g_area']*reg.coef_[6] + x_test['g_area_dist']*reg.coef_[7] +\\\n",
        "                reg.intercept_\n",
        "x_test.head()"
      ]
    },
    {
      "cell_type": "code",
      "execution_count": null,
      "metadata": {
        "id": "rGknPlP3pu1B"
      },
      "outputs": [],
      "source": [
        "# df2['SSE'] = (df2['y_orig'] - df2['y_pred'])**2\n",
        "# df2.head()"
      ]
    },
    {
      "cell_type": "code",
      "execution_count": null,
      "metadata": {
        "id": "VmRQZNFkpu1B"
      },
      "outputs": [],
      "source": [
        "# print(df2.sum())\n",
        "# print('-----------')\n",
        "# print(df2.sum()/192)"
      ]
    },
    {
      "cell_type": "code",
      "execution_count": null,
      "metadata": {
        "id": "APSo3jS3pu1B"
      },
      "outputs": [],
      "source": [
        "from sklearn.metrics import mean_squared_error, mean_absolute_error"
      ]
    },
    {
      "cell_type": "code",
      "execution_count": null,
      "metadata": {
        "id": "u-a75TpLpu1B",
        "outputId": "035b74e2-5981-428d-f481-156f179e0bca"
      },
      "outputs": [
        {
          "name": "stdout",
          "output_type": "stream",
          "text": [
            "MSE 9.908146240017183\n",
            "MAE 2.2415832086530614\n",
            "RMSE 3.1477208008362467\n"
          ]
        }
      ],
      "source": [
        "mse = mean_squared_error(y_test,y_pred)\n",
        "mae = mean_absolute_error(y_test,y_pred)\n",
        "rmse = mse**0.5\n",
        "print('MSE',mse)\n",
        "print('MAE',mae)\n",
        "print('RMSE',rmse)"
      ]
    },
    {
      "cell_type": "code",
      "execution_count": null,
      "metadata": {
        "id": "T8N1f3iApu1B"
      },
      "outputs": [],
      "source": []
    },
    {
      "cell_type": "markdown",
      "metadata": {
        "id": "CbMG6Lzlpu1B"
      },
      "source": [
        "### Prediction of Cooling Load"
      ]
    },
    {
      "cell_type": "code",
      "execution_count": null,
      "metadata": {
        "id": "kc0UiF6Xpu1B",
        "outputId": "4f7b0305-ffde-414f-b6f3-23838bb39351"
      },
      "outputs": [
        {
          "name": "stdout",
          "output_type": "stream",
          "text": [
            "(768, 8)\n",
            "(768,)\n"
          ]
        }
      ],
      "source": [
        "x1 = df.iloc[:,:-2] # X1-X8\n",
        "y1 = df.iloc[:,-1] # cooling load\n",
        "print(x1.shape)\n",
        "print(y1.shape)"
      ]
    },
    {
      "cell_type": "code",
      "execution_count": null,
      "metadata": {
        "id": "kfKIg6dfpu1B"
      },
      "outputs": [],
      "source": [
        "from sklearn.model_selection import train_test_split\n",
        "x_train,x_test,y_train,y_test = train_test_split(x1,y1,test_size=0.25)"
      ]
    },
    {
      "cell_type": "code",
      "execution_count": null,
      "metadata": {
        "id": "k-Yb07dCpu1B",
        "outputId": "69d1e346-9006-4ebc-88e4-70176cffa459"
      },
      "outputs": [
        {
          "name": "stdout",
          "output_type": "stream",
          "text": [
            "(576, 8)\n",
            "(192, 8)\n",
            "(576,)\n",
            "(192,)\n"
          ]
        }
      ],
      "source": [
        "print(x_train.shape)\n",
        "print(x_test.shape)\n",
        "print(y_train.shape)\n",
        "print(y_test.shape)"
      ]
    },
    {
      "cell_type": "code",
      "execution_count": null,
      "metadata": {
        "id": "dXj8zXlApu1B"
      },
      "outputs": [],
      "source": [
        "from sklearn.linear_model import LinearRegression"
      ]
    },
    {
      "cell_type": "code",
      "execution_count": null,
      "metadata": {
        "id": "-KNK5v_Vpu1B",
        "outputId": "fd2c420c-f831-4bab-97dc-c26707546dde"
      },
      "outputs": [
        {
          "data": {
            "text/plain": [
              "LinearRegression()"
            ]
          },
          "execution_count": 33,
          "metadata": {},
          "output_type": "execute_result"
        }
      ],
      "source": [
        "reg1 = LinearRegression()\n",
        "reg1.fit(x_train,y_train)"
      ]
    },
    {
      "cell_type": "code",
      "execution_count": null,
      "metadata": {
        "id": "og7QnCBOpu1B",
        "outputId": "2035f937-dddf-4743-d31a-f4b6f9105424"
      },
      "outputs": [
        {
          "data": {
            "text/plain": [
              "0.8854269821567536"
            ]
          },
          "execution_count": 34,
          "metadata": {},
          "output_type": "execute_result"
        }
      ],
      "source": [
        "reg1.score(x_train,y_train)"
      ]
    },
    {
      "cell_type": "code",
      "execution_count": null,
      "metadata": {
        "id": "x2wtehK3pu1C",
        "outputId": "71260616-fe4a-464a-e1e3-cdd3039faf7f"
      },
      "outputs": [
        {
          "data": {
            "text/plain": [
              "0.890740243398294"
            ]
          },
          "execution_count": 35,
          "metadata": {},
          "output_type": "execute_result"
        }
      ],
      "source": [
        "reg1.score(x_test,y_test)"
      ]
    },
    {
      "cell_type": "code",
      "execution_count": null,
      "metadata": {
        "id": "PxirbZTrpu1C",
        "outputId": "a5e967e8-c749-4349-cf13-897c6f248e22"
      },
      "outputs": [
        {
          "data": {
            "text/plain": [
              "192"
            ]
          },
          "execution_count": 36,
          "metadata": {},
          "output_type": "execute_result"
        }
      ],
      "source": [
        "y_pred = reg1.predict(x_test)\n",
        "len(y_test)"
      ]
    },
    {
      "cell_type": "code",
      "execution_count": null,
      "metadata": {
        "id": "3V6leeUSpu1C",
        "outputId": "9e268841-53de-4f39-9a9a-b75249487b92"
      },
      "outputs": [
        {
          "name": "stdout",
          "output_type": "stream",
          "text": [
            "<class 'numpy.ndarray'>\n"
          ]
        },
        {
          "data": {
            "text/plain": [
              "array([33.49000429, 14.71138807, 15.36863765, 15.19389325, 13.36808874])"
            ]
          },
          "execution_count": 37,
          "metadata": {},
          "output_type": "execute_result"
        }
      ],
      "source": [
        "print(type(y_pred))\n",
        "y_pred[:5]"
      ]
    },
    {
      "cell_type": "code",
      "execution_count": null,
      "metadata": {
        "id": "RtpcyNmzpu1C",
        "outputId": "ea6fe357-5bee-4158-c369-bf8f73d93b78"
      },
      "outputs": [
        {
          "data": {
            "text/plain": [
              "array([-6.64071755e+01, -2.03645205e+11,  2.03645205e+11,  4.07290411e+11,\n",
              "        4.38537335e+00,  8.73722024e-02,  1.54268864e+01,  7.61413798e-02])"
            ]
          },
          "execution_count": 38,
          "metadata": {},
          "output_type": "execute_result"
        }
      ],
      "source": [
        "reg1.coef_"
      ]
    },
    {
      "cell_type": "code",
      "execution_count": null,
      "metadata": {
        "id": "AXt0pYoBpu1C",
        "outputId": "c1d671cf-51cd-4aa2-e552-dc53cc8ef1c6"
      },
      "outputs": [
        {
          "data": {
            "text/plain": [
              "89.07110432568801"
            ]
          },
          "execution_count": 39,
          "metadata": {},
          "output_type": "execute_result"
        }
      ],
      "source": [
        "reg1.intercept_"
      ]
    },
    {
      "cell_type": "code",
      "execution_count": null,
      "metadata": {
        "id": "tZIbCetipu1C"
      },
      "outputs": [],
      "source": [
        "# df3 = pd.DataFrame({'y_orig':y_test,'y_pred':y_pred})\n",
        "# df3.head(10)"
      ]
    },
    {
      "cell_type": "code",
      "execution_count": null,
      "metadata": {
        "id": "BkKG5dv4pu1C",
        "outputId": "35c07aa0-17ad-418b-b803-7ee3b4afd094"
      },
      "outputs": [
        {
          "name": "stderr",
          "output_type": "stream",
          "text": [
            "E:\\Users\\lenovo\\Anaconda3\\lib\\site-packages\\ipykernel_launcher.py:1: SettingWithCopyWarning: \n",
            "A value is trying to be set on a copy of a slice from a DataFrame.\n",
            "Try using .loc[row_indexer,col_indexer] = value instead\n",
            "\n",
            "See the caveats in the documentation: https://pandas.pydata.org/pandas-docs/stable/user_guide/indexing.html#returning-a-view-versus-a-copy\n",
            "  \"\"\"Entry point for launching an IPython kernel.\n",
            "E:\\Users\\lenovo\\Anaconda3\\lib\\site-packages\\ipykernel_launcher.py:2: SettingWithCopyWarning: \n",
            "A value is trying to be set on a copy of a slice from a DataFrame.\n",
            "Try using .loc[row_indexer,col_indexer] = value instead\n",
            "\n",
            "See the caveats in the documentation: https://pandas.pydata.org/pandas-docs/stable/user_guide/indexing.html#returning-a-view-versus-a-copy\n",
            "  \n"
          ]
        },
        {
          "data": {
            "text/html": [
              "<div>\n",
              "<style scoped>\n",
              "    .dataframe tbody tr th:only-of-type {\n",
              "        vertical-align: middle;\n",
              "    }\n",
              "\n",
              "    .dataframe tbody tr th {\n",
              "        vertical-align: top;\n",
              "    }\n",
              "\n",
              "    .dataframe thead th {\n",
              "        text-align: right;\n",
              "    }\n",
              "</style>\n",
              "<table border=\"1\" class=\"dataframe\">\n",
              "  <thead>\n",
              "    <tr style=\"text-align: right;\">\n",
              "      <th></th>\n",
              "      <th>compact</th>\n",
              "      <th>s_area</th>\n",
              "      <th>w_area</th>\n",
              "      <th>r_area</th>\n",
              "      <th>height</th>\n",
              "      <th>orient</th>\n",
              "      <th>g_area</th>\n",
              "      <th>g_area_dist</th>\n",
              "      <th>y_true</th>\n",
              "      <th>y_pred</th>\n",
              "    </tr>\n",
              "  </thead>\n",
              "  <tbody>\n",
              "    <tr>\n",
              "      <th>303</th>\n",
              "      <td>0.82</td>\n",
              "      <td>612.5</td>\n",
              "      <td>318.5</td>\n",
              "      <td>147.0</td>\n",
              "      <td>7.0</td>\n",
              "      <td>5</td>\n",
              "      <td>0.25</td>\n",
              "      <td>1</td>\n",
              "      <td>31.39</td>\n",
              "      <td>33.490004</td>\n",
              "    </tr>\n",
              "    <tr>\n",
              "      <th>507</th>\n",
              "      <td>0.74</td>\n",
              "      <td>686.0</td>\n",
              "      <td>245.0</td>\n",
              "      <td>220.5</td>\n",
              "      <td>3.5</td>\n",
              "      <td>5</td>\n",
              "      <td>0.25</td>\n",
              "      <td>5</td>\n",
              "      <td>14.03</td>\n",
              "      <td>14.711388</td>\n",
              "    </tr>\n",
              "    <tr>\n",
              "      <th>190</th>\n",
              "      <td>0.62</td>\n",
              "      <td>808.5</td>\n",
              "      <td>367.5</td>\n",
              "      <td>220.5</td>\n",
              "      <td>3.5</td>\n",
              "      <td>4</td>\n",
              "      <td>0.10</td>\n",
              "      <td>3</td>\n",
              "      <td>14.14</td>\n",
              "      <td>15.368638</td>\n",
              "    </tr>\n",
              "    <tr>\n",
              "      <th>188</th>\n",
              "      <td>0.62</td>\n",
              "      <td>808.5</td>\n",
              "      <td>367.5</td>\n",
              "      <td>220.5</td>\n",
              "      <td>3.5</td>\n",
              "      <td>2</td>\n",
              "      <td>0.10</td>\n",
              "      <td>3</td>\n",
              "      <td>14.09</td>\n",
              "      <td>15.193893</td>\n",
              "    </tr>\n",
              "    <tr>\n",
              "      <th>223</th>\n",
              "      <td>0.71</td>\n",
              "      <td>710.5</td>\n",
              "      <td>269.5</td>\n",
              "      <td>220.5</td>\n",
              "      <td>3.5</td>\n",
              "      <td>5</td>\n",
              "      <td>0.10</td>\n",
              "      <td>4</td>\n",
              "      <td>14.20</td>\n",
              "      <td>13.368089</td>\n",
              "    </tr>\n",
              "  </tbody>\n",
              "</table>\n",
              "</div>"
            ],
            "text/plain": [
              "     compact  s_area  w_area  r_area  height  orient  g_area  g_area_dist  \\\n",
              "303     0.82   612.5   318.5   147.0     7.0       5    0.25            1   \n",
              "507     0.74   686.0   245.0   220.5     3.5       5    0.25            5   \n",
              "190     0.62   808.5   367.5   220.5     3.5       4    0.10            3   \n",
              "188     0.62   808.5   367.5   220.5     3.5       2    0.10            3   \n",
              "223     0.71   710.5   269.5   220.5     3.5       5    0.10            4   \n",
              "\n",
              "     y_true     y_pred  \n",
              "303   31.39  33.490004  \n",
              "507   14.03  14.711388  \n",
              "190   14.14  15.368638  \n",
              "188   14.09  15.193893  \n",
              "223   14.20  13.368089  "
            ]
          },
          "execution_count": 41,
          "metadata": {},
          "output_type": "execute_result"
        }
      ],
      "source": [
        "x_test['y_true'] = y_test\n",
        "x_test['y_pred'] = y_pred\n",
        "x_test.head()"
      ]
    },
    {
      "cell_type": "code",
      "execution_count": null,
      "metadata": {
        "id": "PbCbOg8npu1C",
        "outputId": "10506836-8543-47ed-b658-b91a1c730465"
      },
      "outputs": [
        {
          "name": "stderr",
          "output_type": "stream",
          "text": [
            "E:\\Users\\lenovo\\Anaconda3\\lib\\site-packages\\ipykernel_launcher.py:7: SettingWithCopyWarning: \n",
            "A value is trying to be set on a copy of a slice from a DataFrame.\n",
            "Try using .loc[row_indexer,col_indexer] = value instead\n",
            "\n",
            "See the caveats in the documentation: https://pandas.pydata.org/pandas-docs/stable/user_guide/indexing.html#returning-a-view-versus-a-copy\n",
            "  import sys\n"
          ]
        },
        {
          "data": {
            "text/html": [
              "<div>\n",
              "<style scoped>\n",
              "    .dataframe tbody tr th:only-of-type {\n",
              "        vertical-align: middle;\n",
              "    }\n",
              "\n",
              "    .dataframe tbody tr th {\n",
              "        vertical-align: top;\n",
              "    }\n",
              "\n",
              "    .dataframe thead th {\n",
              "        text-align: right;\n",
              "    }\n",
              "</style>\n",
              "<table border=\"1\" class=\"dataframe\">\n",
              "  <thead>\n",
              "    <tr style=\"text-align: right;\">\n",
              "      <th></th>\n",
              "      <th>compact</th>\n",
              "      <th>s_area</th>\n",
              "      <th>w_area</th>\n",
              "      <th>r_area</th>\n",
              "      <th>height</th>\n",
              "      <th>orient</th>\n",
              "      <th>g_area</th>\n",
              "      <th>g_area_dist</th>\n",
              "      <th>y_true</th>\n",
              "      <th>y_pred</th>\n",
              "      <th>CoolLoad_pred_eqn</th>\n",
              "    </tr>\n",
              "  </thead>\n",
              "  <tbody>\n",
              "    <tr>\n",
              "      <th>303</th>\n",
              "      <td>0.82</td>\n",
              "      <td>612.5</td>\n",
              "      <td>318.5</td>\n",
              "      <td>147.0</td>\n",
              "      <td>7.0</td>\n",
              "      <td>5</td>\n",
              "      <td>0.25</td>\n",
              "      <td>1</td>\n",
              "      <td>31.39</td>\n",
              "      <td>33.490004</td>\n",
              "      <td>33.497817</td>\n",
              "    </tr>\n",
              "    <tr>\n",
              "      <th>507</th>\n",
              "      <td>0.74</td>\n",
              "      <td>686.0</td>\n",
              "      <td>245.0</td>\n",
              "      <td>220.5</td>\n",
              "      <td>3.5</td>\n",
              "      <td>5</td>\n",
              "      <td>0.25</td>\n",
              "      <td>5</td>\n",
              "      <td>14.03</td>\n",
              "      <td>14.711388</td>\n",
              "      <td>14.719201</td>\n",
              "    </tr>\n",
              "    <tr>\n",
              "      <th>190</th>\n",
              "      <td>0.62</td>\n",
              "      <td>808.5</td>\n",
              "      <td>367.5</td>\n",
              "      <td>220.5</td>\n",
              "      <td>3.5</td>\n",
              "      <td>4</td>\n",
              "      <td>0.10</td>\n",
              "      <td>3</td>\n",
              "      <td>14.14</td>\n",
              "      <td>15.368638</td>\n",
              "      <td>15.353013</td>\n",
              "    </tr>\n",
              "    <tr>\n",
              "      <th>188</th>\n",
              "      <td>0.62</td>\n",
              "      <td>808.5</td>\n",
              "      <td>367.5</td>\n",
              "      <td>220.5</td>\n",
              "      <td>3.5</td>\n",
              "      <td>2</td>\n",
              "      <td>0.10</td>\n",
              "      <td>3</td>\n",
              "      <td>14.09</td>\n",
              "      <td>15.193893</td>\n",
              "      <td>15.178268</td>\n",
              "    </tr>\n",
              "    <tr>\n",
              "      <th>223</th>\n",
              "      <td>0.71</td>\n",
              "      <td>710.5</td>\n",
              "      <td>269.5</td>\n",
              "      <td>220.5</td>\n",
              "      <td>3.5</td>\n",
              "      <td>5</td>\n",
              "      <td>0.10</td>\n",
              "      <td>4</td>\n",
              "      <td>14.20</td>\n",
              "      <td>13.368089</td>\n",
              "      <td>13.375901</td>\n",
              "    </tr>\n",
              "  </tbody>\n",
              "</table>\n",
              "</div>"
            ],
            "text/plain": [
              "     compact  s_area  w_area  r_area  height  orient  g_area  g_area_dist  \\\n",
              "303     0.82   612.5   318.5   147.0     7.0       5    0.25            1   \n",
              "507     0.74   686.0   245.0   220.5     3.5       5    0.25            5   \n",
              "190     0.62   808.5   367.5   220.5     3.5       4    0.10            3   \n",
              "188     0.62   808.5   367.5   220.5     3.5       2    0.10            3   \n",
              "223     0.71   710.5   269.5   220.5     3.5       5    0.10            4   \n",
              "\n",
              "     y_true     y_pred  CoolLoad_pred_eqn  \n",
              "303   31.39  33.490004          33.497817  \n",
              "507   14.03  14.711388          14.719201  \n",
              "190   14.14  15.368638          15.353013  \n",
              "188   14.09  15.193893          15.178268  \n",
              "223   14.20  13.368089          13.375901  "
            ]
          },
          "execution_count": 43,
          "metadata": {},
          "output_type": "execute_result"
        }
      ],
      "source": [
        "### Eqn\n",
        "x_test['CoolLoad_pred_eqn'] = x_test['compact']*reg1.coef_[0] + \\\n",
        "                x_test['s_area']*reg1.coef_[1] + \\\n",
        "                x_test['w_area']*reg1.coef_[2] + x_test['r_area']*reg1.coef_[3] + \\\n",
        "                x_test['height']*reg1.coef_[4] + x_test['orient']*reg1.coef_[5] + \\\n",
        "                x_test['g_area']*reg1.coef_[6] + x_test['g_area_dist']*reg1.coef_[7] +\\\n",
        "                reg1.intercept_\n",
        "x_test.head()"
      ]
    },
    {
      "cell_type": "code",
      "execution_count": null,
      "metadata": {
        "id": "IQRCf5Ybpu1C"
      },
      "outputs": [],
      "source": [
        "# df3['SSE'] = (df3['y_orig'] - df3['y_pred'])**2\n",
        "# df3.head()"
      ]
    },
    {
      "cell_type": "code",
      "execution_count": null,
      "metadata": {
        "id": "usU4aLagpu1C"
      },
      "outputs": [],
      "source": [
        "# df3.sum()"
      ]
    },
    {
      "cell_type": "code",
      "execution_count": null,
      "metadata": {
        "id": "SBBLRpW2pu1C",
        "outputId": "5d475c8d-8d43-487e-ff45-87056dc5ed5c"
      },
      "outputs": [
        {
          "name": "stdout",
          "output_type": "stream",
          "text": [
            "MSE 9.740073221134088\n",
            "MAE 2.175515486655336\n",
            "RMSE 3.1209090376257502\n"
          ]
        }
      ],
      "source": [
        "mse = mean_squared_error(y_test,y_pred)\n",
        "mae = mean_absolute_error(y_test,y_pred)\n",
        "rmse = mse**0.5\n",
        "print('MSE',mse)\n",
        "print('MAE',mae)\n",
        "print('RMSE',rmse)"
      ]
    },
    {
      "cell_type": "markdown",
      "metadata": {
        "id": "47GyTopHpu1C"
      },
      "source": [
        "### Feature Selection based on Correlation"
      ]
    },
    {
      "cell_type": "markdown",
      "metadata": {
        "id": "fYvyTdCApu1D"
      },
      "source": [
        "#### Predicting heating load"
      ]
    },
    {
      "cell_type": "code",
      "execution_count": null,
      "metadata": {
        "id": "oxb0Yw6qpu1D",
        "outputId": "bc837f0c-fd08-44ed-a9d5-f22959b38c1d"
      },
      "outputs": [
        {
          "data": {
            "text/html": [
              "<div>\n",
              "<style scoped>\n",
              "    .dataframe tbody tr th:only-of-type {\n",
              "        vertical-align: middle;\n",
              "    }\n",
              "\n",
              "    .dataframe tbody tr th {\n",
              "        vertical-align: top;\n",
              "    }\n",
              "\n",
              "    .dataframe thead th {\n",
              "        text-align: right;\n",
              "    }\n",
              "</style>\n",
              "<table border=\"1\" class=\"dataframe\">\n",
              "  <thead>\n",
              "    <tr style=\"text-align: right;\">\n",
              "      <th></th>\n",
              "      <th>compact</th>\n",
              "      <th>s_area</th>\n",
              "      <th>w_area</th>\n",
              "      <th>r_area</th>\n",
              "      <th>height</th>\n",
              "      <th>orient</th>\n",
              "      <th>g_area</th>\n",
              "      <th>g_area_dist</th>\n",
              "      <th>heat_load</th>\n",
              "      <th>cool_load</th>\n",
              "    </tr>\n",
              "  </thead>\n",
              "  <tbody>\n",
              "    <tr>\n",
              "      <th>compact</th>\n",
              "      <td>1.000000e+00</td>\n",
              "      <td>-9.919015e-01</td>\n",
              "      <td>-2.037817e-01</td>\n",
              "      <td>-8.688234e-01</td>\n",
              "      <td>8.277473e-01</td>\n",
              "      <td>0.000000</td>\n",
              "      <td>1.283986e-17</td>\n",
              "      <td>1.764620e-17</td>\n",
              "      <td>0.622272</td>\n",
              "      <td>0.634339</td>\n",
              "    </tr>\n",
              "    <tr>\n",
              "      <th>s_area</th>\n",
              "      <td>-9.919015e-01</td>\n",
              "      <td>1.000000e+00</td>\n",
              "      <td>1.955016e-01</td>\n",
              "      <td>8.807195e-01</td>\n",
              "      <td>-8.581477e-01</td>\n",
              "      <td>0.000000</td>\n",
              "      <td>1.318356e-16</td>\n",
              "      <td>-3.558613e-16</td>\n",
              "      <td>-0.658120</td>\n",
              "      <td>-0.672999</td>\n",
              "    </tr>\n",
              "    <tr>\n",
              "      <th>w_area</th>\n",
              "      <td>-2.037817e-01</td>\n",
              "      <td>1.955016e-01</td>\n",
              "      <td>1.000000e+00</td>\n",
              "      <td>-2.923165e-01</td>\n",
              "      <td>2.809757e-01</td>\n",
              "      <td>0.000000</td>\n",
              "      <td>-7.969726e-19</td>\n",
              "      <td>0.000000e+00</td>\n",
              "      <td>0.455671</td>\n",
              "      <td>0.427117</td>\n",
              "    </tr>\n",
              "    <tr>\n",
              "      <th>r_area</th>\n",
              "      <td>-8.688234e-01</td>\n",
              "      <td>8.807195e-01</td>\n",
              "      <td>-2.923165e-01</td>\n",
              "      <td>1.000000e+00</td>\n",
              "      <td>-9.725122e-01</td>\n",
              "      <td>0.000000</td>\n",
              "      <td>-1.381805e-16</td>\n",
              "      <td>-1.079129e-16</td>\n",
              "      <td>-0.861828</td>\n",
              "      <td>-0.862547</td>\n",
              "    </tr>\n",
              "    <tr>\n",
              "      <th>height</th>\n",
              "      <td>8.277473e-01</td>\n",
              "      <td>-8.581477e-01</td>\n",
              "      <td>2.809757e-01</td>\n",
              "      <td>-9.725122e-01</td>\n",
              "      <td>1.000000e+00</td>\n",
              "      <td>0.000000</td>\n",
              "      <td>1.861418e-18</td>\n",
              "      <td>0.000000e+00</td>\n",
              "      <td>0.889430</td>\n",
              "      <td>0.895785</td>\n",
              "    </tr>\n",
              "    <tr>\n",
              "      <th>orient</th>\n",
              "      <td>0.000000e+00</td>\n",
              "      <td>0.000000e+00</td>\n",
              "      <td>0.000000e+00</td>\n",
              "      <td>0.000000e+00</td>\n",
              "      <td>0.000000e+00</td>\n",
              "      <td>1.000000</td>\n",
              "      <td>0.000000e+00</td>\n",
              "      <td>0.000000e+00</td>\n",
              "      <td>-0.002587</td>\n",
              "      <td>0.014290</td>\n",
              "    </tr>\n",
              "    <tr>\n",
              "      <th>g_area</th>\n",
              "      <td>1.283986e-17</td>\n",
              "      <td>1.318356e-16</td>\n",
              "      <td>-7.969726e-19</td>\n",
              "      <td>-1.381805e-16</td>\n",
              "      <td>1.861418e-18</td>\n",
              "      <td>0.000000</td>\n",
              "      <td>1.000000e+00</td>\n",
              "      <td>2.129642e-01</td>\n",
              "      <td>0.269842</td>\n",
              "      <td>0.207505</td>\n",
              "    </tr>\n",
              "    <tr>\n",
              "      <th>g_area_dist</th>\n",
              "      <td>1.764620e-17</td>\n",
              "      <td>-3.558613e-16</td>\n",
              "      <td>0.000000e+00</td>\n",
              "      <td>-1.079129e-16</td>\n",
              "      <td>0.000000e+00</td>\n",
              "      <td>0.000000</td>\n",
              "      <td>2.129642e-01</td>\n",
              "      <td>1.000000e+00</td>\n",
              "      <td>0.087368</td>\n",
              "      <td>0.050525</td>\n",
              "    </tr>\n",
              "    <tr>\n",
              "      <th>heat_load</th>\n",
              "      <td>6.222719e-01</td>\n",
              "      <td>-6.581199e-01</td>\n",
              "      <td>4.556714e-01</td>\n",
              "      <td>-8.618281e-01</td>\n",
              "      <td>8.894305e-01</td>\n",
              "      <td>-0.002587</td>\n",
              "      <td>2.698417e-01</td>\n",
              "      <td>8.736846e-02</td>\n",
              "      <td>1.000000</td>\n",
              "      <td>0.975862</td>\n",
              "    </tr>\n",
              "    <tr>\n",
              "      <th>cool_load</th>\n",
              "      <td>6.343391e-01</td>\n",
              "      <td>-6.729989e-01</td>\n",
              "      <td>4.271170e-01</td>\n",
              "      <td>-8.625466e-01</td>\n",
              "      <td>8.957852e-01</td>\n",
              "      <td>0.014290</td>\n",
              "      <td>2.075050e-01</td>\n",
              "      <td>5.052512e-02</td>\n",
              "      <td>0.975862</td>\n",
              "      <td>1.000000</td>\n",
              "    </tr>\n",
              "  </tbody>\n",
              "</table>\n",
              "</div>"
            ],
            "text/plain": [
              "                  compact        s_area        w_area        r_area  \\\n",
              "compact      1.000000e+00 -9.919015e-01 -2.037817e-01 -8.688234e-01   \n",
              "s_area      -9.919015e-01  1.000000e+00  1.955016e-01  8.807195e-01   \n",
              "w_area      -2.037817e-01  1.955016e-01  1.000000e+00 -2.923165e-01   \n",
              "r_area      -8.688234e-01  8.807195e-01 -2.923165e-01  1.000000e+00   \n",
              "height       8.277473e-01 -8.581477e-01  2.809757e-01 -9.725122e-01   \n",
              "orient       0.000000e+00  0.000000e+00  0.000000e+00  0.000000e+00   \n",
              "g_area       1.283986e-17  1.318356e-16 -7.969726e-19 -1.381805e-16   \n",
              "g_area_dist  1.764620e-17 -3.558613e-16  0.000000e+00 -1.079129e-16   \n",
              "heat_load    6.222719e-01 -6.581199e-01  4.556714e-01 -8.618281e-01   \n",
              "cool_load    6.343391e-01 -6.729989e-01  4.271170e-01 -8.625466e-01   \n",
              "\n",
              "                   height    orient        g_area   g_area_dist  heat_load  \\\n",
              "compact      8.277473e-01  0.000000  1.283986e-17  1.764620e-17   0.622272   \n",
              "s_area      -8.581477e-01  0.000000  1.318356e-16 -3.558613e-16  -0.658120   \n",
              "w_area       2.809757e-01  0.000000 -7.969726e-19  0.000000e+00   0.455671   \n",
              "r_area      -9.725122e-01  0.000000 -1.381805e-16 -1.079129e-16  -0.861828   \n",
              "height       1.000000e+00  0.000000  1.861418e-18  0.000000e+00   0.889430   \n",
              "orient       0.000000e+00  1.000000  0.000000e+00  0.000000e+00  -0.002587   \n",
              "g_area       1.861418e-18  0.000000  1.000000e+00  2.129642e-01   0.269842   \n",
              "g_area_dist  0.000000e+00  0.000000  2.129642e-01  1.000000e+00   0.087368   \n",
              "heat_load    8.894305e-01 -0.002587  2.698417e-01  8.736846e-02   1.000000   \n",
              "cool_load    8.957852e-01  0.014290  2.075050e-01  5.052512e-02   0.975862   \n",
              "\n",
              "             cool_load  \n",
              "compact       0.634339  \n",
              "s_area       -0.672999  \n",
              "w_area        0.427117  \n",
              "r_area       -0.862547  \n",
              "height        0.895785  \n",
              "orient        0.014290  \n",
              "g_area        0.207505  \n",
              "g_area_dist   0.050525  \n",
              "heat_load     0.975862  \n",
              "cool_load     1.000000  "
            ]
          },
          "execution_count": 47,
          "metadata": {},
          "output_type": "execute_result"
        }
      ],
      "source": [
        "df.corr()"
      ]
    },
    {
      "cell_type": "code",
      "execution_count": null,
      "metadata": {
        "id": "7Cl3YfvCpu1D",
        "outputId": "89215291-5dc6-48de-b945-e73849d1a3c6"
      },
      "outputs": [
        {
          "name": "stdout",
          "output_type": "stream",
          "text": [
            "(768, 5)\n",
            "(768,)\n"
          ]
        }
      ],
      "source": [
        "x1 = df.iloc[:,[0,2,4,6,7]]\n",
        "y1 = df.iloc[:,-2]\n",
        "print(x1.shape)\n",
        "print(y1.shape)"
      ]
    },
    {
      "cell_type": "code",
      "execution_count": null,
      "metadata": {
        "id": "tL7WMxqHpu1D",
        "outputId": "996605ba-ec7c-4cb2-8049-ba23f8e22a4f"
      },
      "outputs": [
        {
          "data": {
            "text/html": [
              "<div>\n",
              "<style scoped>\n",
              "    .dataframe tbody tr th:only-of-type {\n",
              "        vertical-align: middle;\n",
              "    }\n",
              "\n",
              "    .dataframe tbody tr th {\n",
              "        vertical-align: top;\n",
              "    }\n",
              "\n",
              "    .dataframe thead th {\n",
              "        text-align: right;\n",
              "    }\n",
              "</style>\n",
              "<table border=\"1\" class=\"dataframe\">\n",
              "  <thead>\n",
              "    <tr style=\"text-align: right;\">\n",
              "      <th></th>\n",
              "      <th>compact</th>\n",
              "      <th>w_area</th>\n",
              "      <th>height</th>\n",
              "      <th>g_area</th>\n",
              "      <th>g_area_dist</th>\n",
              "    </tr>\n",
              "  </thead>\n",
              "  <tbody>\n",
              "    <tr>\n",
              "      <th>0</th>\n",
              "      <td>0.98</td>\n",
              "      <td>294.0</td>\n",
              "      <td>7.0</td>\n",
              "      <td>0.0</td>\n",
              "      <td>0</td>\n",
              "    </tr>\n",
              "    <tr>\n",
              "      <th>1</th>\n",
              "      <td>0.98</td>\n",
              "      <td>294.0</td>\n",
              "      <td>7.0</td>\n",
              "      <td>0.0</td>\n",
              "      <td>0</td>\n",
              "    </tr>\n",
              "  </tbody>\n",
              "</table>\n",
              "</div>"
            ],
            "text/plain": [
              "   compact  w_area  height  g_area  g_area_dist\n",
              "0     0.98   294.0     7.0     0.0            0\n",
              "1     0.98   294.0     7.0     0.0            0"
            ]
          },
          "execution_count": 59,
          "metadata": {},
          "output_type": "execute_result"
        }
      ],
      "source": [
        "x1.head(2)"
      ]
    },
    {
      "cell_type": "code",
      "execution_count": null,
      "metadata": {
        "id": "2FbJoc1Zpu1D",
        "outputId": "82fcaec3-5c3c-4dfa-ec7c-308a79753dc7"
      },
      "outputs": [
        {
          "name": "stdout",
          "output_type": "stream",
          "text": [
            "(576, 5)\n",
            "(192, 5)\n",
            "(576,)\n",
            "(192,)\n"
          ]
        }
      ],
      "source": [
        "from sklearn.model_selection import train_test_split\n",
        "x_train,x_test,y_train,y_test = train_test_split(x1,y1,test_size=0.25)\n",
        "print(x_train.shape)\n",
        "print(x_test.shape)\n",
        "print(y_train.shape)\n",
        "print(y_test.shape)"
      ]
    },
    {
      "cell_type": "code",
      "execution_count": null,
      "metadata": {
        "id": "xupRv91dpu1D",
        "outputId": "e3bbbadc-b5a3-498e-daee-aa709cf25ced"
      },
      "outputs": [
        {
          "data": {
            "text/plain": [
              "LinearRegression()"
            ]
          },
          "execution_count": 61,
          "metadata": {},
          "output_type": "execute_result"
        }
      ],
      "source": [
        "reg_heat = LinearRegression()\n",
        "reg_heat.fit(x_train,y_train)"
      ]
    },
    {
      "cell_type": "code",
      "execution_count": null,
      "metadata": {
        "id": "tpT0rIKLpu1D",
        "outputId": "3e5e810b-9f06-4b39-aa25-992f2fd25ae7"
      },
      "outputs": [
        {
          "name": "stdout",
          "output_type": "stream",
          "text": [
            "0.9164778316348885\n",
            "0.9025093296656446\n"
          ]
        }
      ],
      "source": [
        "print(reg_heat.score(x_train,y_train))\n",
        "print(reg_heat.score(x_test,y_test))"
      ]
    },
    {
      "cell_type": "code",
      "execution_count": null,
      "metadata": {
        "id": "3LUpHuPGpu1D"
      },
      "outputs": [],
      "source": [
        "y_pred_heat = reg_heat.predict(x_test)\n",
        "# y_pred_heat"
      ]
    },
    {
      "cell_type": "code",
      "execution_count": null,
      "metadata": {
        "id": "cRxaDuiRpu1D",
        "outputId": "f69eb9df-4272-4afb-e487-ba9fedbb6897"
      },
      "outputs": [
        {
          "name": "stdout",
          "output_type": "stream",
          "text": [
            "[-13.19425864   0.03530392   5.54453579  19.11495515   0.18754119]\n",
            "-12.917454151730887\n"
          ]
        }
      ],
      "source": [
        "# print(reg_heat.coef_)\n",
        "a = reg_heat.coef_\n",
        "print(a)\n",
        "print(reg_heat.intercept_)"
      ]
    },
    {
      "cell_type": "code",
      "execution_count": null,
      "metadata": {
        "id": "q3fXWxsDpu1D",
        "outputId": "8fcdf251-ffbb-4d94-d5b3-2c57f06804d8"
      },
      "outputs": [
        {
          "name": "stderr",
          "output_type": "stream",
          "text": [
            "E:\\Users\\lenovo\\Anaconda3\\lib\\site-packages\\ipykernel_launcher.py:1: SettingWithCopyWarning: \n",
            "A value is trying to be set on a copy of a slice from a DataFrame.\n",
            "Try using .loc[row_indexer,col_indexer] = value instead\n",
            "\n",
            "See the caveats in the documentation: https://pandas.pydata.org/pandas-docs/stable/user_guide/indexing.html#returning-a-view-versus-a-copy\n",
            "  \"\"\"Entry point for launching an IPython kernel.\n",
            "E:\\Users\\lenovo\\Anaconda3\\lib\\site-packages\\ipykernel_launcher.py:2: SettingWithCopyWarning: \n",
            "A value is trying to be set on a copy of a slice from a DataFrame.\n",
            "Try using .loc[row_indexer,col_indexer] = value instead\n",
            "\n",
            "See the caveats in the documentation: https://pandas.pydata.org/pandas-docs/stable/user_guide/indexing.html#returning-a-view-versus-a-copy\n",
            "  \n"
          ]
        },
        {
          "data": {
            "text/html": [
              "<div>\n",
              "<style scoped>\n",
              "    .dataframe tbody tr th:only-of-type {\n",
              "        vertical-align: middle;\n",
              "    }\n",
              "\n",
              "    .dataframe tbody tr th {\n",
              "        vertical-align: top;\n",
              "    }\n",
              "\n",
              "    .dataframe thead th {\n",
              "        text-align: right;\n",
              "    }\n",
              "</style>\n",
              "<table border=\"1\" class=\"dataframe\">\n",
              "  <thead>\n",
              "    <tr style=\"text-align: right;\">\n",
              "      <th></th>\n",
              "      <th>compact</th>\n",
              "      <th>w_area</th>\n",
              "      <th>height</th>\n",
              "      <th>g_area</th>\n",
              "      <th>g_area_dist</th>\n",
              "      <th>y_test</th>\n",
              "      <th>y_pred</th>\n",
              "    </tr>\n",
              "  </thead>\n",
              "  <tbody>\n",
              "    <tr>\n",
              "      <th>516</th>\n",
              "      <td>0.66</td>\n",
              "      <td>318.5</td>\n",
              "      <td>3.5</td>\n",
              "      <td>0.25</td>\n",
              "      <td>5</td>\n",
              "      <td>12.93</td>\n",
              "      <td>14.740955</td>\n",
              "    </tr>\n",
              "    <tr>\n",
              "      <th>427</th>\n",
              "      <td>0.64</td>\n",
              "      <td>343.0</td>\n",
              "      <td>3.5</td>\n",
              "      <td>0.25</td>\n",
              "      <td>3</td>\n",
              "      <td>16.86</td>\n",
              "      <td>15.494704</td>\n",
              "    </tr>\n",
              "    <tr>\n",
              "      <th>429</th>\n",
              "      <td>0.62</td>\n",
              "      <td>367.5</td>\n",
              "      <td>3.5</td>\n",
              "      <td>0.25</td>\n",
              "      <td>3</td>\n",
              "      <td>14.34</td>\n",
              "      <td>16.623535</td>\n",
              "    </tr>\n",
              "    <tr>\n",
              "      <th>104</th>\n",
              "      <td>0.86</td>\n",
              "      <td>294.0</td>\n",
              "      <td>7.0</td>\n",
              "      <td>0.10</td>\n",
              "      <td>2</td>\n",
              "      <td>26.48</td>\n",
              "      <td>27.213165</td>\n",
              "    </tr>\n",
              "    <tr>\n",
              "      <th>736</th>\n",
              "      <td>0.79</td>\n",
              "      <td>343.0</td>\n",
              "      <td>7.0</td>\n",
              "      <td>0.40</td>\n",
              "      <td>5</td>\n",
              "      <td>42.11</td>\n",
              "      <td>36.163766</td>\n",
              "    </tr>\n",
              "  </tbody>\n",
              "</table>\n",
              "</div>"
            ],
            "text/plain": [
              "     compact  w_area  height  g_area  g_area_dist  y_test     y_pred\n",
              "516     0.66   318.5     3.5    0.25            5   12.93  14.740955\n",
              "427     0.64   343.0     3.5    0.25            3   16.86  15.494704\n",
              "429     0.62   367.5     3.5    0.25            3   14.34  16.623535\n",
              "104     0.86   294.0     7.0    0.10            2   26.48  27.213165\n",
              "736     0.79   343.0     7.0    0.40            5   42.11  36.163766"
            ]
          },
          "execution_count": 66,
          "metadata": {},
          "output_type": "execute_result"
        }
      ],
      "source": [
        "x_test['y_test'] = y_test\n",
        "x_test['y_pred'] = y_pred_heat\n",
        "x_test.head()"
      ]
    },
    {
      "cell_type": "code",
      "execution_count": null,
      "metadata": {
        "id": "MRp73k44pu1D",
        "outputId": "e8c2db9d-41b8-4eb6-ddb9-1125f02fa63e"
      },
      "outputs": [
        {
          "name": "stdout",
          "output_type": "stream",
          "text": [
            "[-13.19425864   0.03530392   5.54453579  19.11495515   0.18754119]\n"
          ]
        }
      ],
      "source": [
        "print(a) # reg_heat.coef_"
      ]
    },
    {
      "cell_type": "code",
      "execution_count": null,
      "metadata": {
        "id": "UofvZdXMpu1E",
        "outputId": "3a37b8e4-c7dc-4aa7-8ea0-53f82beac4aa"
      },
      "outputs": [
        {
          "name": "stderr",
          "output_type": "stream",
          "text": [
            "E:\\Users\\lenovo\\Anaconda3\\lib\\site-packages\\ipykernel_launcher.py:5: SettingWithCopyWarning: \n",
            "A value is trying to be set on a copy of a slice from a DataFrame.\n",
            "Try using .loc[row_indexer,col_indexer] = value instead\n",
            "\n",
            "See the caveats in the documentation: https://pandas.pydata.org/pandas-docs/stable/user_guide/indexing.html#returning-a-view-versus-a-copy\n",
            "  \"\"\"\n"
          ]
        },
        {
          "data": {
            "text/html": [
              "<div>\n",
              "<style scoped>\n",
              "    .dataframe tbody tr th:only-of-type {\n",
              "        vertical-align: middle;\n",
              "    }\n",
              "\n",
              "    .dataframe tbody tr th {\n",
              "        vertical-align: top;\n",
              "    }\n",
              "\n",
              "    .dataframe thead th {\n",
              "        text-align: right;\n",
              "    }\n",
              "</style>\n",
              "<table border=\"1\" class=\"dataframe\">\n",
              "  <thead>\n",
              "    <tr style=\"text-align: right;\">\n",
              "      <th></th>\n",
              "      <th>compact</th>\n",
              "      <th>w_area</th>\n",
              "      <th>height</th>\n",
              "      <th>g_area</th>\n",
              "      <th>g_area_dist</th>\n",
              "      <th>y_test</th>\n",
              "      <th>y_pred</th>\n",
              "      <th>HeatLoad_pred_eqn</th>\n",
              "    </tr>\n",
              "  </thead>\n",
              "  <tbody>\n",
              "    <tr>\n",
              "      <th>516</th>\n",
              "      <td>0.66</td>\n",
              "      <td>318.5</td>\n",
              "      <td>3.5</td>\n",
              "      <td>0.25</td>\n",
              "      <td>5</td>\n",
              "      <td>12.93</td>\n",
              "      <td>14.740955</td>\n",
              "      <td>14.740955</td>\n",
              "    </tr>\n",
              "    <tr>\n",
              "      <th>427</th>\n",
              "      <td>0.64</td>\n",
              "      <td>343.0</td>\n",
              "      <td>3.5</td>\n",
              "      <td>0.25</td>\n",
              "      <td>3</td>\n",
              "      <td>16.86</td>\n",
              "      <td>15.494704</td>\n",
              "      <td>15.494704</td>\n",
              "    </tr>\n",
              "    <tr>\n",
              "      <th>429</th>\n",
              "      <td>0.62</td>\n",
              "      <td>367.5</td>\n",
              "      <td>3.5</td>\n",
              "      <td>0.25</td>\n",
              "      <td>3</td>\n",
              "      <td>14.34</td>\n",
              "      <td>16.623535</td>\n",
              "      <td>16.623535</td>\n",
              "    </tr>\n",
              "    <tr>\n",
              "      <th>104</th>\n",
              "      <td>0.86</td>\n",
              "      <td>294.0</td>\n",
              "      <td>7.0</td>\n",
              "      <td>0.10</td>\n",
              "      <td>2</td>\n",
              "      <td>26.48</td>\n",
              "      <td>27.213165</td>\n",
              "      <td>27.213165</td>\n",
              "    </tr>\n",
              "    <tr>\n",
              "      <th>736</th>\n",
              "      <td>0.79</td>\n",
              "      <td>343.0</td>\n",
              "      <td>7.0</td>\n",
              "      <td>0.40</td>\n",
              "      <td>5</td>\n",
              "      <td>42.11</td>\n",
              "      <td>36.163766</td>\n",
              "      <td>36.163766</td>\n",
              "    </tr>\n",
              "  </tbody>\n",
              "</table>\n",
              "</div>"
            ],
            "text/plain": [
              "     compact  w_area  height  g_area  g_area_dist  y_test     y_pred  \\\n",
              "516     0.66   318.5     3.5    0.25            5   12.93  14.740955   \n",
              "427     0.64   343.0     3.5    0.25            3   16.86  15.494704   \n",
              "429     0.62   367.5     3.5    0.25            3   14.34  16.623535   \n",
              "104     0.86   294.0     7.0    0.10            2   26.48  27.213165   \n",
              "736     0.79   343.0     7.0    0.40            5   42.11  36.163766   \n",
              "\n",
              "     HeatLoad_pred_eqn  \n",
              "516          14.740955  \n",
              "427          15.494704  \n",
              "429          16.623535  \n",
              "104          27.213165  \n",
              "736          36.163766  "
            ]
          },
          "execution_count": 69,
          "metadata": {},
          "output_type": "execute_result"
        }
      ],
      "source": [
        "### Eqn\n",
        "x_test['HeatLoad_pred_eqn'] = x_test['compact']*a[0] + \\\n",
        "                x_test['w_area']*a[1] + x_test['height']*a[2] + \\\n",
        "                x_test['g_area']*a[3] + x_test['g_area_dist']*a[4] +\\\n",
        "                reg_heat.intercept_\n",
        "x_test.head()"
      ]
    },
    {
      "cell_type": "code",
      "execution_count": null,
      "metadata": {
        "id": "vMMZD2g1pu1E",
        "outputId": "3922e403-7bc1-49b4-8678-674cd94cc5b2"
      },
      "outputs": [
        {
          "name": "stdout",
          "output_type": "stream",
          "text": [
            "MSE 9.667731142376889\n",
            "MAE 2.1991537205409544\n",
            "RMSE 3.109297531979995\n"
          ]
        }
      ],
      "source": [
        "mse = mean_squared_error(y_test,y_pred_heat)\n",
        "mae = mean_absolute_error(y_test,y_pred_heat)\n",
        "rmse = mse**0.5\n",
        "print('MSE',mse)\n",
        "print('MAE',mae)\n",
        "print('RMSE',rmse)"
      ]
    },
    {
      "cell_type": "markdown",
      "metadata": {
        "id": "I3J96qcTpu1E"
      },
      "source": [
        "#### Predicting cooling load"
      ]
    },
    {
      "cell_type": "code",
      "execution_count": null,
      "metadata": {
        "id": "-WaeoJMnpu1E",
        "outputId": "b2ffe3fb-cc80-48c3-ceb7-2382635affe6"
      },
      "outputs": [
        {
          "data": {
            "text/html": [
              "<div>\n",
              "<style scoped>\n",
              "    .dataframe tbody tr th:only-of-type {\n",
              "        vertical-align: middle;\n",
              "    }\n",
              "\n",
              "    .dataframe tbody tr th {\n",
              "        vertical-align: top;\n",
              "    }\n",
              "\n",
              "    .dataframe thead th {\n",
              "        text-align: right;\n",
              "    }\n",
              "</style>\n",
              "<table border=\"1\" class=\"dataframe\">\n",
              "  <thead>\n",
              "    <tr style=\"text-align: right;\">\n",
              "      <th></th>\n",
              "      <th>compact</th>\n",
              "      <th>s_area</th>\n",
              "      <th>w_area</th>\n",
              "      <th>r_area</th>\n",
              "      <th>height</th>\n",
              "      <th>orient</th>\n",
              "      <th>g_area</th>\n",
              "      <th>g_area_dist</th>\n",
              "      <th>heat_load</th>\n",
              "      <th>cool_load</th>\n",
              "    </tr>\n",
              "  </thead>\n",
              "  <tbody>\n",
              "    <tr>\n",
              "      <th>compact</th>\n",
              "      <td>1.000000e+00</td>\n",
              "      <td>-9.919015e-01</td>\n",
              "      <td>-2.037817e-01</td>\n",
              "      <td>-8.688234e-01</td>\n",
              "      <td>8.277473e-01</td>\n",
              "      <td>0.000000</td>\n",
              "      <td>1.283986e-17</td>\n",
              "      <td>1.764620e-17</td>\n",
              "      <td>0.622272</td>\n",
              "      <td>0.634339</td>\n",
              "    </tr>\n",
              "    <tr>\n",
              "      <th>s_area</th>\n",
              "      <td>-9.919015e-01</td>\n",
              "      <td>1.000000e+00</td>\n",
              "      <td>1.955016e-01</td>\n",
              "      <td>8.807195e-01</td>\n",
              "      <td>-8.581477e-01</td>\n",
              "      <td>0.000000</td>\n",
              "      <td>1.318356e-16</td>\n",
              "      <td>-3.558613e-16</td>\n",
              "      <td>-0.658120</td>\n",
              "      <td>-0.672999</td>\n",
              "    </tr>\n",
              "    <tr>\n",
              "      <th>w_area</th>\n",
              "      <td>-2.037817e-01</td>\n",
              "      <td>1.955016e-01</td>\n",
              "      <td>1.000000e+00</td>\n",
              "      <td>-2.923165e-01</td>\n",
              "      <td>2.809757e-01</td>\n",
              "      <td>0.000000</td>\n",
              "      <td>-7.969726e-19</td>\n",
              "      <td>0.000000e+00</td>\n",
              "      <td>0.455671</td>\n",
              "      <td>0.427117</td>\n",
              "    </tr>\n",
              "    <tr>\n",
              "      <th>r_area</th>\n",
              "      <td>-8.688234e-01</td>\n",
              "      <td>8.807195e-01</td>\n",
              "      <td>-2.923165e-01</td>\n",
              "      <td>1.000000e+00</td>\n",
              "      <td>-9.725122e-01</td>\n",
              "      <td>0.000000</td>\n",
              "      <td>-1.381805e-16</td>\n",
              "      <td>-1.079129e-16</td>\n",
              "      <td>-0.861828</td>\n",
              "      <td>-0.862547</td>\n",
              "    </tr>\n",
              "    <tr>\n",
              "      <th>height</th>\n",
              "      <td>8.277473e-01</td>\n",
              "      <td>-8.581477e-01</td>\n",
              "      <td>2.809757e-01</td>\n",
              "      <td>-9.725122e-01</td>\n",
              "      <td>1.000000e+00</td>\n",
              "      <td>0.000000</td>\n",
              "      <td>1.861418e-18</td>\n",
              "      <td>0.000000e+00</td>\n",
              "      <td>0.889430</td>\n",
              "      <td>0.895785</td>\n",
              "    </tr>\n",
              "    <tr>\n",
              "      <th>orient</th>\n",
              "      <td>0.000000e+00</td>\n",
              "      <td>0.000000e+00</td>\n",
              "      <td>0.000000e+00</td>\n",
              "      <td>0.000000e+00</td>\n",
              "      <td>0.000000e+00</td>\n",
              "      <td>1.000000</td>\n",
              "      <td>0.000000e+00</td>\n",
              "      <td>0.000000e+00</td>\n",
              "      <td>-0.002587</td>\n",
              "      <td>0.014290</td>\n",
              "    </tr>\n",
              "    <tr>\n",
              "      <th>g_area</th>\n",
              "      <td>1.283986e-17</td>\n",
              "      <td>1.318356e-16</td>\n",
              "      <td>-7.969726e-19</td>\n",
              "      <td>-1.381805e-16</td>\n",
              "      <td>1.861418e-18</td>\n",
              "      <td>0.000000</td>\n",
              "      <td>1.000000e+00</td>\n",
              "      <td>2.129642e-01</td>\n",
              "      <td>0.269842</td>\n",
              "      <td>0.207505</td>\n",
              "    </tr>\n",
              "    <tr>\n",
              "      <th>g_area_dist</th>\n",
              "      <td>1.764620e-17</td>\n",
              "      <td>-3.558613e-16</td>\n",
              "      <td>0.000000e+00</td>\n",
              "      <td>-1.079129e-16</td>\n",
              "      <td>0.000000e+00</td>\n",
              "      <td>0.000000</td>\n",
              "      <td>2.129642e-01</td>\n",
              "      <td>1.000000e+00</td>\n",
              "      <td>0.087368</td>\n",
              "      <td>0.050525</td>\n",
              "    </tr>\n",
              "    <tr>\n",
              "      <th>heat_load</th>\n",
              "      <td>6.222719e-01</td>\n",
              "      <td>-6.581199e-01</td>\n",
              "      <td>4.556714e-01</td>\n",
              "      <td>-8.618281e-01</td>\n",
              "      <td>8.894305e-01</td>\n",
              "      <td>-0.002587</td>\n",
              "      <td>2.698417e-01</td>\n",
              "      <td>8.736846e-02</td>\n",
              "      <td>1.000000</td>\n",
              "      <td>0.975862</td>\n",
              "    </tr>\n",
              "    <tr>\n",
              "      <th>cool_load</th>\n",
              "      <td>6.343391e-01</td>\n",
              "      <td>-6.729989e-01</td>\n",
              "      <td>4.271170e-01</td>\n",
              "      <td>-8.625466e-01</td>\n",
              "      <td>8.957852e-01</td>\n",
              "      <td>0.014290</td>\n",
              "      <td>2.075050e-01</td>\n",
              "      <td>5.052512e-02</td>\n",
              "      <td>0.975862</td>\n",
              "      <td>1.000000</td>\n",
              "    </tr>\n",
              "  </tbody>\n",
              "</table>\n",
              "</div>"
            ],
            "text/plain": [
              "                  compact        s_area        w_area        r_area  \\\n",
              "compact      1.000000e+00 -9.919015e-01 -2.037817e-01 -8.688234e-01   \n",
              "s_area      -9.919015e-01  1.000000e+00  1.955016e-01  8.807195e-01   \n",
              "w_area      -2.037817e-01  1.955016e-01  1.000000e+00 -2.923165e-01   \n",
              "r_area      -8.688234e-01  8.807195e-01 -2.923165e-01  1.000000e+00   \n",
              "height       8.277473e-01 -8.581477e-01  2.809757e-01 -9.725122e-01   \n",
              "orient       0.000000e+00  0.000000e+00  0.000000e+00  0.000000e+00   \n",
              "g_area       1.283986e-17  1.318356e-16 -7.969726e-19 -1.381805e-16   \n",
              "g_area_dist  1.764620e-17 -3.558613e-16  0.000000e+00 -1.079129e-16   \n",
              "heat_load    6.222719e-01 -6.581199e-01  4.556714e-01 -8.618281e-01   \n",
              "cool_load    6.343391e-01 -6.729989e-01  4.271170e-01 -8.625466e-01   \n",
              "\n",
              "                   height    orient        g_area   g_area_dist  heat_load  \\\n",
              "compact      8.277473e-01  0.000000  1.283986e-17  1.764620e-17   0.622272   \n",
              "s_area      -8.581477e-01  0.000000  1.318356e-16 -3.558613e-16  -0.658120   \n",
              "w_area       2.809757e-01  0.000000 -7.969726e-19  0.000000e+00   0.455671   \n",
              "r_area      -9.725122e-01  0.000000 -1.381805e-16 -1.079129e-16  -0.861828   \n",
              "height       1.000000e+00  0.000000  1.861418e-18  0.000000e+00   0.889430   \n",
              "orient       0.000000e+00  1.000000  0.000000e+00  0.000000e+00  -0.002587   \n",
              "g_area       1.861418e-18  0.000000  1.000000e+00  2.129642e-01   0.269842   \n",
              "g_area_dist  0.000000e+00  0.000000  2.129642e-01  1.000000e+00   0.087368   \n",
              "heat_load    8.894305e-01 -0.002587  2.698417e-01  8.736846e-02   1.000000   \n",
              "cool_load    8.957852e-01  0.014290  2.075050e-01  5.052512e-02   0.975862   \n",
              "\n",
              "             cool_load  \n",
              "compact       0.634339  \n",
              "s_area       -0.672999  \n",
              "w_area        0.427117  \n",
              "r_area       -0.862547  \n",
              "height        0.895785  \n",
              "orient        0.014290  \n",
              "g_area        0.207505  \n",
              "g_area_dist   0.050525  \n",
              "heat_load     0.975862  \n",
              "cool_load     1.000000  "
            ]
          },
          "execution_count": 71,
          "metadata": {},
          "output_type": "execute_result"
        }
      ],
      "source": [
        "df.corr()"
      ]
    },
    {
      "cell_type": "code",
      "execution_count": null,
      "metadata": {
        "id": "tP7ZC4f2pu1E",
        "outputId": "346a2179-3fda-45e1-c06d-3a29709afb32"
      },
      "outputs": [
        {
          "name": "stdout",
          "output_type": "stream",
          "text": [
            "(768, 6)\n",
            "(768,)\n"
          ]
        }
      ],
      "source": [
        "x2 = df.iloc[:,[0,2,4,5,6,7]]\n",
        "y2 = df.iloc[:,-1]\n",
        "print(x2.shape)\n",
        "print(y2.shape)"
      ]
    },
    {
      "cell_type": "code",
      "execution_count": null,
      "metadata": {
        "id": "ZbIEOheNpu1E",
        "outputId": "e271aee8-2e06-4c28-b276-7f21434a70e4"
      },
      "outputs": [
        {
          "data": {
            "text/html": [
              "<div>\n",
              "<style scoped>\n",
              "    .dataframe tbody tr th:only-of-type {\n",
              "        vertical-align: middle;\n",
              "    }\n",
              "\n",
              "    .dataframe tbody tr th {\n",
              "        vertical-align: top;\n",
              "    }\n",
              "\n",
              "    .dataframe thead th {\n",
              "        text-align: right;\n",
              "    }\n",
              "</style>\n",
              "<table border=\"1\" class=\"dataframe\">\n",
              "  <thead>\n",
              "    <tr style=\"text-align: right;\">\n",
              "      <th></th>\n",
              "      <th>compact</th>\n",
              "      <th>w_area</th>\n",
              "      <th>height</th>\n",
              "      <th>orient</th>\n",
              "      <th>g_area</th>\n",
              "      <th>g_area_dist</th>\n",
              "    </tr>\n",
              "  </thead>\n",
              "  <tbody>\n",
              "    <tr>\n",
              "      <th>0</th>\n",
              "      <td>0.98</td>\n",
              "      <td>294.0</td>\n",
              "      <td>7.0</td>\n",
              "      <td>2</td>\n",
              "      <td>0.0</td>\n",
              "      <td>0</td>\n",
              "    </tr>\n",
              "    <tr>\n",
              "      <th>1</th>\n",
              "      <td>0.98</td>\n",
              "      <td>294.0</td>\n",
              "      <td>7.0</td>\n",
              "      <td>3</td>\n",
              "      <td>0.0</td>\n",
              "      <td>0</td>\n",
              "    </tr>\n",
              "  </tbody>\n",
              "</table>\n",
              "</div>"
            ],
            "text/plain": [
              "   compact  w_area  height  orient  g_area  g_area_dist\n",
              "0     0.98   294.0     7.0       2     0.0            0\n",
              "1     0.98   294.0     7.0       3     0.0            0"
            ]
          },
          "execution_count": 78,
          "metadata": {},
          "output_type": "execute_result"
        }
      ],
      "source": [
        "x2.head(2)"
      ]
    },
    {
      "cell_type": "code",
      "execution_count": null,
      "metadata": {
        "id": "3hN5TbM2pu1E",
        "outputId": "63206dc9-970a-4545-e028-9e779d77d0bf"
      },
      "outputs": [
        {
          "name": "stdout",
          "output_type": "stream",
          "text": [
            "(576, 6)\n",
            "(192, 6)\n",
            "(576,)\n",
            "(192,)\n"
          ]
        }
      ],
      "source": [
        "from sklearn.model_selection import train_test_split\n",
        "x_train,x_test,y_train,y_test = train_test_split(x2,y2,test_size=0.25)\n",
        "print(x_train.shape)\n",
        "print(x_test.shape)\n",
        "print(y_train.shape)\n",
        "print(y_test.shape)"
      ]
    },
    {
      "cell_type": "code",
      "execution_count": null,
      "metadata": {
        "id": "RXRPUGqupu1E",
        "outputId": "93ba80d8-268c-4ef0-c478-01b237f70e92"
      },
      "outputs": [
        {
          "data": {
            "text/plain": [
              "LinearRegression()"
            ]
          },
          "execution_count": 83,
          "metadata": {},
          "output_type": "execute_result"
        }
      ],
      "source": [
        "reg_cool = LinearRegression()\n",
        "reg_cool.fit(x_train,y_train)"
      ]
    },
    {
      "cell_type": "code",
      "execution_count": null,
      "metadata": {
        "id": "2X6u3s44pu1E",
        "outputId": "5db39b46-5a83-48e3-e49c-ff96376a814c"
      },
      "outputs": [
        {
          "name": "stdout",
          "output_type": "stream",
          "text": [
            "0.8839097166718051\n",
            "0.8840867110562004\n"
          ]
        }
      ],
      "source": [
        "print(reg_cool.score(x_train,y_train))\n",
        "print(reg_cool.score(x_test,y_test))\n"
      ]
    },
    {
      "cell_type": "code",
      "execution_count": null,
      "metadata": {
        "id": "b9G9RM4hpu1E"
      },
      "outputs": [],
      "source": [
        "y_pred_cool = reg_cool.predict(x_test)"
      ]
    },
    {
      "cell_type": "code",
      "execution_count": null,
      "metadata": {
        "id": "j9cM17wLpu1E",
        "outputId": "cc928330-b633-461b-adbc-21fdd86dd1d0"
      },
      "outputs": [
        {
          "name": "stdout",
          "output_type": "stream",
          "text": [
            "[-15.75991271   0.02253102   5.45155973   0.03378287  14.51379377\n",
            "   0.07007549]\n",
            "-2.942683976308558\n"
          ]
        }
      ],
      "source": [
        "coef = reg_cool.coef_\n",
        "intercept = reg_cool.intercept_\n",
        "print(coef)\n",
        "print(intercept)"
      ]
    },
    {
      "cell_type": "code",
      "execution_count": null,
      "metadata": {
        "id": "gxrlIlc5pu1E",
        "outputId": "e7551957-ccc2-4094-9ff2-104344bb2aee"
      },
      "outputs": [
        {
          "name": "stderr",
          "output_type": "stream",
          "text": [
            "E:\\Users\\lenovo\\Anaconda3\\lib\\site-packages\\ipykernel_launcher.py:1: SettingWithCopyWarning: \n",
            "A value is trying to be set on a copy of a slice from a DataFrame.\n",
            "Try using .loc[row_indexer,col_indexer] = value instead\n",
            "\n",
            "See the caveats in the documentation: https://pandas.pydata.org/pandas-docs/stable/user_guide/indexing.html#returning-a-view-versus-a-copy\n",
            "  \"\"\"Entry point for launching an IPython kernel.\n",
            "E:\\Users\\lenovo\\Anaconda3\\lib\\site-packages\\ipykernel_launcher.py:2: SettingWithCopyWarning: \n",
            "A value is trying to be set on a copy of a slice from a DataFrame.\n",
            "Try using .loc[row_indexer,col_indexer] = value instead\n",
            "\n",
            "See the caveats in the documentation: https://pandas.pydata.org/pandas-docs/stable/user_guide/indexing.html#returning-a-view-versus-a-copy\n",
            "  \n"
          ]
        },
        {
          "data": {
            "text/html": [
              "<div>\n",
              "<style scoped>\n",
              "    .dataframe tbody tr th:only-of-type {\n",
              "        vertical-align: middle;\n",
              "    }\n",
              "\n",
              "    .dataframe tbody tr th {\n",
              "        vertical-align: top;\n",
              "    }\n",
              "\n",
              "    .dataframe thead th {\n",
              "        text-align: right;\n",
              "    }\n",
              "</style>\n",
              "<table border=\"1\" class=\"dataframe\">\n",
              "  <thead>\n",
              "    <tr style=\"text-align: right;\">\n",
              "      <th></th>\n",
              "      <th>compact</th>\n",
              "      <th>w_area</th>\n",
              "      <th>height</th>\n",
              "      <th>orient</th>\n",
              "      <th>g_area</th>\n",
              "      <th>g_area_dist</th>\n",
              "      <th>y_test</th>\n",
              "      <th>y_pred</th>\n",
              "    </tr>\n",
              "  </thead>\n",
              "  <tbody>\n",
              "    <tr>\n",
              "      <th>270</th>\n",
              "      <td>0.71</td>\n",
              "      <td>269.5</td>\n",
              "      <td>3.5</td>\n",
              "      <td>4</td>\n",
              "      <td>0.1</td>\n",
              "      <td>5</td>\n",
              "      <td>14.26</td>\n",
              "      <td>12.957235</td>\n",
              "    </tr>\n",
              "    <tr>\n",
              "      <th>574</th>\n",
              "      <td>0.62</td>\n",
              "      <td>367.5</td>\n",
              "      <td>3.5</td>\n",
              "      <td>4</td>\n",
              "      <td>0.4</td>\n",
              "      <td>1</td>\n",
              "      <td>17.15</td>\n",
              "      <td>20.657503</td>\n",
              "    </tr>\n",
              "    <tr>\n",
              "      <th>217</th>\n",
              "      <td>0.74</td>\n",
              "      <td>245.0</td>\n",
              "      <td>3.5</td>\n",
              "      <td>3</td>\n",
              "      <td>0.1</td>\n",
              "      <td>4</td>\n",
              "      <td>13.36</td>\n",
              "      <td>11.828569</td>\n",
              "    </tr>\n",
              "    <tr>\n",
              "      <th>280</th>\n",
              "      <td>0.64</td>\n",
              "      <td>343.0</td>\n",
              "      <td>3.5</td>\n",
              "      <td>2</td>\n",
              "      <td>0.1</td>\n",
              "      <td>5</td>\n",
              "      <td>19.24</td>\n",
              "      <td>15.648893</td>\n",
              "    </tr>\n",
              "    <tr>\n",
              "      <th>727</th>\n",
              "      <td>0.90</td>\n",
              "      <td>318.5</td>\n",
              "      <td>7.0</td>\n",
              "      <td>5</td>\n",
              "      <td>0.4</td>\n",
              "      <td>5</td>\n",
              "      <td>37.27</td>\n",
              "      <td>34.535252</td>\n",
              "    </tr>\n",
              "  </tbody>\n",
              "</table>\n",
              "</div>"
            ],
            "text/plain": [
              "     compact  w_area  height  orient  g_area  g_area_dist  y_test     y_pred\n",
              "270     0.71   269.5     3.5       4     0.1            5   14.26  12.957235\n",
              "574     0.62   367.5     3.5       4     0.4            1   17.15  20.657503\n",
              "217     0.74   245.0     3.5       3     0.1            4   13.36  11.828569\n",
              "280     0.64   343.0     3.5       2     0.1            5   19.24  15.648893\n",
              "727     0.90   318.5     7.0       5     0.4            5   37.27  34.535252"
            ]
          },
          "execution_count": 88,
          "metadata": {},
          "output_type": "execute_result"
        }
      ],
      "source": [
        "x_test['y_test'] = y_test\n",
        "x_test['y_pred'] = y_pred_cool\n",
        "x_test.head()"
      ]
    },
    {
      "cell_type": "code",
      "execution_count": null,
      "metadata": {
        "id": "mHf9oyM-pu1E",
        "outputId": "43a463f0-7ca8-475a-e762-4e3a092da9f0"
      },
      "outputs": [
        {
          "name": "stderr",
          "output_type": "stream",
          "text": [
            "E:\\Users\\lenovo\\Anaconda3\\lib\\site-packages\\ipykernel_launcher.py:5: SettingWithCopyWarning: \n",
            "A value is trying to be set on a copy of a slice from a DataFrame.\n",
            "Try using .loc[row_indexer,col_indexer] = value instead\n",
            "\n",
            "See the caveats in the documentation: https://pandas.pydata.org/pandas-docs/stable/user_guide/indexing.html#returning-a-view-versus-a-copy\n",
            "  \"\"\"\n"
          ]
        },
        {
          "data": {
            "text/html": [
              "<div>\n",
              "<style scoped>\n",
              "    .dataframe tbody tr th:only-of-type {\n",
              "        vertical-align: middle;\n",
              "    }\n",
              "\n",
              "    .dataframe tbody tr th {\n",
              "        vertical-align: top;\n",
              "    }\n",
              "\n",
              "    .dataframe thead th {\n",
              "        text-align: right;\n",
              "    }\n",
              "</style>\n",
              "<table border=\"1\" class=\"dataframe\">\n",
              "  <thead>\n",
              "    <tr style=\"text-align: right;\">\n",
              "      <th></th>\n",
              "      <th>compact</th>\n",
              "      <th>w_area</th>\n",
              "      <th>height</th>\n",
              "      <th>orient</th>\n",
              "      <th>g_area</th>\n",
              "      <th>g_area_dist</th>\n",
              "      <th>y_test</th>\n",
              "      <th>y_pred</th>\n",
              "      <th>CoolLoad_pred_eqn</th>\n",
              "    </tr>\n",
              "  </thead>\n",
              "  <tbody>\n",
              "    <tr>\n",
              "      <th>270</th>\n",
              "      <td>0.71</td>\n",
              "      <td>269.5</td>\n",
              "      <td>3.5</td>\n",
              "      <td>4</td>\n",
              "      <td>0.1</td>\n",
              "      <td>5</td>\n",
              "      <td>14.26</td>\n",
              "      <td>12.957235</td>\n",
              "      <td>12.957235</td>\n",
              "    </tr>\n",
              "    <tr>\n",
              "      <th>574</th>\n",
              "      <td>0.62</td>\n",
              "      <td>367.5</td>\n",
              "      <td>3.5</td>\n",
              "      <td>4</td>\n",
              "      <td>0.4</td>\n",
              "      <td>1</td>\n",
              "      <td>17.15</td>\n",
              "      <td>20.657503</td>\n",
              "      <td>20.657503</td>\n",
              "    </tr>\n",
              "    <tr>\n",
              "      <th>217</th>\n",
              "      <td>0.74</td>\n",
              "      <td>245.0</td>\n",
              "      <td>3.5</td>\n",
              "      <td>3</td>\n",
              "      <td>0.1</td>\n",
              "      <td>4</td>\n",
              "      <td>13.36</td>\n",
              "      <td>11.828569</td>\n",
              "      <td>11.828569</td>\n",
              "    </tr>\n",
              "    <tr>\n",
              "      <th>280</th>\n",
              "      <td>0.64</td>\n",
              "      <td>343.0</td>\n",
              "      <td>3.5</td>\n",
              "      <td>2</td>\n",
              "      <td>0.1</td>\n",
              "      <td>5</td>\n",
              "      <td>19.24</td>\n",
              "      <td>15.648893</td>\n",
              "      <td>15.648893</td>\n",
              "    </tr>\n",
              "    <tr>\n",
              "      <th>727</th>\n",
              "      <td>0.90</td>\n",
              "      <td>318.5</td>\n",
              "      <td>7.0</td>\n",
              "      <td>5</td>\n",
              "      <td>0.4</td>\n",
              "      <td>5</td>\n",
              "      <td>37.27</td>\n",
              "      <td>34.535252</td>\n",
              "      <td>34.535252</td>\n",
              "    </tr>\n",
              "  </tbody>\n",
              "</table>\n",
              "</div>"
            ],
            "text/plain": [
              "     compact  w_area  height  orient  g_area  g_area_dist  y_test     y_pred  \\\n",
              "270     0.71   269.5     3.5       4     0.1            5   14.26  12.957235   \n",
              "574     0.62   367.5     3.5       4     0.4            1   17.15  20.657503   \n",
              "217     0.74   245.0     3.5       3     0.1            4   13.36  11.828569   \n",
              "280     0.64   343.0     3.5       2     0.1            5   19.24  15.648893   \n",
              "727     0.90   318.5     7.0       5     0.4            5   37.27  34.535252   \n",
              "\n",
              "     CoolLoad_pred_eqn  \n",
              "270          12.957235  \n",
              "574          20.657503  \n",
              "217          11.828569  \n",
              "280          15.648893  \n",
              "727          34.535252  "
            ]
          },
          "execution_count": 91,
          "metadata": {},
          "output_type": "execute_result"
        }
      ],
      "source": [
        "### Eqn\n",
        "x_test['CoolLoad_pred_eqn'] = x_test['compact']*coef[0] + \\\n",
        "                x_test['w_area']*coef[1] + x_test['height']*coef[2] + \\\n",
        "                x_test['orient']*coef[3] + x_test['g_area']*coef[4] + \\\n",
        "                x_test['g_area_dist']*coef[5] + intercept\n",
        "x_test.head()"
      ]
    },
    {
      "cell_type": "code",
      "execution_count": null,
      "metadata": {
        "id": "af3Ya1ARpu1E",
        "outputId": "93a0b26c-31c8-44a0-c7ec-308fe8cc3eae"
      },
      "outputs": [
        {
          "name": "stdout",
          "output_type": "stream",
          "text": [
            "MSE 11.492016380358132\n",
            "MAE 2.2820044643822546\n",
            "RMSE 3.389987666697053\n"
          ]
        }
      ],
      "source": [
        "mse = mean_squared_error(y_test,y_pred_cool)\n",
        "mae = mean_absolute_error(y_test,y_pred_cool)\n",
        "rmse = mse**0.5\n",
        "print('MSE',mse)\n",
        "print('MAE',mae)\n",
        "print('RMSE',rmse)"
      ]
    },
    {
      "cell_type": "code",
      "execution_count": null,
      "metadata": {
        "id": "V03JSH8Dpu1E"
      },
      "outputs": [],
      "source": []
    }
  ],
  "metadata": {
    "kernelspec": {
      "display_name": "Python 3",
      "language": "python",
      "name": "python3"
    },
    "language_info": {
      "codemirror_mode": {
        "name": "ipython",
        "version": 3
      },
      "file_extension": ".py",
      "mimetype": "text/x-python",
      "name": "python",
      "nbconvert_exporter": "python",
      "pygments_lexer": "ipython3",
      "version": "3.7.3"
    },
    "colab": {
      "provenance": [],
      "include_colab_link": true
    }
  },
  "nbformat": 4,
  "nbformat_minor": 0
}