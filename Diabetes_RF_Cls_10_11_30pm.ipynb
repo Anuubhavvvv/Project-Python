{
  "cells": [
    {
      "cell_type": "markdown",
      "metadata": {
        "id": "view-in-github",
        "colab_type": "text"
      },
      "source": [
        "<a href=\"https://colab.research.google.com/github/Anuubhavvvv/Project-Python/blob/main/Diabetes_RF_Cls_10_11_30pm.ipynb\" target=\"_parent\"><img src=\"https://colab.research.google.com/assets/colab-badge.svg\" alt=\"Open In Colab\"/></a>"
      ]
    },
    {
      "cell_type": "code",
      "execution_count": null,
      "metadata": {
        "id": "bsYUxySGqQHr"
      },
      "outputs": [],
      "source": [
        "import pandas as pd\n",
        "import numpy as np\n",
        "import matplotlib.pyplot as plt"
      ]
    },
    {
      "cell_type": "code",
      "execution_count": null,
      "metadata": {
        "id": "Ausxt2H2qQHr",
        "outputId": "ade2050a-4a9c-446b-c888-b859dd348898"
      },
      "outputs": [
        {
          "data": {
            "text/html": [
              "<div>\n",
              "<style scoped>\n",
              "    .dataframe tbody tr th:only-of-type {\n",
              "        vertical-align: middle;\n",
              "    }\n",
              "\n",
              "    .dataframe tbody tr th {\n",
              "        vertical-align: top;\n",
              "    }\n",
              "\n",
              "    .dataframe thead th {\n",
              "        text-align: right;\n",
              "    }\n",
              "</style>\n",
              "<table border=\"1\" class=\"dataframe\">\n",
              "  <thead>\n",
              "    <tr style=\"text-align: right;\">\n",
              "      <th></th>\n",
              "      <th>Pregnancies</th>\n",
              "      <th>Glucose</th>\n",
              "      <th>BloodPressure</th>\n",
              "      <th>SkinThickness</th>\n",
              "      <th>Insulin</th>\n",
              "      <th>BMI</th>\n",
              "      <th>DiabetesPedigreeFunction</th>\n",
              "      <th>Age</th>\n",
              "      <th>Outcome</th>\n",
              "    </tr>\n",
              "  </thead>\n",
              "  <tbody>\n",
              "    <tr>\n",
              "      <th>0</th>\n",
              "      <td>6</td>\n",
              "      <td>148</td>\n",
              "      <td>72</td>\n",
              "      <td>35</td>\n",
              "      <td>0</td>\n",
              "      <td>33.6</td>\n",
              "      <td>0.627</td>\n",
              "      <td>50</td>\n",
              "      <td>1</td>\n",
              "    </tr>\n",
              "    <tr>\n",
              "      <th>1</th>\n",
              "      <td>1</td>\n",
              "      <td>85</td>\n",
              "      <td>66</td>\n",
              "      <td>29</td>\n",
              "      <td>0</td>\n",
              "      <td>26.6</td>\n",
              "      <td>0.351</td>\n",
              "      <td>31</td>\n",
              "      <td>0</td>\n",
              "    </tr>\n",
              "    <tr>\n",
              "      <th>2</th>\n",
              "      <td>8</td>\n",
              "      <td>183</td>\n",
              "      <td>64</td>\n",
              "      <td>0</td>\n",
              "      <td>0</td>\n",
              "      <td>23.3</td>\n",
              "      <td>0.672</td>\n",
              "      <td>32</td>\n",
              "      <td>1</td>\n",
              "    </tr>\n",
              "    <tr>\n",
              "      <th>3</th>\n",
              "      <td>1</td>\n",
              "      <td>89</td>\n",
              "      <td>66</td>\n",
              "      <td>23</td>\n",
              "      <td>94</td>\n",
              "      <td>28.1</td>\n",
              "      <td>0.167</td>\n",
              "      <td>21</td>\n",
              "      <td>0</td>\n",
              "    </tr>\n",
              "    <tr>\n",
              "      <th>4</th>\n",
              "      <td>0</td>\n",
              "      <td>137</td>\n",
              "      <td>40</td>\n",
              "      <td>35</td>\n",
              "      <td>168</td>\n",
              "      <td>43.1</td>\n",
              "      <td>2.288</td>\n",
              "      <td>33</td>\n",
              "      <td>1</td>\n",
              "    </tr>\n",
              "  </tbody>\n",
              "</table>\n",
              "</div>"
            ],
            "text/plain": [
              "   Pregnancies  Glucose  BloodPressure  SkinThickness  Insulin   BMI  \\\n",
              "0            6      148             72             35        0  33.6   \n",
              "1            1       85             66             29        0  26.6   \n",
              "2            8      183             64              0        0  23.3   \n",
              "3            1       89             66             23       94  28.1   \n",
              "4            0      137             40             35      168  43.1   \n",
              "\n",
              "   DiabetesPedigreeFunction  Age  Outcome  \n",
              "0                     0.627   50        1  \n",
              "1                     0.351   31        0  \n",
              "2                     0.672   32        1  \n",
              "3                     0.167   21        0  \n",
              "4                     2.288   33        1  "
            ]
          },
          "execution_count": 2,
          "metadata": {},
          "output_type": "execute_result"
        }
      ],
      "source": [
        "df= pd.read_csv('diabetes.csv')\n",
        "df.head()"
      ]
    },
    {
      "cell_type": "code",
      "execution_count": null,
      "metadata": {
        "id": "DZyiWVBfqQHs",
        "outputId": "bc55d73d-5872-44ab-c851-43746aef33bf"
      },
      "outputs": [
        {
          "data": {
            "text/plain": [
              "0    500\n",
              "1    268\n",
              "Name: Outcome, dtype: int64"
            ]
          },
          "execution_count": 3,
          "metadata": {},
          "output_type": "execute_result"
        }
      ],
      "source": [
        "df['Outcome'].value_counts()"
      ]
    },
    {
      "cell_type": "code",
      "execution_count": null,
      "metadata": {
        "id": "cz1UIuIYqQHs",
        "outputId": "6b4a85e3-d9eb-484d-f0a1-d127c8abf43c"
      },
      "outputs": [
        {
          "data": {
            "text/plain": [
              "(768, 9)"
            ]
          },
          "execution_count": 4,
          "metadata": {},
          "output_type": "execute_result"
        }
      ],
      "source": [
        "df.shape"
      ]
    },
    {
      "cell_type": "code",
      "execution_count": null,
      "metadata": {
        "id": "cG4CuT4hqQHs",
        "outputId": "801cdf18-8a32-43d3-f3e3-3fc10a278897"
      },
      "outputs": [
        {
          "data": {
            "text/plain": [
              "Pregnancies                 0\n",
              "Glucose                     0\n",
              "BloodPressure               0\n",
              "SkinThickness               0\n",
              "Insulin                     0\n",
              "BMI                         0\n",
              "DiabetesPedigreeFunction    0\n",
              "Age                         0\n",
              "Outcome                     0\n",
              "dtype: int64"
            ]
          },
          "execution_count": 5,
          "metadata": {},
          "output_type": "execute_result"
        }
      ],
      "source": [
        "df.isnull().sum()"
      ]
    },
    {
      "cell_type": "code",
      "execution_count": null,
      "metadata": {
        "id": "aOzGxXC1qQHs",
        "outputId": "c1638662-3575-434c-f839-db2ecd2b1ee8"
      },
      "outputs": [
        {
          "data": {
            "text/html": [
              "<div>\n",
              "<style scoped>\n",
              "    .dataframe tbody tr th:only-of-type {\n",
              "        vertical-align: middle;\n",
              "    }\n",
              "\n",
              "    .dataframe tbody tr th {\n",
              "        vertical-align: top;\n",
              "    }\n",
              "\n",
              "    .dataframe thead th {\n",
              "        text-align: right;\n",
              "    }\n",
              "</style>\n",
              "<table border=\"1\" class=\"dataframe\">\n",
              "  <thead>\n",
              "    <tr style=\"text-align: right;\">\n",
              "      <th></th>\n",
              "      <th>Pregnancies</th>\n",
              "      <th>Glucose</th>\n",
              "      <th>BloodPressure</th>\n",
              "      <th>SkinThickness</th>\n",
              "      <th>Insulin</th>\n",
              "      <th>BMI</th>\n",
              "      <th>DiabetesPedigreeFunction</th>\n",
              "      <th>Age</th>\n",
              "      <th>Outcome</th>\n",
              "    </tr>\n",
              "  </thead>\n",
              "  <tbody>\n",
              "    <tr>\n",
              "      <th>Pregnancies</th>\n",
              "      <td>1.000000</td>\n",
              "      <td>0.129459</td>\n",
              "      <td>0.141282</td>\n",
              "      <td>-0.081672</td>\n",
              "      <td>-0.073535</td>\n",
              "      <td>0.017683</td>\n",
              "      <td>-0.033523</td>\n",
              "      <td>0.544341</td>\n",
              "      <td>0.221898</td>\n",
              "    </tr>\n",
              "    <tr>\n",
              "      <th>Glucose</th>\n",
              "      <td>0.129459</td>\n",
              "      <td>1.000000</td>\n",
              "      <td>0.152590</td>\n",
              "      <td>0.057328</td>\n",
              "      <td>0.331357</td>\n",
              "      <td>0.221071</td>\n",
              "      <td>0.137337</td>\n",
              "      <td>0.263514</td>\n",
              "      <td>0.466581</td>\n",
              "    </tr>\n",
              "    <tr>\n",
              "      <th>BloodPressure</th>\n",
              "      <td>0.141282</td>\n",
              "      <td>0.152590</td>\n",
              "      <td>1.000000</td>\n",
              "      <td>0.207371</td>\n",
              "      <td>0.088933</td>\n",
              "      <td>0.281805</td>\n",
              "      <td>0.041265</td>\n",
              "      <td>0.239528</td>\n",
              "      <td>0.065068</td>\n",
              "    </tr>\n",
              "    <tr>\n",
              "      <th>SkinThickness</th>\n",
              "      <td>-0.081672</td>\n",
              "      <td>0.057328</td>\n",
              "      <td>0.207371</td>\n",
              "      <td>1.000000</td>\n",
              "      <td>0.436783</td>\n",
              "      <td>0.392573</td>\n",
              "      <td>0.183928</td>\n",
              "      <td>-0.113970</td>\n",
              "      <td>0.074752</td>\n",
              "    </tr>\n",
              "    <tr>\n",
              "      <th>Insulin</th>\n",
              "      <td>-0.073535</td>\n",
              "      <td>0.331357</td>\n",
              "      <td>0.088933</td>\n",
              "      <td>0.436783</td>\n",
              "      <td>1.000000</td>\n",
              "      <td>0.197859</td>\n",
              "      <td>0.185071</td>\n",
              "      <td>-0.042163</td>\n",
              "      <td>0.130548</td>\n",
              "    </tr>\n",
              "    <tr>\n",
              "      <th>BMI</th>\n",
              "      <td>0.017683</td>\n",
              "      <td>0.221071</td>\n",
              "      <td>0.281805</td>\n",
              "      <td>0.392573</td>\n",
              "      <td>0.197859</td>\n",
              "      <td>1.000000</td>\n",
              "      <td>0.140647</td>\n",
              "      <td>0.036242</td>\n",
              "      <td>0.292695</td>\n",
              "    </tr>\n",
              "    <tr>\n",
              "      <th>DiabetesPedigreeFunction</th>\n",
              "      <td>-0.033523</td>\n",
              "      <td>0.137337</td>\n",
              "      <td>0.041265</td>\n",
              "      <td>0.183928</td>\n",
              "      <td>0.185071</td>\n",
              "      <td>0.140647</td>\n",
              "      <td>1.000000</td>\n",
              "      <td>0.033561</td>\n",
              "      <td>0.173844</td>\n",
              "    </tr>\n",
              "    <tr>\n",
              "      <th>Age</th>\n",
              "      <td>0.544341</td>\n",
              "      <td>0.263514</td>\n",
              "      <td>0.239528</td>\n",
              "      <td>-0.113970</td>\n",
              "      <td>-0.042163</td>\n",
              "      <td>0.036242</td>\n",
              "      <td>0.033561</td>\n",
              "      <td>1.000000</td>\n",
              "      <td>0.238356</td>\n",
              "    </tr>\n",
              "    <tr>\n",
              "      <th>Outcome</th>\n",
              "      <td>0.221898</td>\n",
              "      <td>0.466581</td>\n",
              "      <td>0.065068</td>\n",
              "      <td>0.074752</td>\n",
              "      <td>0.130548</td>\n",
              "      <td>0.292695</td>\n",
              "      <td>0.173844</td>\n",
              "      <td>0.238356</td>\n",
              "      <td>1.000000</td>\n",
              "    </tr>\n",
              "  </tbody>\n",
              "</table>\n",
              "</div>"
            ],
            "text/plain": [
              "                          Pregnancies   Glucose  BloodPressure  SkinThickness  \\\n",
              "Pregnancies                  1.000000  0.129459       0.141282      -0.081672   \n",
              "Glucose                      0.129459  1.000000       0.152590       0.057328   \n",
              "BloodPressure                0.141282  0.152590       1.000000       0.207371   \n",
              "SkinThickness               -0.081672  0.057328       0.207371       1.000000   \n",
              "Insulin                     -0.073535  0.331357       0.088933       0.436783   \n",
              "BMI                          0.017683  0.221071       0.281805       0.392573   \n",
              "DiabetesPedigreeFunction    -0.033523  0.137337       0.041265       0.183928   \n",
              "Age                          0.544341  0.263514       0.239528      -0.113970   \n",
              "Outcome                      0.221898  0.466581       0.065068       0.074752   \n",
              "\n",
              "                           Insulin       BMI  DiabetesPedigreeFunction  \\\n",
              "Pregnancies              -0.073535  0.017683                 -0.033523   \n",
              "Glucose                   0.331357  0.221071                  0.137337   \n",
              "BloodPressure             0.088933  0.281805                  0.041265   \n",
              "SkinThickness             0.436783  0.392573                  0.183928   \n",
              "Insulin                   1.000000  0.197859                  0.185071   \n",
              "BMI                       0.197859  1.000000                  0.140647   \n",
              "DiabetesPedigreeFunction  0.185071  0.140647                  1.000000   \n",
              "Age                      -0.042163  0.036242                  0.033561   \n",
              "Outcome                   0.130548  0.292695                  0.173844   \n",
              "\n",
              "                               Age   Outcome  \n",
              "Pregnancies               0.544341  0.221898  \n",
              "Glucose                   0.263514  0.466581  \n",
              "BloodPressure             0.239528  0.065068  \n",
              "SkinThickness            -0.113970  0.074752  \n",
              "Insulin                  -0.042163  0.130548  \n",
              "BMI                       0.036242  0.292695  \n",
              "DiabetesPedigreeFunction  0.033561  0.173844  \n",
              "Age                       1.000000  0.238356  \n",
              "Outcome                   0.238356  1.000000  "
            ]
          },
          "execution_count": 6,
          "metadata": {},
          "output_type": "execute_result"
        }
      ],
      "source": [
        "df.corr()"
      ]
    },
    {
      "cell_type": "code",
      "execution_count": null,
      "metadata": {
        "id": "5a_69R_WqQHs"
      },
      "outputs": [],
      "source": [
        "# Glucose, BloodPressure, SkinThickness, Insulin and BMI"
      ]
    },
    {
      "cell_type": "code",
      "execution_count": null,
      "metadata": {
        "id": "OanH6PwLqQHt",
        "outputId": "d6bd48f4-6d95-4055-8c54-b4060d689c6a"
      },
      "outputs": [
        {
          "name": "stdout",
          "output_type": "stream",
          "text": [
            "Glu0 (5, 9)\n",
            "BP0 (35, 9)\n",
            "st0 (227, 9)\n",
            "in0 (374, 9)\n",
            "BMI0 (11, 9)\n"
          ]
        }
      ],
      "source": [
        "glu0 = df[df['Glucose']==0].shape\n",
        "bp0 = df[df['BloodPressure']==0].shape\n",
        "st0 = df[df['SkinThickness']==0].shape\n",
        "in0 = df[df['Insulin']==0].shape\n",
        "bmi0 = df[df['BMI']==0].shape\n",
        "print('Glu0',glu0)\n",
        "print('BP0',bp0)\n",
        "print('st0',st0)\n",
        "print('in0',in0)\n",
        "print('BMI0',bmi0)"
      ]
    },
    {
      "cell_type": "code",
      "execution_count": null,
      "metadata": {
        "id": "6utBboe5qQHt",
        "outputId": "368bff73-9edd-460c-f36a-4590308eccc1"
      },
      "outputs": [
        {
          "name": "stdout",
          "output_type": "stream",
          "text": [
            "120.89453125 69.10546875 20.536458333333332 79.79947916666667 31.992578124999977\n"
          ]
        }
      ],
      "source": [
        "glu_mean = df['Glucose'].mean()\n",
        "bp_mean = df['BloodPressure'].mean()\n",
        "st_mean = df['SkinThickness'].mean()\n",
        "in_mean = df['Insulin'].mean()\n",
        "bmi_mean = df['BMI'].mean()\n",
        "print(glu_mean,bp_mean,st_mean,in_mean,bmi_mean)"
      ]
    },
    {
      "cell_type": "code",
      "execution_count": null,
      "metadata": {
        "id": "61nmzKW9qQHt"
      },
      "outputs": [],
      "source": [
        "df['Glucose'].replace(0,glu_mean,inplace=True)\n",
        "df['BloodPressure'].replace(0,bp_mean,inplace=True)\n",
        "df['SkinThickness'].replace(0,st_mean,inplace=True)\n",
        "df['Insulin'].replace(0,in_mean,inplace=True)\n",
        "df['BMI'].replace(0,bmi_mean,inplace=True)"
      ]
    },
    {
      "cell_type": "code",
      "execution_count": null,
      "metadata": {
        "id": "7nJLZy2BqQHt",
        "outputId": "30d0e4e8-da6c-42e6-ce86-afb3f181c3b0"
      },
      "outputs": [
        {
          "name": "stdout",
          "output_type": "stream",
          "text": [
            "Glu0 (0, 9)\n",
            "BP0 (0, 9)\n",
            "st0 (0, 9)\n",
            "in0 (0, 9)\n",
            "BMI0 (0, 9)\n"
          ]
        }
      ],
      "source": [
        "glu0 = df[df['Glucose']==0].shape\n",
        "bp0 = df[df['BloodPressure']==0].shape\n",
        "st0 = df[df['SkinThickness']==0].shape\n",
        "in0 = df[df['Insulin']==0].shape\n",
        "bmi0 = df[df['BMI']==0].shape\n",
        "print('Glu0',glu0)\n",
        "print('BP0',bp0)\n",
        "print('st0',st0)\n",
        "print('in0',in0)\n",
        "print('BMI0',bmi0)"
      ]
    },
    {
      "cell_type": "code",
      "execution_count": null,
      "metadata": {
        "id": "FJXD8TEVqQHt",
        "outputId": "103caa6f-5aec-4b53-c3aa-3ec65fd11828"
      },
      "outputs": [
        {
          "name": "stdout",
          "output_type": "stream",
          "text": [
            "(768, 8)\n",
            "(768,)\n"
          ]
        }
      ],
      "source": [
        "x = df.iloc[:,:-1]\n",
        "y = df.iloc[:,-1]\n",
        "print(x.shape)\n",
        "print(y.shape)"
      ]
    },
    {
      "cell_type": "code",
      "execution_count": null,
      "metadata": {
        "id": "Csg-vkdoqQHt"
      },
      "outputs": [],
      "source": [
        "from sklearn.model_selection import train_test_split"
      ]
    },
    {
      "cell_type": "code",
      "execution_count": null,
      "metadata": {
        "id": "PvBSnXF9qQHt",
        "outputId": "000474b0-c9f8-49f5-9ef2-b592c6e03c4a"
      },
      "outputs": [
        {
          "name": "stdout",
          "output_type": "stream",
          "text": [
            "(576, 8)\n",
            "(192, 8)\n",
            "(576,)\n",
            "(192,)\n"
          ]
        }
      ],
      "source": [
        "x_train,x_test,y_train,y_test = train_test_split(x,y,test_size=0.25)\n",
        "print(x_train.shape)\n",
        "print(x_test.shape)\n",
        "print(y_train.shape)\n",
        "print(y_test.shape)"
      ]
    },
    {
      "cell_type": "code",
      "execution_count": null,
      "metadata": {
        "id": "bI8dixAGqQHt"
      },
      "outputs": [],
      "source": [
        "from sklearn.ensemble import RandomForestClassifier"
      ]
    },
    {
      "cell_type": "code",
      "execution_count": null,
      "metadata": {
        "id": "kGIq7IpfqQHt",
        "outputId": "943b94c5-5858-4a89-fe4a-6c744a441e8e"
      },
      "outputs": [
        {
          "data": {
            "text/plain": [
              "RandomForestClassifier(n_estimators=20)"
            ]
          },
          "execution_count": 22,
          "metadata": {},
          "output_type": "execute_result"
        }
      ],
      "source": [
        "rf1 = RandomForestClassifier(n_estimators=20) # criterion='gini'\n",
        "rf1.fit(x_train,y_train)"
      ]
    },
    {
      "cell_type": "code",
      "execution_count": null,
      "metadata": {
        "id": "pkxrxp7rqQHt",
        "outputId": "0e527cf4-43f9-4e46-c99b-432ea345f026"
      },
      "outputs": [
        {
          "name": "stdout",
          "output_type": "stream",
          "text": [
            "Training accuracy 0.9965277777777778\n",
            "Testing accuracy 0.734375\n"
          ]
        }
      ],
      "source": [
        "print('Training accuracy',rf1.score(x_train,y_train))\n",
        "print('Testing accuracy',rf1.score(x_test,y_test))"
      ]
    },
    {
      "cell_type": "code",
      "execution_count": null,
      "metadata": {
        "id": "tJKrZrAFqQHt"
      },
      "outputs": [],
      "source": [
        "y_pred_rf1 = rf1.predict(x_test)\n",
        "# y_pred_rf1"
      ]
    },
    {
      "cell_type": "code",
      "execution_count": null,
      "metadata": {
        "id": "olOxgLRcqQHt"
      },
      "outputs": [],
      "source": [
        "from sklearn.metrics import confusion_matrix, classification_report,accuracy_score"
      ]
    },
    {
      "cell_type": "code",
      "execution_count": null,
      "metadata": {
        "id": "DIqDl_unqQHt",
        "outputId": "f7c2d8c6-e384-43e3-f4fd-8d8871621b99"
      },
      "outputs": [
        {
          "name": "stdout",
          "output_type": "stream",
          "text": [
            "[[107  15]\n",
            " [ 36  34]]\n"
          ]
        }
      ],
      "source": [
        "cm = confusion_matrix(y_test,y_pred_rf1)\n",
        "print(cm)"
      ]
    },
    {
      "cell_type": "code",
      "execution_count": null,
      "metadata": {
        "id": "dHXfD6ZOqQHt",
        "outputId": "0dd56759-b0e1-4878-9c39-9879b06266fe"
      },
      "outputs": [
        {
          "name": "stdout",
          "output_type": "stream",
          "text": [
            "0.734375\n"
          ]
        }
      ],
      "source": [
        "print(accuracy_score(y_test,y_pred_rf1))"
      ]
    },
    {
      "cell_type": "code",
      "execution_count": null,
      "metadata": {
        "id": "VRk8VTqjqQHt",
        "outputId": "ca44f86b-f004-4e17-d6f6-d7a058ff47fe"
      },
      "outputs": [
        {
          "name": "stdout",
          "output_type": "stream",
          "text": [
            "              precision    recall  f1-score   support\n",
            "\n",
            "           0       0.75      0.88      0.81       122\n",
            "           1       0.69      0.49      0.57        70\n",
            "\n",
            "    accuracy                           0.73       192\n",
            "   macro avg       0.72      0.68      0.69       192\n",
            "weighted avg       0.73      0.73      0.72       192\n",
            "\n"
          ]
        }
      ],
      "source": [
        "print(classification_report(y_test,y_pred_rf1))"
      ]
    },
    {
      "cell_type": "code",
      "execution_count": null,
      "metadata": {
        "id": "eOJMkP8VqQHu"
      },
      "outputs": [],
      "source": [
        "from sklearn.model_selection import cross_val_score"
      ]
    },
    {
      "cell_type": "code",
      "execution_count": null,
      "metadata": {
        "id": "zSw1a3DHqQHu",
        "outputId": "10d85ed4-5a94-4085-de72-32f61e7d47ed"
      },
      "outputs": [
        {
          "name": "stdout",
          "output_type": "stream",
          "text": [
            "[0.77922078 0.74025974 0.75324675 0.83006536 0.75816993]\n",
            "0.772192513368984\n"
          ]
        }
      ],
      "source": [
        "# max_depth=[3,4,5,6,7,8,9]\n",
        "# for i in max_depth:\n",
        "scores = cross_val_score(RandomForestClassifier(),x,y)\n",
        "print(scores)\n",
        "print(f'{scores.mean()}')"
      ]
    },
    {
      "cell_type": "markdown",
      "metadata": {
        "id": "HhKv1K7sqQHu"
      },
      "source": [
        "### CV with max_depth"
      ]
    },
    {
      "cell_type": "code",
      "execution_count": null,
      "metadata": {
        "id": "ESjAte3bqQHu",
        "outputId": "b77e5206-b014-4c75-b263-388c60e2caca"
      },
      "outputs": [
        {
          "name": "stdout",
          "output_type": "stream",
          "text": [
            "At max_depth 3 the 0.7565826330532213\n",
            "At max_depth 4 the 0.7578643578643579\n",
            "At max_depth 5 the 0.7695866225277989\n",
            "At max_depth 6 the 0.7604872251931075\n",
            "At max_depth 7 the 0.7631016042780749\n",
            "At max_depth 8 the 0.7669807316866141\n",
            "At max_depth 9 the 0.7604617604617605\n"
          ]
        }
      ],
      "source": [
        "max_depth=[3,4,5,6,7,8,9]\n",
        "for i in max_depth:\n",
        "    scores = cross_val_score(RandomForestClassifier(max_depth=i),x,y)\n",
        "    print(f'At max_depth {i} the {scores.mean()}')"
      ]
    },
    {
      "cell_type": "markdown",
      "metadata": {
        "id": "IYFoy9guqQHu"
      },
      "source": [
        "### CV with criterion"
      ]
    },
    {
      "cell_type": "code",
      "execution_count": null,
      "metadata": {
        "id": "WoNz8sx_qQHu",
        "outputId": "53e2624d-e397-4976-eb18-257af0aa8733"
      },
      "outputs": [
        {
          "name": "stdout",
          "output_type": "stream",
          "text": [
            "At criterion gini the 0.7500891265597147\n",
            "At criterion entropy the 0.7617519735166794\n"
          ]
        }
      ],
      "source": [
        "c=['gini','entropy']\n",
        "for i in c:\n",
        "    scores = cross_val_score(RandomForestClassifier(criterion=i),x,y)\n",
        "    print(f'At criterion {i} the {scores.mean()}')"
      ]
    },
    {
      "cell_type": "markdown",
      "metadata": {
        "id": "z06MwjKkqQHu"
      },
      "source": [
        "### CV for min_samples_split"
      ]
    },
    {
      "cell_type": "code",
      "execution_count": null,
      "metadata": {
        "id": "JQZthKd8qQHu",
        "outputId": "46b0a5f6-3db7-4701-c7c6-ce3614258eb1"
      },
      "outputs": [
        {
          "name": "stdout",
          "output_type": "stream",
          "text": [
            "At min_samples_split 3 the 0.755258467023173\n",
            "At min_samples_split 4 the 0.7539427892369069\n",
            "At min_samples_split 5 the 0.7604872251931075\n",
            "At min_samples_split 6 the 0.7683048977166624\n",
            "At min_samples_split 7 the 0.7617774382480265\n",
            "At min_samples_split 8 the 0.7578898225957049\n",
            "At min_samples_split 9 the 0.7657074951192598\n",
            "At min_samples_split 11 the 0.750097614803497\n",
            "At min_samples_split 13 the 0.7591800356506239\n",
            "At min_samples_split 24 the 0.7578728461081403\n",
            "At min_samples_split 25 the 0.7553009082420847\n",
            "At min_samples_split 100 the 0.7578728461081402\n"
          ]
        }
      ],
      "source": [
        "mss =[3,4,5,6,7,8,9,11,13,24,25,100]\n",
        "for i in mss:\n",
        "    scores = cross_val_score(RandomForestClassifier(min_samples_split=i),x,y)\n",
        "    print(f'At min_samples_split {i} the {scores.mean()}')"
      ]
    },
    {
      "cell_type": "code",
      "execution_count": null,
      "metadata": {
        "id": "duB-i_0zqQHu",
        "outputId": "2174130d-b2bf-40f3-d0ab-940764aab4ff"
      },
      "outputs": [
        {
          "name": "stdout",
          "output_type": "stream",
          "text": [
            "At bootstrap True the 0.7631100925218572\n",
            "At bootstrap False the 0.748731007554537\n"
          ]
        }
      ],
      "source": [
        "bs =[True,False]\n",
        "for i in bs:\n",
        "    scores = cross_val_score(RandomForestClassifier(bootstrap=i),x,y)\n",
        "    print(f'At bootstrap {i} the {scores.mean()}')"
      ]
    },
    {
      "cell_type": "code",
      "execution_count": null,
      "metadata": {
        "id": "tIIoDRLZqQHu",
        "outputId": "27d25c15-e431-4a1a-99a5-6f0a51903bed"
      },
      "outputs": [
        {
          "data": {
            "text/plain": [
              "RandomForestClassifier(criterion='entropy', max_depth=5, min_samples_split=6)"
            ]
          },
          "execution_count": 43,
          "metadata": {},
          "output_type": "execute_result"
        }
      ],
      "source": [
        "rf2 = RandomForestClassifier(criterion='entropy',max_depth=5,min_samples_split=6)\n",
        "rf2.fit(x_train,y_train)"
      ]
    },
    {
      "cell_type": "code",
      "execution_count": null,
      "metadata": {
        "id": "IHZ6RkjSqQHu",
        "outputId": "4deb36be-675d-44d4-ddfd-6c607312989a"
      },
      "outputs": [
        {
          "name": "stdout",
          "output_type": "stream",
          "text": [
            "Training accuracy 0.8454861111111112\n",
            "Testing accuracy 0.765625\n"
          ]
        }
      ],
      "source": [
        "print('Training accuracy',rf2.score(x_train,y_train))\n",
        "print('Testing accuracy',rf2.score(x_test,y_test))"
      ]
    },
    {
      "cell_type": "code",
      "execution_count": null,
      "metadata": {
        "id": "EnHMqu30qQHu"
      },
      "outputs": [],
      "source": [
        "y_pred_rf2 = rf2.predict(x_test)\n",
        "# y_pred_rf1"
      ]
    },
    {
      "cell_type": "code",
      "execution_count": null,
      "metadata": {
        "id": "yCUrVRoVqQHu",
        "outputId": "3c563b99-e198-4043-dd33-969dd9c684bb"
      },
      "outputs": [
        {
          "name": "stdout",
          "output_type": "stream",
          "text": [
            "[[108  14]\n",
            " [ 31  39]]\n"
          ]
        }
      ],
      "source": [
        "cm = confusion_matrix(y_test,y_pred_rf2)\n",
        "print(cm)"
      ]
    },
    {
      "cell_type": "code",
      "execution_count": null,
      "metadata": {
        "id": "fzjsb3-WqQHu",
        "outputId": "f9b99b8f-3756-48b8-faad-255f678b3833"
      },
      "outputs": [
        {
          "name": "stdout",
          "output_type": "stream",
          "text": [
            "              precision    recall  f1-score   support\n",
            "\n",
            "           0       0.78      0.89      0.83       122\n",
            "           1       0.74      0.56      0.63        70\n",
            "\n",
            "    accuracy                           0.77       192\n",
            "   macro avg       0.76      0.72      0.73       192\n",
            "weighted avg       0.76      0.77      0.76       192\n",
            "\n"
          ]
        }
      ],
      "source": [
        "print(classification_report(y_test,y_pred_rf2))"
      ]
    },
    {
      "cell_type": "code",
      "execution_count": null,
      "metadata": {
        "id": "qVvOmzd0qQHu",
        "outputId": "3f7bca83-e602-40b4-d712-9c0e67cb9732"
      },
      "outputs": [
        {
          "name": "stdout",
          "output_type": "stream",
          "text": [
            "Rahul lives in Nagpur\n",
            "Rahul lives in Nagpur\n",
            "Rahul lives in Nagpur\n"
          ]
        }
      ],
      "source": [
        "name =\"Rahul\"\n",
        "city='Nagpur'\n",
        "print(name,'lives in',city)\n",
        "print(f'{name} lives in {city}')\n",
        "print('{} lives in {}'.format(name,city))"
      ]
    },
    {
      "cell_type": "code",
      "execution_count": null,
      "metadata": {
        "id": "3AAv2AD4qQHv"
      },
      "outputs": [],
      "source": []
    }
  ],
  "metadata": {
    "kernelspec": {
      "display_name": "Python 3",
      "language": "python",
      "name": "python3"
    },
    "language_info": {
      "codemirror_mode": {
        "name": "ipython",
        "version": 3
      },
      "file_extension": ".py",
      "mimetype": "text/x-python",
      "name": "python",
      "nbconvert_exporter": "python",
      "pygments_lexer": "ipython3",
      "version": "3.7.3"
    },
    "colab": {
      "provenance": [],
      "include_colab_link": true
    }
  },
  "nbformat": 4,
  "nbformat_minor": 0
}